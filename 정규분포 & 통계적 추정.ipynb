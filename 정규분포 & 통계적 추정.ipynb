{
 "cells": [
  {
   "cell_type": "markdown",
   "id": "1ef7bc23",
   "metadata": {},
   "source": [
    "### 정규분포"
   ]
  },
  {
   "cell_type": "code",
   "execution_count": 1,
   "id": "c74c447c",
   "metadata": {},
   "outputs": [],
   "source": [
    "import numpy as np\n",
    "import pandas as pd\n",
    "import scipy as s\n",
    "from scipy import stats\n",
    "\n",
    "from matplotlib import pyplot as plt\n",
    "import seaborn as sns\n",
    "%matplotlib inline"
   ]
  },
  {
   "cell_type": "markdown",
   "id": "42ae31c0",
   "metadata": {},
   "source": [
    "#### 정규분포의 확률밀도 함수\n",
    "- 평균과 분산에 따라 모양이 결정된다"
   ]
  },
  {
   "cell_type": "code",
   "execution_count": 2,
   "id": "431f4d06",
   "metadata": {},
   "outputs": [
    {
     "data": {
      "text/plain": [
       "0.22831135673627742"
      ]
     },
     "execution_count": 2,
     "metadata": {},
     "output_type": "execute_result"
    }
   ],
   "source": [
    "sigma = 0.8\n",
    "mu = 4\n",
    "x = 3\n",
    "\n",
    "1 / (np.sqrt(2 * np.pi * sigma**2)) * np.exp( -((x - mu)**2) / (2 * sigma**2) )"
   ]
  },
  {
   "cell_type": "code",
   "execution_count": 3,
   "id": "530ccb4f",
   "metadata": {},
   "outputs": [
    {
     "data": {
      "text/plain": [
       "0.2283113567362774"
      ]
     },
     "execution_count": 3,
     "metadata": {},
     "output_type": "execute_result"
    }
   ],
   "source": [
    "stats.norm.pdf(loc=4, scale=0.8, x=3)"
   ]
  },
  {
   "cell_type": "code",
   "execution_count": 5,
   "id": "8c49961a",
   "metadata": {},
   "outputs": [
    {
     "data": {
      "text/plain": [
       "0.2283113567362774"
      ]
     },
     "execution_count": 5,
     "metadata": {},
     "output_type": "execute_result"
    }
   ],
   "source": [
    "norm_dist = stats.norm(loc=4, scale=0.8)\n",
    "norm_dist.pdf(x=3)"
   ]
  },
  {
   "cell_type": "code",
   "execution_count": 8,
   "id": "0f3d8b42",
   "metadata": {},
   "outputs": [
    {
     "data": {
      "image/png": "[encoded data removed]",
      "text/plain": [
       "<Figure size 432x288 with 1 Axes>"
      ]
     },
     "metadata": {
      "needs_background": "light"
     },
     "output_type": "display_data"
    }
   ],
   "source": [
    "# 시각화\n",
    "x_plot = np.arange(start = 1, stop = 7.1, step = 0.1)\n",
    "plt.plot(x_plot, stats.norm.pdf(x = x_plot, loc = 4, scale = 0.8),\n",
    "        color = 'black');"
   ]
  },
  {
   "cell_type": "markdown",
   "id": "d44073c1",
   "metadata": {},
   "source": [
    "#### 표본에서 비율\n",
    "- 모집단의 분포가 위와 같은 경우에 대해 표본이 어떤 값 이하가 되는 비율을 구하려면\n",
    "- 어떤 값 이하가 되는 데이터의 수 / 샘플사이즈"
   ]
  },
  {
   "cell_type": "code",
   "execution_count": 9,
   "id": "42a46cc2",
   "metadata": {},
   "outputs": [
    {
     "data": {
      "text/plain": [
       "array([3.43008747, 4.6030131 , 3.96439754, ..., 4.02171792, 3.98389013,\n",
       "       3.36329979])"
      ]
     },
     "execution_count": 9,
     "metadata": {},
     "output_type": "execute_result"
    }
   ],
   "source": [
    "# 데이터\n",
    "np.random.seed(13)\n",
    "simulated_sample = stats.norm.rvs(\n",
    "    loc = 4, scale = 0.8, size = 100000)\n",
    "simulated_sample"
   ]
  },
  {
   "cell_type": "code",
   "execution_count": 10,
   "id": "16017a08",
   "metadata": {},
   "outputs": [
    {
     "data": {
      "text/plain": [
       "10565"
      ]
     },
     "execution_count": 10,
     "metadata": {},
     "output_type": "execute_result"
    }
   ],
   "source": [
    "# 3이하인 데이터의 개수\n",
    "np.sum(simulated_sample <= 3)"
   ]
  },
  {
   "cell_type": "code",
   "execution_count": 11,
   "id": "194e8e78",
   "metadata": {},
   "outputs": [
    {
     "data": {
      "text/plain": [
       "0.10565"
      ]
     },
     "execution_count": 11,
     "metadata": {},
     "output_type": "execute_result"
    }
   ],
   "source": [
    "# 데이터가 3이하인 비율\n",
    "np.sum(simulated_sample <= 3) / len(simulated_sample)"
   ]
  },
  {
   "cell_type": "code",
   "execution_count": 15,
   "id": "4666dd68",
   "metadata": {},
   "outputs": [
    {
     "data": {
      "image/png": "[encoded data removed]",
      "text/plain": [
       "<Figure size 432x288 with 1 Axes>"
      ]
     },
     "metadata": {
      "needs_background": "light"
     },
     "output_type": "display_data"
    }
   ],
   "source": [
    "# 그래프로 확인\n",
    "x_plot = np.arange(start=1, stop=7.1 , step=0.1)\n",
    "plt.plot(x_plot, stats.norm.pdf(x=x_plot, loc=4, scale=0.8),\n",
    "        color = 'black');\n",
    "plt.vlines(x=3, ymin=0, ymax=0.5, ls='dashed', color='red');"
   ]
  },
  {
   "cell_type": "markdown",
   "id": "10fcb05d",
   "metadata": {},
   "source": [
    "#### 누적분포함수(혹은 분포함수)\n",
    "- 어떤 값 이하가 되는 확률을 계산한 값"
   ]
  },
  {
   "cell_type": "code",
   "execution_count": 16,
   "id": "62076cea",
   "metadata": {},
   "outputs": [
    {
     "data": {
      "text/plain": [
       "0.10564977366685535"
      ]
     },
     "execution_count": 16,
     "metadata": {},
     "output_type": "execute_result"
    }
   ],
   "source": [
    "# x가 3이하일 확률의 코드\n",
    "stats.norm.cdf(loc=4, scale=0.8, x=3)"
   ]
  },
  {
   "cell_type": "code",
   "execution_count": 17,
   "id": "781c9ce9",
   "metadata": {},
   "outputs": [
    {
     "data": {
      "text/plain": [
       "0.5"
      ]
     },
     "execution_count": 17,
     "metadata": {},
     "output_type": "execute_result"
    }
   ],
   "source": [
    "stats.norm.cdf(loc=4, scale=0.8, x=4)"
   ]
  },
  {
   "cell_type": "markdown",
   "id": "ecead825",
   "metadata": {},
   "source": [
    "#### 퍼센트포인트\n",
    "- 어떤 값 이하가 될 확률을 하측확률\n",
    "- 어떤 확률이 될 기준치를 퍼센트포인트\n",
    "- 확률변수 x가 N보다 낮을 확률은 M퍼센트\n",
    "    - N은 변수\n",
    "    - M은 확률: 하측확률\n",
    "    - M을 고정하고 N을 구한느 경우 N: 퍼센트포인트"
   ]
  },
  {
   "cell_type": "code",
   "execution_count": 18,
   "id": "6660ca02",
   "metadata": {},
   "outputs": [
    {
     "data": {
      "text/plain": [
       "2.4320288123679563"
      ]
     },
     "execution_count": 18,
     "metadata": {},
     "output_type": "execute_result"
    }
   ],
   "source": [
    "# 확률이 2.5%가 되는 퍼센트포인트\n",
    "stats.norm.ppf(loc=4, scale=0.8, q=0.025)"
   ]
  },
  {
   "cell_type": "code",
   "execution_count": 19,
   "id": "94616cd3",
   "metadata": {},
   "outputs": [
    {
     "data": {
      "text/plain": [
       "0.10564977366685535"
      ]
     },
     "execution_count": 19,
     "metadata": {},
     "output_type": "execute_result"
    }
   ],
   "source": [
    "lower = stats.norm.cdf(loc=4, scale=0.8, x=3)\n",
    "lower"
   ]
  },
  {
   "cell_type": "code",
   "execution_count": 22,
   "id": "9584d8f7",
   "metadata": {},
   "outputs": [
    {
     "data": {
      "text/plain": [
       "3.0000000000000004"
      ]
     },
     "execution_count": 22,
     "metadata": {},
     "output_type": "execute_result"
    }
   ],
   "source": [
    "stats.norm.ppf(loc=4, scale=0.8, q=lower)"
   ]
  },
  {
   "cell_type": "code",
   "execution_count": 23,
   "id": "bc760c74",
   "metadata": {},
   "outputs": [
    {
     "data": {
      "text/plain": [
       "4.0"
      ]
     },
     "execution_count": 23,
     "metadata": {},
     "output_type": "execute_result"
    }
   ],
   "source": [
    "# 50%가 되는 퍼센트 포인트는 평균!\n",
    "stats.norm.ppf(loc=4, scale=0.8, q=0.5)"
   ]
  },
  {
   "cell_type": "markdown",
   "id": "6d94e849",
   "metadata": {},
   "source": [
    "---"
   ]
  },
  {
   "cell_type": "markdown",
   "id": "8095422c",
   "metadata": {},
   "source": [
    "### 통계적 추정"
   ]
  },
  {
   "cell_type": "code",
   "execution_count": 24,
   "id": "25827661",
   "metadata": {},
   "outputs": [],
   "source": [
    "import numpy as np\n",
    "import pandas as pd\n",
    "import scipy as sp\n",
    "from scipy import stats"
   ]
  },
  {
   "cell_type": "code",
   "execution_count": 25,
   "id": "97e74b30",
   "metadata": {},
   "outputs": [
    {
     "data": {
      "text/plain": [
       "0    4.352982\n",
       "1    3.735304\n",
       "2    5.944617\n",
       "3    3.798326\n",
       "4    4.087688\n",
       "5    5.265985\n",
       "6    3.272614\n",
       "7    3.526691\n",
       "8    4.150083\n",
       "9    3.736104\n",
       "Name: length, dtype: float64"
      ]
     },
     "execution_count": 25,
     "metadata": {},
     "output_type": "execute_result"
    }
   ],
   "source": [
    "# 물고기 몸 길이에 대한 데이터\n",
    "fish = pd.read_csv('../data/3-7-1-fish_length.csv')['length']\n",
    "fish"
   ]
  },
  {
   "cell_type": "code",
   "execution_count": 26,
   "id": "0db67414",
   "metadata": {},
   "outputs": [
    {
     "data": {
      "text/plain": [
       "4.187039324504523"
      ]
     },
     "execution_count": 26,
     "metadata": {},
     "output_type": "execute_result"
    }
   ],
   "source": [
    "# 평균은 표본평균으로 모집단의 평균을 추정해도 좋다\n",
    "mu = np.mean(fish)\n",
    "mu"
   ]
  },
  {
   "cell_type": "code",
   "execution_count": 27,
   "id": "fad1f8d9",
   "metadata": {},
   "outputs": [
    {
     "data": {
      "text/plain": [
       "0.6803017080832622"
      ]
     },
     "execution_count": 27,
     "metadata": {},
     "output_type": "execute_result"
    }
   ],
   "source": [
    "# 모분산의 점추정\n",
    "sigma_2 = np.var(fish, ddof=1)\n",
    "sigma_2"
   ]
  },
  {
   "cell_type": "markdown",
   "id": "9af47c97",
   "metadata": {},
   "source": [
    "- 점 추정: 모집단의 파라미터를 어느 1개의 값으로 추정하는 것\n",
    "- 모분산의 점 추정으로는 불편분산을 사용"
   ]
  },
  {
   "cell_type": "markdown",
   "id": "7a6b283e",
   "metadata": {},
   "source": [
    "#### 구간추정\n",
    "- 구간추정: 추정 값이 폭을 가지게 하는 추정 방법\n",
    "    - 추정 값의 폭 계산에는 확률의 개념을 사용\n",
    "    - 폭을 가지므로 추정오차를 추측할 수 있음\n",
    "    - 추정오차가 작으면 구간추정의 폭이 좁아짐\n",
    "    - 샘플사이즈가 커져도 구간추정의 폭은 좁아짐"
   ]
  },
  {
   "cell_type": "markdown",
   "id": "7da77669",
   "metadata": {},
   "source": [
    "#### 신뢰계수와 신뢰구간\n",
    "- 신뢰계수란 구간추정의 폭에 대한 신뢰 정도를 확률로 표현한 것\n",
    "- 신뢰구간이란 특정 신뢰계수를 만족하는 구간\n",
    "- 신뢰한계: 신뢰구간의 하한 값과 상한 값\n",
    "- 신뢰구간을 계산하는 방법\n",
    "    - t분포의 퍼센트포인트를 사용\n",
    "    - 신뢰계수를 95%라고 했을 때 t분포를 따른다면 2.5% 지점과 97.5% 지점을 계산\n",
    "    - t분포를 따르는 변수가 이 구간에 들어갈 확률은 95%라는 이야기가 됨"
   ]
  },
  {
   "cell_type": "code",
   "execution_count": 28,
   "id": "f61d625a",
   "metadata": {},
   "outputs": [
    {
     "data": {
      "text/plain": [
       "0.2608259396768776"
      ]
     },
     "execution_count": 28,
     "metadata": {},
     "output_type": "execute_result"
    }
   ],
   "source": [
    "# 불편 표준편차로 표준오차 계산\n",
    "sigma = np.std(fish, ddof=1)\n",
    "se = sigma / np.sqrt(len(fish))\n",
    "se"
   ]
  },
  {
   "cell_type": "code",
   "execution_count": 29,
   "id": "ae8e87cb",
   "metadata": {
    "scrolled": true
   },
   "outputs": [
    {
     "data": {
      "text/plain": [
       "(3.597010056835825, 4.777068592173221)"
      ]
     },
     "execution_count": 29,
     "metadata": {},
     "output_type": "execute_result"
    }
   ],
   "source": [
    "# 신뢰구간 계산\n",
    "interval = stats.t.interval(\n",
    "    alpha = 0.95, df = len(fish)-1, loc = mu, scale = se)\n",
    "interval"
   ]
  },
  {
   "cell_type": "markdown",
   "id": "1c02eb0c",
   "metadata": {},
   "source": [
    "- 95% 신뢰구간은 3.597에서 4.777까지"
   ]
  },
  {
   "cell_type": "code",
   "execution_count": null,
   "id": "7895dee0",
   "metadata": {},
   "outputs": [],
   "source": []
  }
 ],
 "metadata": {
  "kernelspec": {
   "display_name": "Python 3 (ipykernel)",
   "language": "python",
   "name": "python3"
  },
  "language_info": {
   "codemirror_mode": {
    "name": "ipython",
    "version": 3
   },
   "file_extension": ".py",
   "mimetype": "text/x-python",
   "name": "python",
   "nbconvert_exporter": "python",
   "pygments_lexer": "ipython3",
   "version": "3.9.7"
  }
 },
 "nbformat": 4,
 "nbformat_minor": 5
}
