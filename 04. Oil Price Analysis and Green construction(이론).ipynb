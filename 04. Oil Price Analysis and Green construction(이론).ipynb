{
 "cells": [
  {
   "cell_type": "markdown",
   "id": "220a64ad",
   "metadata": {},
   "source": [
    "# 04. Oil Price Analysis and Green construction\n"
   ]
  },
  {
   "cell_type": "markdown",
   "id": "74ad13e1",
   "metadata": {},
   "source": [
    "- 셀리니움 설치\n",
    "- 셀프 주유소가 저렴한지 확인할 수 있을까?"
   ]
  },
  {
   "cell_type": "markdown",
   "id": "8ad65c0c",
   "metadata": {},
   "source": [
    "#### Beautiful Soup만으로 해결할 수 없는 것\n",
    "- 접근할 웹 주소를 알 수 없을 때\n",
    "- 자바스크립트를 사용하는 웹페이지의 경우\n",
    "- 웹 브라우저로 접근하지 않으면 안될 때"
   ]
  },
  {
   "cell_type": "markdown",
   "id": "44e49e4e",
   "metadata": {},
   "source": [
    "#### Selenium:\n",
    "- 웹 브라우저를 원격 조작하는 도구\n",
    "- 자동으로 URL을 열고 클릭 등이 가능\n",
    "- 스크롤, 문자의 입력, 화면 캡처 등등\n",
    "- Selenium은 Python모듈도 설치하고 크롬 드라이버도 받아야 한다\n",
    "- conda install selenium\n",
    "- 크롬 버전 확인(크롬 오른쪽 상단 -> Chrome 맞춤설정 및 제어 선택 -> 도움말 -> Chrome 정보) # 94.0"
   ]
  },
  {
   "cell_type": "markdown",
   "id": "625d8c20",
   "metadata": {},
   "source": [
    "## 셀레니움 기초"
   ]
  },
  {
   "cell_type": "markdown",
   "id": "0ceb86ea",
   "metadata": {},
   "source": [
    "#### 셀레니움을 이용해서 처음으로 접근해보기"
   ]
  },
  {
   "cell_type": "code",
   "execution_count": 1,
   "id": "a492a2e0",
   "metadata": {},
   "outputs": [],
   "source": [
    "from selenium import webdriver\n",
    "\n",
    "driver = webdriver.Chrome('C:/Users/고선욱/Documents/ds_study/driver/chromedriver.exe')\n",
    "driver.get('https://pinkwink.kr/')"
   ]
  },
  {
   "cell_type": "markdown",
   "id": "c09bc604",
   "metadata": {},
   "source": [
    "- 크롬드라이버 실행\n",
    "- webdriver.Chrome 명령으로 크롬 드라이버의 경로 지정\n",
    "- get 명령으로 접근하고 싶은 주소 지정\n",
    "- 새로운 크롬이 나타나면서 지정된 웹 주소에 접근함"
   ]
  },
  {
   "cell_type": "markdown",
   "id": "669e392c",
   "metadata": {},
   "source": [
    "#### 스크롤 가능한 높이를 가져오자(현재 스크롤 가능한 길이)"
   ]
  },
  {
   "cell_type": "code",
   "execution_count": 2,
   "id": "a21d2805",
   "metadata": {},
   "outputs": [
    {
     "data": {
      "text/plain": [
       "2643"
      ]
     },
     "execution_count": 2,
     "metadata": {},
     "output_type": "execute_result"
    }
   ],
   "source": [
    "last_height = driver.execute_script('return document.body.scrollHeight')\n",
    "last_height"
   ]
  },
  {
   "cell_type": "markdown",
   "id": "7b5b28fe",
   "metadata": {},
   "source": [
    "#### 화면 스크롤(화면이 제일 하단으로 내려간다)"
   ]
  },
  {
   "cell_type": "code",
   "execution_count": 3,
   "id": "2f4a3d43",
   "metadata": {},
   "outputs": [],
   "source": [
    "driver.execute_script('window.scrollTo(0, document.body.scrollHeight);')"
   ]
  },
  {
   "cell_type": "markdown",
   "id": "e43342cd",
   "metadata": {},
   "source": [
    "#### 화면 페이지를 지정하는 지점의 xpath를 찾자"
   ]
  },
  {
   "cell_type": "markdown",
   "id": "e3c0a90a",
   "metadata": {},
   "source": [
    "- //*[@id=\"paging\"]/ul"
   ]
  },
  {
   "cell_type": "markdown",
   "id": "19508dc8",
   "metadata": {},
   "source": [
    "#### 찾은 xpath 지점까지 스크롤하는 코드"
   ]
  },
  {
   "cell_type": "code",
   "execution_count": 4,
   "id": "a4e72c8c",
   "metadata": {},
   "outputs": [],
   "source": [
    "from selenium.webdriver import ActionChains\n",
    "\n",
    "some_tag = driver.find_element_by_xpath('''//*[@id=\"paging\"]/ul''')\n",
    "\n",
    "action = ActionChains(driver)\n",
    "action.move_to_element(some_tag).perform()"
   ]
  },
  {
   "cell_type": "markdown",
   "id": "b8bf7111",
   "metadata": {},
   "source": [
    "#### id로 찾기"
   ]
  },
  {
   "cell_type": "markdown",
   "id": "0f71df45",
   "metadata": {},
   "source": [
    "<input autocomplete=\"off\" type=\"text\" size=\"10\" class=\"gsc-input\" name=\"search\" title=\"검색\" id=\"gsc-i-id1\" dir=\"ltr\" spellcheck=\"false\" style=\"width: 100%; padding: 0px; border: none; margin: 0px; height: auto; background: url(&quot;https://www.google.com/cse/static/images/1x/ko/branding.png&quot;) left center no-repeat rgb(255, 255, 255); outline: none;\">"
   ]
  },
  {
   "cell_type": "markdown",
   "id": "e6cca887",
   "metadata": {},
   "source": [
    "#### 입력 창에 글자 넣기"
   ]
  },
  {
   "cell_type": "code",
   "execution_count": 5,
   "id": "89392bb9",
   "metadata": {},
   "outputs": [],
   "source": [
    "some_tag = driver.find_element_by_id('''gsc-i-id1''')\n",
    "some_tag.send_keys('data science') # 검색창에 data science를 입력, 로그인 정보에 많이 응용된다"
   ]
  },
  {
   "cell_type": "markdown",
   "id": "8e45dc51",
   "metadata": {},
   "source": [
    "#### 검색 버튼을 찾는다\n",
    "- id가 안보이기 때문에 copy xpath로\n",
    "- //*[@id=\"___gcse_0\"]/div/form/table/tbody/tr/td[2]/button"
   ]
  },
  {
   "cell_type": "markdown",
   "id": "676812b9",
   "metadata": {},
   "source": [
    "#### 버튼을 클릭하는 코드 실행"
   ]
  },
  {
   "cell_type": "code",
   "execution_count": 6,
   "id": "28126759",
   "metadata": {},
   "outputs": [],
   "source": [
    "xpath = '''//*[@id=\"___gcse_0\"]/div/form/table/tbody/tr/td[2]/button'''\n",
    "some_tag = driver.find_element_by_xpath(xpath).click() # .click(): 클릭가능한 link나 button"
   ]
  },
  {
   "cell_type": "markdown",
   "id": "b140ba3a",
   "metadata": {},
   "source": [
    "#### 현재 화면의 html 코드 가져오기"
   ]
  },
  {
   "cell_type": "code",
   "execution_count": 7,
   "id": "9d568c92",
   "metadata": {},
   "outputs": [],
   "source": [
    "from bs4 import BeautifulSoup\n",
    "\n",
    "req = driver.page_source # 현재 드라이버에 떠있는 창의 html 소스코드\n",
    "soup = BeautifulSoup(req, 'html.parser')"
   ]
  },
  {
   "cell_type": "markdown",
   "id": "79e5dd18",
   "metadata": {},
   "source": [
    "#### 광고를 제외한 검색결과(전체)가 나타나는 태그를 찾거나, 검색결과 하나하나를 의미하는 태그를 찾을 수 있음"
   ]
  },
  {
   "cell_type": "markdown",
   "id": "97c396eb",
   "metadata": {},
   "source": [
    "<div class=\"gsc-webResult gsc-result\"><div class=\"gs-webResult gs-result\"><div class=\"gsc-thumbnail-inside\"><div class=\"gs-title\"><a class=\"gs-title\" href=\"https://pinkwink.kr/1286\" target=\"_blank\" dir=\"ltr\" data-cturl=\"https://www.google.com/url?client=internal-element-cse&amp;cx=partner-pub-2982459700139266:1067827452&amp;q=https://pinkwink.kr/1286&amp;sa=U&amp;ved=2ahUKEwj9xtrEp6vzAhUNL6YKHdJbAv4QFnoECAQQAQ&amp;usg=AOvVaw0o2VBxmPMq0ewjYW1K66A4\" data-ctorig=\"https://pinkwink.kr/1286\">[Data Science] Conda 환경을 만들고 기초 모듈 설치하기 - PinkWink</a></div></div><div class=\"gsc-url-top\"><div class=\"gs-bidi-start-align gs-visibleUrl gs-visibleUrl-short\" dir=\"ltr\">pinkwink.kr</div><div class=\"gs-bidi-start-align gs-visibleUrl gs-visibleUrl-long\" dir=\"ltr\" style=\"word-break:break-all;\">https://pinkwink.kr/1286</div><div class=\"gs-bidi-start-align gs-visibleUrl gs-visibleUrl-breadcrumb\"><span>PinkWink</span><span> › ...</span></div></div><div class=\"gsc-table-result\"><div class=\"gsc-table-cell-thumbnail gsc-thumbnail\"><div class=\"gs-image-box gs-web-image-box gs-web-image-box-landscape\"><a class=\"gs-image\" href=\"https://pinkwink.kr/1286\" target=\"_blank\" data-cturl=\"https://www.google.com/url?client=internal-element-cse&amp;cx=partner-pub-2982459700139266:1067827452&amp;q=https://pinkwink.kr/1286&amp;sa=U&amp;ved=2ahUKEwj9xtrEp6vzAhUNL6YKHdJbAv4QFnoECAQQAQ&amp;usg=AOvVaw0o2VBxmPMq0ewjYW1K66A4\" data-ctorig=\"https://pinkwink.kr/1286\"><img class=\"gs-image\" src=\"https://encrypted-tbn3.gstatic.com/images?q=tbn:ANd9GcToZrtmpTJ6zux2_ttRkuy-_ugZXLDwvTXDqMD9QJ91q7Jll8k4SJ05byI\" alt=\"미리보기 이미지\"></a></div></div><div class=\"gsc-table-cell-snippet-close\"><div class=\"gs-title gsc-table-cell-thumbnail gsc-thumbnail-left\"><a class=\"gs-title\" href=\"https://pinkwink.kr/1286\" target=\"_blank\" dir=\"ltr\" data-cturl=\"https://www.google.com/url?client=internal-element-cse&amp;cx=partner-pub-2982459700139266:1067827452&amp;q=https://pinkwink.kr/1286&amp;sa=U&amp;ved=2ahUKEwj9xtrEp6vzAhUNL6YKHdJbAv4QFnoECAQQAQ&amp;usg=AOvVaw0o2VBxmPMq0ewjYW1K66A4\" data-ctorig=\"https://pinkwink.kr/1286\">[Data Science] Conda 환경을 만들고 기초 모듈 설치하기 - PinkWink</a></div><div class=\"gs-bidi-start-align gs-snippet\" dir=\"ltr\">Python의 다양한 버전과 또 엄청~ 다양한 모듈들의 버전과 그들 사이의 관계들로 (모듈을 포함해서) 파이썬을 설치하는 경우의 수가 아주 많이 생길&nbsp;...</div><div class=\"gsc-url-bottom\"><div class=\"gs-bidi-start-align gs-visibleUrl gs-visibleUrl-short\" dir=\"ltr\">pinkwink.kr</div><div class=\"gs-bidi-start-align gs-visibleUrl gs-visibleUrl-long\" dir=\"ltr\" style=\"word-break:break-all;\">https://pinkwink.kr/1286</div></div><div class=\"gs-richsnippet-box\" style=\"display: none;\"></div><div class=\"gs-per-result-labels\" url=\"https://pinkwink.kr/1286\"></div></div></div></div><div class=\"gs-watermark\"><a href=\"http://code.google.com/apis/ajaxsearch/faq.html\" class=\"gs-watermark\" target=\"_blank\">Google에서 발췌 - 10/2021</a></div></div>"
   ]
  },
  {
   "cell_type": "markdown",
   "id": "bbfcd7c0",
   "metadata": {},
   "source": [
    "#### 이렇게 접근이 가능함"
   ]
  },
  {
   "cell_type": "code",
   "execution_count": 8,
   "id": "fef1ce96",
   "metadata": {},
   "outputs": [
    {
     "data": {
      "text/plain": [
       "<div class=\"gsc-webResult gsc-result\"><div class=\"gs-webResult gs-result\"><div class=\"gsc-thumbnail-inside\"><div class=\"gs-title\"><a class=\"gs-title\" data-ctorig=\"https://pinkwink.kr/1286\" data-cturl=\"https://www.google.com/url?client=internal-element-cse&amp;cx=partner-pub-2982459700139266:1067827452&amp;q=https://pinkwink.kr/1286&amp;sa=U&amp;ved=2ahUKEwj9xtrEp6vzAhUNL6YKHdJbAv4QFnoECAQQAQ&amp;usg=AOvVaw0o2VBxmPMq0ewjYW1K66A4\" dir=\"ltr\" href=\"https://pinkwink.kr/1286\" target=\"_blank\">[Data Science] Conda 환경을 만들고 기초 모듈 설치하기 - PinkWink</a></div></div><div class=\"gsc-url-top\"><div class=\"gs-bidi-start-align gs-visibleUrl gs-visibleUrl-short\" dir=\"ltr\">pinkwink.kr</div><div class=\"gs-bidi-start-align gs-visibleUrl gs-visibleUrl-long\" dir=\"ltr\" style=\"word-break:break-all;\">https://pinkwink.kr/1286</div><div class=\"gs-bidi-start-align gs-visibleUrl gs-visibleUrl-breadcrumb\"><span>PinkWink</span><span> › ...</span></div></div><div class=\"gsc-table-result\"><div class=\"gsc-table-cell-thumbnail gsc-thumbnail\"><div class=\"gs-image-box gs-web-image-box gs-web-image-box-landscape\"><a class=\"gs-image\" data-ctorig=\"https://pinkwink.kr/1286\" data-cturl=\"https://www.google.com/url?client=internal-element-cse&amp;cx=partner-pub-2982459700139266:1067827452&amp;q=https://pinkwink.kr/1286&amp;sa=U&amp;ved=2ahUKEwj9xtrEp6vzAhUNL6YKHdJbAv4QFnoECAQQAQ&amp;usg=AOvVaw0o2VBxmPMq0ewjYW1K66A4\" href=\"https://pinkwink.kr/1286\" target=\"_blank\"><img alt=\"미리보기 이미지\" class=\"gs-image\" src=\"https://encrypted-tbn3.gstatic.com/images?q=tbn:ANd9GcToZrtmpTJ6zux2_ttRkuy-_ugZXLDwvTXDqMD9QJ91q7Jll8k4SJ05byI\"/></a></div></div><div class=\"gsc-table-cell-snippet-close\"><div class=\"gs-title gsc-table-cell-thumbnail gsc-thumbnail-left\"><a class=\"gs-title\" data-ctorig=\"https://pinkwink.kr/1286\" data-cturl=\"https://www.google.com/url?client=internal-element-cse&amp;cx=partner-pub-2982459700139266:1067827452&amp;q=https://pinkwink.kr/1286&amp;sa=U&amp;ved=2ahUKEwj9xtrEp6vzAhUNL6YKHdJbAv4QFnoECAQQAQ&amp;usg=AOvVaw0o2VBxmPMq0ewjYW1K66A4\" dir=\"ltr\" href=\"https://pinkwink.kr/1286\" target=\"_blank\">[Data Science] Conda 환경을 만들고 기초 모듈 설치하기 - PinkWink</a></div><div class=\"gs-bidi-start-align gs-snippet\" dir=\"ltr\">Python의 다양한 버전과 또 엄청~ 다양한 모듈들의 버전과 그들 사이의 관계들로 (모듈을 포함해서) 파이썬을 설치하는 경우의 수가 아주 많이 생길 ...</div><div class=\"gsc-url-bottom\"><div class=\"gs-bidi-start-align gs-visibleUrl gs-visibleUrl-short\" dir=\"ltr\">pinkwink.kr</div><div class=\"gs-bidi-start-align gs-visibleUrl gs-visibleUrl-long\" dir=\"ltr\" style=\"word-break:break-all;\">https://pinkwink.kr/1286</div></div><div class=\"gs-richsnippet-box\" style=\"display: none;\"></div><div class=\"gs-per-result-labels\" url=\"https://pinkwink.kr/1286\"></div></div></div></div><div class=\"gs-watermark\"><a class=\"gs-watermark\" href=\"http://code.google.com/apis/ajaxsearch/faq.html\" target=\"_blank\">Google에서 발췌 - 10/2021</a></div></div>"
      ]
     },
     "execution_count": 8,
     "metadata": {},
     "output_type": "execute_result"
    }
   ],
   "source": [
    "result = soup.find_all('div', 'gsc-webResult gsc-result')\n",
    "result[0]"
   ]
  },
  {
   "cell_type": "markdown",
   "id": "a60b9015",
   "metadata": {},
   "source": [
    "## 데이터 확보를 위한 작업\n",
    "- https://www.opinet.co.kr/user/main/mainView.do\n",
    "- 대한민국 주유 가격을 알아보는 사이트"
   ]
  },
  {
   "cell_type": "markdown",
   "id": "7fee5000",
   "metadata": {},
   "source": [
    "### 사이트 구조 분석\n",
    "- 싼 주유소 찾기에서 지역별 선택\n",
    "- https://www.opinet.co.kr/searRgSelect.do\n",
    "- 사이트 구조 확인\n",
    "- 목표 데이터는 브랜드, 가격, 셀프 주유 여부, 위치\n",
    "- 지역에서 광역시도와 시구 정보를 입력\n",
    "- 지도가 바뀌고, 또 잠시 후 주유소 정보가 로딩\n",
    "- 셀프여부를 알려주고 있고, 휘발유 가격도 있다 (상표와 주소 정보를 다루기가 까다로울 것 같음)\n",
    "- 엑셀파일에는 원하는 정보가 모두 존재한다\n",
    "- 서울 => 각 구를 번갈아 선택\n",
    "- 엑셀파일을 다운로드 받아, 다운로드 받은 엑셀 분석\n",
    "- 지역을 선택해도 드러난 웹 주소가 변경되지 않는다\n",
    "- 생각보다는 HTML 소스에서 원하는 정보를 얻는 것도 쉬워보이지 않는다\n",
    "- Beautiful Soup으로는 바로 접근하기 어려워 보인다"
   ]
  },
  {
   "cell_type": "markdown",
   "id": "65a9816d",
   "metadata": {},
   "source": [
    "### 주유 가격을 확인해보자"
   ]
  },
  {
   "cell_type": "code",
   "execution_count": 9,
   "id": "26dd8620",
   "metadata": {},
   "outputs": [],
   "source": [
    "from selenium import webdriver\n",
    "\n",
    "driver = webdriver.Chrome('C:/Users/고선욱/Documents/ds_study/driver/chromedriver.exe')\n",
    "driver.get('http://www.opinet.co.kr')"
   ]
  },
  {
   "cell_type": "markdown",
   "id": "d6ee0d6f",
   "metadata": {},
   "source": [
    "- Selenium에서, Chrome Driver를 이용해서, 원하는 웹 주소로 접근한다"
   ]
  },
  {
   "cell_type": "code",
   "execution_count": 10,
   "id": "ce476e1c",
   "metadata": {},
   "outputs": [],
   "source": [
    "driver.get('http://www.opinet.co.kr/searRgSelect.do')"
   ]
  },
  {
   "cell_type": "markdown",
   "id": "02e8e0dd",
   "metadata": {},
   "source": [
    "- 주유 가격 정보 사이트인 Opinet은 지도 정보를 가지고 있어서 충분한 시간적 여유를 주어야 한다\n",
    "- 간혹 페이지가 전환이 않는 경우가 있다 \n",
    "- 이 주소를 한번 더 실행"
   ]
  },
  {
   "cell_type": "markdown",
   "id": "eaade59d",
   "metadata": {},
   "source": [
    "#### 먼저 광역시도를 선택하는 곳 부터"
   ]
  },
  {
   "cell_type": "markdown",
   "id": "89e9627f",
   "metadata": {},
   "source": [
    "- id가 있다면 편하다\n",
    "- id = \"SIDO_NM0\""
   ]
  },
  {
   "cell_type": "code",
   "execution_count": 22,
   "id": "a95e4a3f",
   "metadata": {},
   "outputs": [
    {
     "data": {
      "text/plain": [
       "<selenium.webdriver.remote.webelement.WebElement (session=\"2f86a266352eb29995f4175b4441936e\", element=\"67dfdabc-f5b0-4085-b33c-321f24a939c7\")>"
      ]
     },
     "execution_count": 22,
     "metadata": {},
     "output_type": "execute_result"
    }
   ],
   "source": [
    "sido_list_raw = driver.find_element_by_id(\"SIDO_NM0\")\n",
    "sido_list_raw"
   ]
  },
  {
   "cell_type": "markdown",
   "id": "717b4303",
   "metadata": {},
   "source": [
    "- find_element_by_id(\"SIDO_NM0\")로 찾았지만 기대한 결과가 나오지 않는다"
   ]
  },
  {
   "cell_type": "code",
   "execution_count": 23,
   "id": "1893def8",
   "metadata": {
    "collapsed": true
   },
   "outputs": [
    {
     "data": {
      "text/plain": [
       "[<selenium.webdriver.remote.webelement.WebElement (session=\"2f86a266352eb29995f4175b4441936e\", element=\"30f81830-8f2c-4bc3-b7f7-235713ce5815\")>,\n",
       " <selenium.webdriver.remote.webelement.WebElement (session=\"2f86a266352eb29995f4175b4441936e\", element=\"cbbf734a-2574-41c5-adcd-af57f38455d9\")>,\n",
       " <selenium.webdriver.remote.webelement.WebElement (session=\"2f86a266352eb29995f4175b4441936e\", element=\"4edb4f78-b173-49d5-bb7e-d82048289eff\")>,\n",
       " <selenium.webdriver.remote.webelement.WebElement (session=\"2f86a266352eb29995f4175b4441936e\", element=\"e9a035d2-fb64-4638-8fa1-b60a6dd291be\")>,\n",
       " <selenium.webdriver.remote.webelement.WebElement (session=\"2f86a266352eb29995f4175b4441936e\", element=\"fc46205f-c5a8-43ff-a6eb-e540fdd8322f\")>,\n",
       " <selenium.webdriver.remote.webelement.WebElement (session=\"2f86a266352eb29995f4175b4441936e\", element=\"4f5cc24f-2a9c-409b-ae8c-e71c747e1409\")>,\n",
       " <selenium.webdriver.remote.webelement.WebElement (session=\"2f86a266352eb29995f4175b4441936e\", element=\"e1a626eb-a4dc-4999-9b5d-dd263db2307a\")>,\n",
       " <selenium.webdriver.remote.webelement.WebElement (session=\"2f86a266352eb29995f4175b4441936e\", element=\"3479c8e5-a0a3-4cf8-ae69-74e5488b04a7\")>,\n",
       " <selenium.webdriver.remote.webelement.WebElement (session=\"2f86a266352eb29995f4175b4441936e\", element=\"fd3c2388-59d9-4414-adc1-4b34ad9271f0\")>,\n",
       " <selenium.webdriver.remote.webelement.WebElement (session=\"2f86a266352eb29995f4175b4441936e\", element=\"717cae09-b1a8-47bf-b7f8-20d228a9df7d\")>,\n",
       " <selenium.webdriver.remote.webelement.WebElement (session=\"2f86a266352eb29995f4175b4441936e\", element=\"d1f7ad6d-9d93-4e9c-b646-dcd562ef0fe7\")>,\n",
       " <selenium.webdriver.remote.webelement.WebElement (session=\"2f86a266352eb29995f4175b4441936e\", element=\"7ae2f3cc-c8bc-485e-9cad-51d348b6b08d\")>,\n",
       " <selenium.webdriver.remote.webelement.WebElement (session=\"2f86a266352eb29995f4175b4441936e\", element=\"90ce9a28-86ab-4f28-a3c9-5050f974bc3b\")>,\n",
       " <selenium.webdriver.remote.webelement.WebElement (session=\"2f86a266352eb29995f4175b4441936e\", element=\"0c97a485-0054-4c9f-90c0-b0156ebf3f32\")>,\n",
       " <selenium.webdriver.remote.webelement.WebElement (session=\"2f86a266352eb29995f4175b4441936e\", element=\"d9108301-7458-4150-ba3c-a00590ce40fb\")>,\n",
       " <selenium.webdriver.remote.webelement.WebElement (session=\"2f86a266352eb29995f4175b4441936e\", element=\"0c5bbecc-cf2a-4390-8377-8cca1f6c3e19\")>,\n",
       " <selenium.webdriver.remote.webelement.WebElement (session=\"2f86a266352eb29995f4175b4441936e\", element=\"4ccee1c4-222c-495c-8c28-06a90ba33123\")>,\n",
       " <selenium.webdriver.remote.webelement.WebElement (session=\"2f86a266352eb29995f4175b4441936e\", element=\"bd2001ea-be93-4eba-a3ad-a1f23bf5617b\")>]"
      ]
     },
     "execution_count": 23,
     "metadata": {},
     "output_type": "execute_result"
    }
   ],
   "source": [
    "sido_list = sido_list_raw.find_elements_by_tag_name(\"option\")\n",
    "sido_list"
   ]
  },
  {
   "cell_type": "markdown",
   "id": "99670a15",
   "metadata": {},
   "source": [
    "- 뭔가 있긴 한데 한글이 보이지 않는다"
   ]
  },
  {
   "cell_type": "code",
   "execution_count": 24,
   "id": "a46387b7",
   "metadata": {},
   "outputs": [
    {
     "data": {
      "text/plain": [
       "['서울특별시',\n",
       " '부산광역시',\n",
       " '대구광역시',\n",
       " '인천광역시',\n",
       " '광주광역시',\n",
       " '대전광역시',\n",
       " '울산광역시',\n",
       " '세종특별자치시',\n",
       " '경기도',\n",
       " '강원도',\n",
       " '충청북도',\n",
       " '충청남도',\n",
       " '전라북도',\n",
       " '전라남도',\n",
       " '경상북도',\n",
       " '경상남도',\n",
       " '제주특별자치도']"
      ]
     },
     "execution_count": 24,
     "metadata": {},
     "output_type": "execute_result"
    }
   ],
   "source": [
    "sido_names = [option.get_attribute(\"value\") for option in sido_list]\n",
    "sido_names.remove(\"\")\n",
    "sido_names"
   ]
  },
  {
   "cell_type": "markdown",
   "id": "3fc2a0d1",
   "metadata": {},
   "source": [
    "- 지역 리스트를 가져올 수 있다\n",
    "- 값은 얻어 왔는데 지역박스의 내용을 바꾸어야 한다\n",
    "- 애초 박스의 id는 SIDO_NM0 였고, driver에서 해당 id를 sido_list_raw 변수로 저장했었다"
   ]
  },
  {
   "cell_type": "code",
   "execution_count": 25,
   "id": "7ac8aed3",
   "metadata": {},
   "outputs": [],
   "source": [
    "sido_list_raw.send_keys(sido_names[1])"
   ]
  },
  {
   "cell_type": "markdown",
   "id": "76ac41c0",
   "metadata": {},
   "source": [
    "- sido_list_raw 변수에 리스트 결과값을 저장한 sido_names\n",
    "- sido_names의 값을 send_keys를 이용해서 보내면 된다\n",
    "- 0은 서울, 1은 부산, 2는 대구...16은 제주"
   ]
  },
  {
   "cell_type": "code",
   "execution_count": 26,
   "id": "81170987",
   "metadata": {},
   "outputs": [],
   "source": [
    "sido_list_raw.send_keys(sido_names[0])"
   ]
  },
  {
   "cell_type": "markdown",
   "id": "dd74d13e",
   "metadata": {},
   "source": [
    "- 우리는 서울이 관심사이니, 서울로 고정하자"
   ]
  },
  {
   "cell_type": "code",
   "execution_count": 27,
   "id": "ea5aa00d",
   "metadata": {
    "collapsed": true
   },
   "outputs": [
    {
     "data": {
      "text/plain": [
       "['강남구',\n",
       " '강동구',\n",
       " '강북구',\n",
       " '강서구',\n",
       " '관악구',\n",
       " '광진구',\n",
       " '구로구',\n",
       " '금천구',\n",
       " '노원구',\n",
       " '도봉구',\n",
       " '동대문구',\n",
       " '동작구',\n",
       " '마포구',\n",
       " '서대문구',\n",
       " '서초구',\n",
       " '성동구',\n",
       " '성북구',\n",
       " '송파구',\n",
       " '양천구',\n",
       " '영등포구',\n",
       " '용산구',\n",
       " '은평구',\n",
       " '종로구',\n",
       " '중구',\n",
       " '중랑구']"
      ]
     },
     "execution_count": 27,
     "metadata": {},
     "output_type": "execute_result"
    }
   ],
   "source": [
    "gu_list_raw = driver.find_element_by_id('SIGUNGU_NM0')\n",
    "gu_list = gu_list_raw.find_elements_by_tag_name('option')\n",
    "\n",
    "gu_names = [option.get_attribute('value') for option in gu_list]\n",
    "gu_names.remove('')\n",
    "gu_names"
   ]
  },
  {
   "cell_type": "markdown",
   "id": "60b2f919",
   "metadata": {},
   "source": [
    "- option에서 리스트안의 변수값들을 저장하자"
   ]
  },
  {
   "cell_type": "code",
   "execution_count": 28,
   "id": "315770aa",
   "metadata": {},
   "outputs": [],
   "source": [
    "gu_list_raw.send_keys(gu_names[1])"
   ]
  },
  {
   "cell_type": "markdown",
   "id": "6174802a",
   "metadata": {},
   "source": [
    "- send_keys(gu_names[num]) 로 해당 값을 변경해보자\n",
    "- 0: 강남구, 1: 강동구...\n",
    "- 엑셀저장 태그 id 값 확인\n",
    "- id = 'glopopd_excel'"
   ]
  },
  {
   "cell_type": "code",
   "execution_count": 29,
   "id": "02f0ce88",
   "metadata": {},
   "outputs": [],
   "source": [
    "element_get_excel = driver.find_element_by_id('glopopd_excel').click()"
   ]
  },
  {
   "cell_type": "markdown",
   "id": "4b5e47ab",
   "metadata": {},
   "source": [
    "- 하나의 시와 구를 선택해서 엑셀 파일 저장까지 되는지 테스트"
   ]
  },
  {
   "cell_type": "code",
   "execution_count": 31,
   "id": "d5803635",
   "metadata": {},
   "outputs": [
    {
     "name": "stderr",
     "output_type": "stream",
     "text": [
      "C:\\Users\\고선욱\\AppData\\Local\\Temp/ipykernel_214460/2545666265.py:4: TqdmDeprecationWarning: This function will be removed in tqdm==5.0.0\n",
      "Please use `tqdm.notebook.tqdm` instead of `tqdm.tqdm_notebook`\n",
      "  for gu in tqdm_notebook(gu_names):\n"
     ]
    },
    {
     "data": {
      "application/vnd.jupyter.widget-view+json": {
       "model_id": "95f582746980423faba560c096f9431a",
       "version_major": 2,
       "version_minor": 0
      },
      "text/plain": [
       "  0%|          | 0/25 [00:00<?, ?it/s]"
      ]
     },
     "metadata": {},
     "output_type": "display_data"
    }
   ],
   "source": [
    "import time\n",
    "from tqdm import tqdm_notebook\n",
    "\n",
    "for gu in tqdm_notebook(gu_names):\n",
    "    element = driver.find_element_by_id('SIGUNGU_NM0')\n",
    "    element.send_keys(gu)\n",
    "    time.sleep(2) # 너무 빨리 사이트를 액세스하면 미처 갱신되지 않았는데 접근해서 에러가 날 수 있다\n",
    "    \n",
    "    element_get_excel = driver.find_element_by_id('glopopd_excel').click()\n",
    "    time.sleep(1)"
   ]
  },
  {
   "cell_type": "markdown",
   "id": "8512e66f",
   "metadata": {},
   "source": [
    "- 반복문으로 모든 구의 데이터를 엑셀 파일로 저장\n",
    "- 다운로드 폴더에 25개의 엑셀파일이 있어야 한다\n",
    "- 25개가 정상적으로 있다면 ds_study - data 폴더에 넣어주자\n",
    "- 엑셀 파일을 열어보면 이렇게 정리되어 있다\n",
    "- 지역, 상호, 주소, 상표, 전화번호, 셀프여부, 종류"
   ]
  },
  {
   "cell_type": "code",
   "execution_count": 32,
   "id": "9d561269",
   "metadata": {},
   "outputs": [],
   "source": [
    "driver.close()"
   ]
  },
  {
   "cell_type": "markdown",
   "id": "c9e541e2",
   "metadata": {},
   "source": [
    "- 모든 작업이 끝나면 반드시 driver.close()를 해주자"
   ]
  },
  {
   "cell_type": "markdown",
   "id": "565dcbbb",
   "metadata": {},
   "source": [
    "## 데이터 정리하기"
   ]
  },
  {
   "cell_type": "markdown",
   "id": "876762eb",
   "metadata": {},
   "source": [
    "### 데이터 읽어오기"
   ]
  },
  {
   "cell_type": "code",
   "execution_count": 1,
   "id": "0bd76493",
   "metadata": {},
   "outputs": [],
   "source": [
    "import pandas as pd\n",
    "from glob import glob"
   ]
  },
  {
   "cell_type": "code",
   "execution_count": 2,
   "id": "ea4223ab",
   "metadata": {},
   "outputs": [
    {
     "data": {
      "text/plain": [
       "['C:/Users/고선욱/Documents/ds_study/data\\\\지역_위치별(주유소) (1).xls',\n",
       " 'C:/Users/고선욱/Documents/ds_study/data\\\\지역_위치별(주유소) (10).xls',\n",
       " 'C:/Users/고선욱/Documents/ds_study/data\\\\지역_위치별(주유소) (11).xls',\n",
       " 'C:/Users/고선욱/Documents/ds_study/data\\\\지역_위치별(주유소) (12).xls',\n",
       " 'C:/Users/고선욱/Documents/ds_study/data\\\\지역_위치별(주유소) (13).xls',\n",
       " 'C:/Users/고선욱/Documents/ds_study/data\\\\지역_위치별(주유소) (14).xls',\n",
       " 'C:/Users/고선욱/Documents/ds_study/data\\\\지역_위치별(주유소) (15).xls',\n",
       " 'C:/Users/고선욱/Documents/ds_study/data\\\\지역_위치별(주유소) (16).xls',\n",
       " 'C:/Users/고선욱/Documents/ds_study/data\\\\지역_위치별(주유소) (17).xls',\n",
       " 'C:/Users/고선욱/Documents/ds_study/data\\\\지역_위치별(주유소) (18).xls',\n",
       " 'C:/Users/고선욱/Documents/ds_study/data\\\\지역_위치별(주유소) (19).xls',\n",
       " 'C:/Users/고선욱/Documents/ds_study/data\\\\지역_위치별(주유소) (2).xls',\n",
       " 'C:/Users/고선욱/Documents/ds_study/data\\\\지역_위치별(주유소) (20).xls',\n",
       " 'C:/Users/고선욱/Documents/ds_study/data\\\\지역_위치별(주유소) (21).xls',\n",
       " 'C:/Users/고선욱/Documents/ds_study/data\\\\지역_위치별(주유소) (22).xls',\n",
       " 'C:/Users/고선욱/Documents/ds_study/data\\\\지역_위치별(주유소) (23).xls',\n",
       " 'C:/Users/고선욱/Documents/ds_study/data\\\\지역_위치별(주유소) (24).xls',\n",
       " 'C:/Users/고선욱/Documents/ds_study/data\\\\지역_위치별(주유소) (3).xls',\n",
       " 'C:/Users/고선욱/Documents/ds_study/data\\\\지역_위치별(주유소) (4).xls',\n",
       " 'C:/Users/고선욱/Documents/ds_study/data\\\\지역_위치별(주유소) (5).xls',\n",
       " 'C:/Users/고선욱/Documents/ds_study/data\\\\지역_위치별(주유소) (6).xls',\n",
       " 'C:/Users/고선욱/Documents/ds_study/data\\\\지역_위치별(주유소) (7).xls',\n",
       " 'C:/Users/고선욱/Documents/ds_study/data\\\\지역_위치별(주유소) (8).xls',\n",
       " 'C:/Users/고선욱/Documents/ds_study/data\\\\지역_위치별(주유소) (9).xls',\n",
       " 'C:/Users/고선욱/Documents/ds_study/data\\\\지역_위치별(주유소).xls']"
      ]
     },
     "execution_count": 2,
     "metadata": {},
     "output_type": "execute_result"
    }
   ],
   "source": [
    "glob('C:/Users/고선욱/Documents/ds_study/data/지역_*.xls')"
   ]
  },
  {
   "cell_type": "markdown",
   "id": "6d6ed837",
   "metadata": {},
   "source": [
    "- 파일 목록을 한 번에 가져올 수 있다"
   ]
  },
  {
   "cell_type": "code",
   "execution_count": 3,
   "id": "084225d8",
   "metadata": {},
   "outputs": [
    {
     "data": {
      "text/plain": [
       "['C:/Users/고선욱/Documents/ds_study/data\\\\지역_위치별(주유소) (1).xls',\n",
       " 'C:/Users/고선욱/Documents/ds_study/data\\\\지역_위치별(주유소) (10).xls',\n",
       " 'C:/Users/고선욱/Documents/ds_study/data\\\\지역_위치별(주유소) (11).xls',\n",
       " 'C:/Users/고선욱/Documents/ds_study/data\\\\지역_위치별(주유소) (12).xls',\n",
       " 'C:/Users/고선욱/Documents/ds_study/data\\\\지역_위치별(주유소) (13).xls',\n",
       " 'C:/Users/고선욱/Documents/ds_study/data\\\\지역_위치별(주유소) (14).xls',\n",
       " 'C:/Users/고선욱/Documents/ds_study/data\\\\지역_위치별(주유소) (15).xls',\n",
       " 'C:/Users/고선욱/Documents/ds_study/data\\\\지역_위치별(주유소) (16).xls',\n",
       " 'C:/Users/고선욱/Documents/ds_study/data\\\\지역_위치별(주유소) (17).xls',\n",
       " 'C:/Users/고선욱/Documents/ds_study/data\\\\지역_위치별(주유소) (18).xls',\n",
       " 'C:/Users/고선욱/Documents/ds_study/data\\\\지역_위치별(주유소) (19).xls',\n",
       " 'C:/Users/고선욱/Documents/ds_study/data\\\\지역_위치별(주유소) (2).xls',\n",
       " 'C:/Users/고선욱/Documents/ds_study/data\\\\지역_위치별(주유소) (20).xls',\n",
       " 'C:/Users/고선욱/Documents/ds_study/data\\\\지역_위치별(주유소) (21).xls',\n",
       " 'C:/Users/고선욱/Documents/ds_study/data\\\\지역_위치별(주유소) (22).xls',\n",
       " 'C:/Users/고선욱/Documents/ds_study/data\\\\지역_위치별(주유소) (23).xls',\n",
       " 'C:/Users/고선욱/Documents/ds_study/data\\\\지역_위치별(주유소) (24).xls',\n",
       " 'C:/Users/고선욱/Documents/ds_study/data\\\\지역_위치별(주유소) (3).xls',\n",
       " 'C:/Users/고선욱/Documents/ds_study/data\\\\지역_위치별(주유소) (4).xls',\n",
       " 'C:/Users/고선욱/Documents/ds_study/data\\\\지역_위치별(주유소) (5).xls',\n",
       " 'C:/Users/고선욱/Documents/ds_study/data\\\\지역_위치별(주유소) (6).xls',\n",
       " 'C:/Users/고선욱/Documents/ds_study/data\\\\지역_위치별(주유소) (7).xls',\n",
       " 'C:/Users/고선욱/Documents/ds_study/data\\\\지역_위치별(주유소) (8).xls',\n",
       " 'C:/Users/고선욱/Documents/ds_study/data\\\\지역_위치별(주유소) (9).xls',\n",
       " 'C:/Users/고선욱/Documents/ds_study/data\\\\지역_위치별(주유소).xls']"
      ]
     },
     "execution_count": 3,
     "metadata": {},
     "output_type": "execute_result"
    }
   ],
   "source": [
    "stations_files = glob('C:/Users/고선욱/Documents/ds_study/data/지역_*.xls')\n",
    "stations_files"
   ]
  },
  {
   "cell_type": "markdown",
   "id": "50eb8302",
   "metadata": {},
   "source": [
    "- 파일명 저장"
   ]
  },
  {
   "cell_type": "code",
   "execution_count": 4,
   "id": "cb77261b",
   "metadata": {},
   "outputs": [
    {
     "data": {
      "text/html": [
       "<div>\n",
       "<style scoped>\n",
       "    .dataframe tbody tr th:only-of-type {\n",
       "        vertical-align: middle;\n",
       "    }\n",
       "\n",
       "    .dataframe tbody tr th {\n",
       "        vertical-align: top;\n",
       "    }\n",
       "\n",
       "    .dataframe thead th {\n",
       "        text-align: right;\n",
       "    }\n",
       "</style>\n",
       "<table border=\"1\" class=\"dataframe\">\n",
       "  <thead>\n",
       "    <tr style=\"text-align: right;\">\n",
       "      <th></th>\n",
       "      <th>지역</th>\n",
       "      <th>상호</th>\n",
       "      <th>주소</th>\n",
       "      <th>상표</th>\n",
       "      <th>전화번호</th>\n",
       "      <th>셀프여부</th>\n",
       "      <th>고급휘발유</th>\n",
       "      <th>휘발유</th>\n",
       "      <th>경유</th>\n",
       "      <th>실내등유</th>\n",
       "    </tr>\n",
       "  </thead>\n",
       "  <tbody>\n",
       "    <tr>\n",
       "      <th>0</th>\n",
       "      <td>서울특별시</td>\n",
       "      <td>재건에너지 재정제2주유소 고속셀프지점</td>\n",
       "      <td>서울특별시 강동구  천호대로 1246 (둔촌제2동)</td>\n",
       "      <td>현대오일뱅크</td>\n",
       "      <td>02-487-2030</td>\n",
       "      <td>Y</td>\n",
       "      <td>-</td>\n",
       "      <td>1648</td>\n",
       "      <td>1448</td>\n",
       "      <td>-</td>\n",
       "    </tr>\n",
       "    <tr>\n",
       "      <th>1</th>\n",
       "      <td>서울특별시</td>\n",
       "      <td>구천면주유소</td>\n",
       "      <td>서울 강동구 구천면로 357 (암사동)</td>\n",
       "      <td>현대오일뱅크</td>\n",
       "      <td>02-441-0536</td>\n",
       "      <td>N</td>\n",
       "      <td>-</td>\n",
       "      <td>1693</td>\n",
       "      <td>1487</td>\n",
       "      <td>-</td>\n",
       "    </tr>\n",
       "    <tr>\n",
       "      <th>2</th>\n",
       "      <td>서울특별시</td>\n",
       "      <td>지에스칼텍스㈜ 동서울주유소</td>\n",
       "      <td>서울 강동구 천호대로 1456 (상일동)</td>\n",
       "      <td>GS칼텍스</td>\n",
       "      <td>02-426-5372</td>\n",
       "      <td>Y</td>\n",
       "      <td>-</td>\n",
       "      <td>1712</td>\n",
       "      <td>1512</td>\n",
       "      <td>-</td>\n",
       "    </tr>\n",
       "    <tr>\n",
       "      <th>3</th>\n",
       "      <td>서울특별시</td>\n",
       "      <td>현대오일뱅크㈜직영 명일셀프주유소</td>\n",
       "      <td>서울 강동구 고덕로 168 (명일동)</td>\n",
       "      <td>현대오일뱅크</td>\n",
       "      <td>02-3428-1739</td>\n",
       "      <td>Y</td>\n",
       "      <td>1939</td>\n",
       "      <td>1719</td>\n",
       "      <td>1519</td>\n",
       "      <td>-</td>\n",
       "    </tr>\n",
       "    <tr>\n",
       "      <th>4</th>\n",
       "      <td>서울특별시</td>\n",
       "      <td>방아다리주유소</td>\n",
       "      <td>서울 강동구 동남로 811 (명일동)</td>\n",
       "      <td>SK에너지</td>\n",
       "      <td>02-442-5145</td>\n",
       "      <td>Y</td>\n",
       "      <td>-</td>\n",
       "      <td>1720</td>\n",
       "      <td>1520</td>\n",
       "      <td>-</td>\n",
       "    </tr>\n",
       "  </tbody>\n",
       "</table>\n",
       "</div>"
      ],
      "text/plain": [
       "      지역                    상호                            주소      상표  \\\n",
       "0  서울특별시  재건에너지 재정제2주유소 고속셀프지점  서울특별시 강동구  천호대로 1246 (둔촌제2동)  현대오일뱅크   \n",
       "1  서울특별시                구천면주유소         서울 강동구 구천면로 357 (암사동)  현대오일뱅크   \n",
       "2  서울특별시        지에스칼텍스㈜ 동서울주유소        서울 강동구 천호대로 1456 (상일동)   GS칼텍스   \n",
       "3  서울특별시     현대오일뱅크㈜직영 명일셀프주유소          서울 강동구 고덕로 168 (명일동)  현대오일뱅크   \n",
       "4  서울특별시               방아다리주유소          서울 강동구 동남로 811 (명일동)   SK에너지   \n",
       "\n",
       "           전화번호 셀프여부 고급휘발유   휘발유    경유 실내등유  \n",
       "0   02-487-2030    Y     -  1648  1448    -  \n",
       "1   02-441-0536    N     -  1693  1487    -  \n",
       "2   02-426-5372    Y     -  1712  1512    -  \n",
       "3  02-3428-1739    Y  1939  1719  1519    -  \n",
       "4   02-442-5145    Y     -  1720  1520    -  "
      ]
     },
     "execution_count": 4,
     "metadata": {},
     "output_type": "execute_result"
    }
   ],
   "source": [
    "tmp = pd.read_excel(stations_files[0], header=2)\n",
    "tmp.head()"
   ]
  },
  {
   "cell_type": "markdown",
   "id": "5cafedb2",
   "metadata": {},
   "source": [
    "- 먼저 하나를 읽어본다"
   ]
  },
  {
   "cell_type": "code",
   "execution_count": 5,
   "id": "0cd5ce79",
   "metadata": {},
   "outputs": [],
   "source": [
    "tmp_raw = []\n",
    "\n",
    "for file_name in stations_files:\n",
    "    tmp = pd.read_excel(file_name, header=2)\n",
    "    tmp_raw.append(tmp)\n",
    "\n",
    "station_raw = pd.concat(tmp_raw)"
   ]
  },
  {
   "cell_type": "markdown",
   "id": "3596a6c5",
   "metadata": {},
   "source": [
    "- 형식이 동일하고 연달아 붙이기만 하면 될 때는 concat 명령을 사용한다"
   ]
  },
  {
   "cell_type": "code",
   "execution_count": 6,
   "id": "3a839b73",
   "metadata": {},
   "outputs": [
    {
     "name": "stdout",
     "output_type": "stream",
     "text": [
      "<class 'pandas.core.frame.DataFrame'>\n",
      "Int64Index: 478 entries, 0 to 37\n",
      "Data columns (total 10 columns):\n",
      " #   Column  Non-Null Count  Dtype \n",
      "---  ------  --------------  ----- \n",
      " 0   지역      478 non-null    object\n",
      " 1   상호      478 non-null    object\n",
      " 2   주소      478 non-null    object\n",
      " 3   상표      478 non-null    object\n",
      " 4   전화번호    478 non-null    object\n",
      " 5   셀프여부    478 non-null    object\n",
      " 6   고급휘발유   478 non-null    object\n",
      " 7   휘발유     478 non-null    object\n",
      " 8   경유      478 non-null    object\n",
      " 9   실내등유    478 non-null    object\n",
      "dtypes: object(10)\n",
      "memory usage: 41.1+ KB\n"
     ]
    }
   ],
   "source": [
    "station_raw.info()"
   ]
  },
  {
   "cell_type": "code",
   "execution_count": 7,
   "id": "50bbc5ff",
   "metadata": {},
   "outputs": [
    {
     "data": {
      "text/html": [
       "<div>\n",
       "<style scoped>\n",
       "    .dataframe tbody tr th:only-of-type {\n",
       "        vertical-align: middle;\n",
       "    }\n",
       "\n",
       "    .dataframe tbody tr th {\n",
       "        vertical-align: top;\n",
       "    }\n",
       "\n",
       "    .dataframe thead th {\n",
       "        text-align: right;\n",
       "    }\n",
       "</style>\n",
       "<table border=\"1\" class=\"dataframe\">\n",
       "  <thead>\n",
       "    <tr style=\"text-align: right;\">\n",
       "      <th></th>\n",
       "      <th>지역</th>\n",
       "      <th>상호</th>\n",
       "      <th>주소</th>\n",
       "      <th>상표</th>\n",
       "      <th>전화번호</th>\n",
       "      <th>셀프여부</th>\n",
       "      <th>고급휘발유</th>\n",
       "      <th>휘발유</th>\n",
       "      <th>경유</th>\n",
       "      <th>실내등유</th>\n",
       "    </tr>\n",
       "  </thead>\n",
       "  <tbody>\n",
       "    <tr>\n",
       "      <th>0</th>\n",
       "      <td>서울특별시</td>\n",
       "      <td>재건에너지 재정제2주유소 고속셀프지점</td>\n",
       "      <td>서울특별시 강동구  천호대로 1246 (둔촌제2동)</td>\n",
       "      <td>현대오일뱅크</td>\n",
       "      <td>02-487-2030</td>\n",
       "      <td>Y</td>\n",
       "      <td>-</td>\n",
       "      <td>1648</td>\n",
       "      <td>1448</td>\n",
       "      <td>-</td>\n",
       "    </tr>\n",
       "    <tr>\n",
       "      <th>1</th>\n",
       "      <td>서울특별시</td>\n",
       "      <td>구천면주유소</td>\n",
       "      <td>서울 강동구 구천면로 357 (암사동)</td>\n",
       "      <td>현대오일뱅크</td>\n",
       "      <td>02-441-0536</td>\n",
       "      <td>N</td>\n",
       "      <td>-</td>\n",
       "      <td>1693</td>\n",
       "      <td>1487</td>\n",
       "      <td>-</td>\n",
       "    </tr>\n",
       "    <tr>\n",
       "      <th>2</th>\n",
       "      <td>서울특별시</td>\n",
       "      <td>지에스칼텍스㈜ 동서울주유소</td>\n",
       "      <td>서울 강동구 천호대로 1456 (상일동)</td>\n",
       "      <td>GS칼텍스</td>\n",
       "      <td>02-426-5372</td>\n",
       "      <td>Y</td>\n",
       "      <td>-</td>\n",
       "      <td>1712</td>\n",
       "      <td>1512</td>\n",
       "      <td>-</td>\n",
       "    </tr>\n",
       "    <tr>\n",
       "      <th>3</th>\n",
       "      <td>서울특별시</td>\n",
       "      <td>현대오일뱅크㈜직영 명일셀프주유소</td>\n",
       "      <td>서울 강동구 고덕로 168 (명일동)</td>\n",
       "      <td>현대오일뱅크</td>\n",
       "      <td>02-3428-1739</td>\n",
       "      <td>Y</td>\n",
       "      <td>1939</td>\n",
       "      <td>1719</td>\n",
       "      <td>1519</td>\n",
       "      <td>-</td>\n",
       "    </tr>\n",
       "    <tr>\n",
       "      <th>4</th>\n",
       "      <td>서울특별시</td>\n",
       "      <td>방아다리주유소</td>\n",
       "      <td>서울 강동구 동남로 811 (명일동)</td>\n",
       "      <td>SK에너지</td>\n",
       "      <td>02-442-5145</td>\n",
       "      <td>Y</td>\n",
       "      <td>-</td>\n",
       "      <td>1720</td>\n",
       "      <td>1520</td>\n",
       "      <td>-</td>\n",
       "    </tr>\n",
       "  </tbody>\n",
       "</table>\n",
       "</div>"
      ],
      "text/plain": [
       "      지역                    상호                            주소      상표  \\\n",
       "0  서울특별시  재건에너지 재정제2주유소 고속셀프지점  서울특별시 강동구  천호대로 1246 (둔촌제2동)  현대오일뱅크   \n",
       "1  서울특별시                구천면주유소         서울 강동구 구천면로 357 (암사동)  현대오일뱅크   \n",
       "2  서울특별시        지에스칼텍스㈜ 동서울주유소        서울 강동구 천호대로 1456 (상일동)   GS칼텍스   \n",
       "3  서울특별시     현대오일뱅크㈜직영 명일셀프주유소          서울 강동구 고덕로 168 (명일동)  현대오일뱅크   \n",
       "4  서울특별시               방아다리주유소          서울 강동구 동남로 811 (명일동)   SK에너지   \n",
       "\n",
       "           전화번호 셀프여부 고급휘발유   휘발유    경유 실내등유  \n",
       "0   02-487-2030    Y     -  1648  1448    -  \n",
       "1   02-441-0536    N     -  1693  1487    -  \n",
       "2   02-426-5372    Y     -  1712  1512    -  \n",
       "3  02-3428-1739    Y  1939  1719  1519    -  \n",
       "4   02-442-5145    Y     -  1720  1520    -  "
      ]
     },
     "execution_count": 7,
     "metadata": {},
     "output_type": "execute_result"
    }
   ],
   "source": [
    "station_raw.head()"
   ]
  },
  {
   "cell_type": "markdown",
   "id": "7d44c59d",
   "metadata": {},
   "source": [
    "### 데이터 편집하기"
   ]
  },
  {
   "cell_type": "code",
   "execution_count": 9,
   "id": "9f234feb",
   "metadata": {},
   "outputs": [
    {
     "data": {
      "text/html": [
       "<div>\n",
       "<style scoped>\n",
       "    .dataframe tbody tr th:only-of-type {\n",
       "        vertical-align: middle;\n",
       "    }\n",
       "\n",
       "    .dataframe tbody tr th {\n",
       "        vertical-align: top;\n",
       "    }\n",
       "\n",
       "    .dataframe thead th {\n",
       "        text-align: right;\n",
       "    }\n",
       "</style>\n",
       "<table border=\"1\" class=\"dataframe\">\n",
       "  <thead>\n",
       "    <tr style=\"text-align: right;\">\n",
       "      <th></th>\n",
       "      <th>상호</th>\n",
       "      <th>주소</th>\n",
       "      <th>가격</th>\n",
       "      <th>셀프</th>\n",
       "      <th>상표</th>\n",
       "    </tr>\n",
       "  </thead>\n",
       "  <tbody>\n",
       "    <tr>\n",
       "      <th>0</th>\n",
       "      <td>재건에너지 재정제2주유소 고속셀프지점</td>\n",
       "      <td>서울특별시 강동구  천호대로 1246 (둔촌제2동)</td>\n",
       "      <td>1648</td>\n",
       "      <td>Y</td>\n",
       "      <td>현대오일뱅크</td>\n",
       "    </tr>\n",
       "    <tr>\n",
       "      <th>1</th>\n",
       "      <td>구천면주유소</td>\n",
       "      <td>서울 강동구 구천면로 357 (암사동)</td>\n",
       "      <td>1693</td>\n",
       "      <td>N</td>\n",
       "      <td>현대오일뱅크</td>\n",
       "    </tr>\n",
       "    <tr>\n",
       "      <th>2</th>\n",
       "      <td>지에스칼텍스㈜ 동서울주유소</td>\n",
       "      <td>서울 강동구 천호대로 1456 (상일동)</td>\n",
       "      <td>1712</td>\n",
       "      <td>Y</td>\n",
       "      <td>GS칼텍스</td>\n",
       "    </tr>\n",
       "    <tr>\n",
       "      <th>3</th>\n",
       "      <td>현대오일뱅크㈜직영 명일셀프주유소</td>\n",
       "      <td>서울 강동구 고덕로 168 (명일동)</td>\n",
       "      <td>1719</td>\n",
       "      <td>Y</td>\n",
       "      <td>현대오일뱅크</td>\n",
       "    </tr>\n",
       "    <tr>\n",
       "      <th>4</th>\n",
       "      <td>방아다리주유소</td>\n",
       "      <td>서울 강동구 동남로 811 (명일동)</td>\n",
       "      <td>1720</td>\n",
       "      <td>Y</td>\n",
       "      <td>SK에너지</td>\n",
       "    </tr>\n",
       "  </tbody>\n",
       "</table>\n",
       "</div>"
      ],
      "text/plain": [
       "                     상호                            주소    가격 셀프      상표\n",
       "0  재건에너지 재정제2주유소 고속셀프지점  서울특별시 강동구  천호대로 1246 (둔촌제2동)  1648  Y  현대오일뱅크\n",
       "1                구천면주유소         서울 강동구 구천면로 357 (암사동)  1693  N  현대오일뱅크\n",
       "2        지에스칼텍스㈜ 동서울주유소        서울 강동구 천호대로 1456 (상일동)  1712  Y   GS칼텍스\n",
       "3     현대오일뱅크㈜직영 명일셀프주유소          서울 강동구 고덕로 168 (명일동)  1719  Y  현대오일뱅크\n",
       "4               방아다리주유소          서울 강동구 동남로 811 (명일동)  1720  Y   SK에너지"
      ]
     },
     "execution_count": 9,
     "metadata": {},
     "output_type": "execute_result"
    }
   ],
   "source": [
    "stations = pd.DataFrame(\n",
    "    {\n",
    "        '상호': station_raw['상호'],\n",
    "        '주소': station_raw['주소'],\n",
    "        '가격': station_raw['휘발유'],\n",
    "        '셀프': station_raw['셀프여부'],\n",
    "        '상표': station_raw['상표'],\n",
    "    }\n",
    ")\n",
    "stations.head()"
   ]
  },
  {
   "cell_type": "markdown",
   "id": "d53a454a",
   "metadata": {},
   "source": [
    "- 원하는 정보만 다듬어보자"
   ]
  },
  {
   "cell_type": "code",
   "execution_count": 10,
   "id": "1aac8214",
   "metadata": {},
   "outputs": [
    {
     "data": {
      "text/html": [
       "<div>\n",
       "<style scoped>\n",
       "    .dataframe tbody tr th:only-of-type {\n",
       "        vertical-align: middle;\n",
       "    }\n",
       "\n",
       "    .dataframe tbody tr th {\n",
       "        vertical-align: top;\n",
       "    }\n",
       "\n",
       "    .dataframe thead th {\n",
       "        text-align: right;\n",
       "    }\n",
       "</style>\n",
       "<table border=\"1\" class=\"dataframe\">\n",
       "  <thead>\n",
       "    <tr style=\"text-align: right;\">\n",
       "      <th></th>\n",
       "      <th>상호</th>\n",
       "      <th>주소</th>\n",
       "      <th>가격</th>\n",
       "      <th>셀프</th>\n",
       "      <th>상표</th>\n",
       "      <th>구</th>\n",
       "    </tr>\n",
       "  </thead>\n",
       "  <tbody>\n",
       "    <tr>\n",
       "      <th>0</th>\n",
       "      <td>재건에너지 재정제2주유소 고속셀프지점</td>\n",
       "      <td>서울특별시 강동구  천호대로 1246 (둔촌제2동)</td>\n",
       "      <td>1648</td>\n",
       "      <td>Y</td>\n",
       "      <td>현대오일뱅크</td>\n",
       "      <td>강동구</td>\n",
       "    </tr>\n",
       "    <tr>\n",
       "      <th>1</th>\n",
       "      <td>구천면주유소</td>\n",
       "      <td>서울 강동구 구천면로 357 (암사동)</td>\n",
       "      <td>1693</td>\n",
       "      <td>N</td>\n",
       "      <td>현대오일뱅크</td>\n",
       "      <td>강동구</td>\n",
       "    </tr>\n",
       "    <tr>\n",
       "      <th>2</th>\n",
       "      <td>지에스칼텍스㈜ 동서울주유소</td>\n",
       "      <td>서울 강동구 천호대로 1456 (상일동)</td>\n",
       "      <td>1712</td>\n",
       "      <td>Y</td>\n",
       "      <td>GS칼텍스</td>\n",
       "      <td>강동구</td>\n",
       "    </tr>\n",
       "    <tr>\n",
       "      <th>3</th>\n",
       "      <td>현대오일뱅크㈜직영 명일셀프주유소</td>\n",
       "      <td>서울 강동구 고덕로 168 (명일동)</td>\n",
       "      <td>1719</td>\n",
       "      <td>Y</td>\n",
       "      <td>현대오일뱅크</td>\n",
       "      <td>강동구</td>\n",
       "    </tr>\n",
       "    <tr>\n",
       "      <th>4</th>\n",
       "      <td>방아다리주유소</td>\n",
       "      <td>서울 강동구 동남로 811 (명일동)</td>\n",
       "      <td>1720</td>\n",
       "      <td>Y</td>\n",
       "      <td>SK에너지</td>\n",
       "      <td>강동구</td>\n",
       "    </tr>\n",
       "  </tbody>\n",
       "</table>\n",
       "</div>"
      ],
      "text/plain": [
       "                     상호                            주소    가격 셀프      상표    구\n",
       "0  재건에너지 재정제2주유소 고속셀프지점  서울특별시 강동구  천호대로 1246 (둔촌제2동)  1648  Y  현대오일뱅크  강동구\n",
       "1                구천면주유소         서울 강동구 구천면로 357 (암사동)  1693  N  현대오일뱅크  강동구\n",
       "2        지에스칼텍스㈜ 동서울주유소        서울 강동구 천호대로 1456 (상일동)  1712  Y   GS칼텍스  강동구\n",
       "3     현대오일뱅크㈜직영 명일셀프주유소          서울 강동구 고덕로 168 (명일동)  1719  Y  현대오일뱅크  강동구\n",
       "4               방아다리주유소          서울 강동구 동남로 811 (명일동)  1720  Y   SK에너지  강동구"
      ]
     },
     "execution_count": 10,
     "metadata": {},
     "output_type": "execute_result"
    }
   ],
   "source": [
    "stations['구'] = [eachAddress.split()[1] for eachAddress in stations['주소']]\n",
    "stations.head()"
   ]
  },
  {
   "cell_type": "markdown",
   "id": "d9974503",
   "metadata": {},
   "source": [
    "- 평균적으로 주유가격이 비싼 구를 확인하기 위해 주소에서 구 정보를 가져오자"
   ]
  },
  {
   "cell_type": "code",
   "execution_count": 11,
   "id": "6deaca57",
   "metadata": {},
   "outputs": [
    {
     "data": {
      "text/plain": [
       "array(['강동구', '동대문구', '동작구', '마포구', '서대문구', '서초구', '성동구', '성북구', '송파구',\n",
       "       '양천구', '영등포구', '강북구', '용산구', '은평구', '종로구', '중구', '중랑구', '강서구',\n",
       "       '관악구', '광진구', '구로구', '금천구', '노원구', '도봉구', '강남구'], dtype=object)"
      ]
     },
     "execution_count": 11,
     "metadata": {},
     "output_type": "execute_result"
    }
   ],
   "source": [
    "stations['구'].unique()"
   ]
  },
  {
   "cell_type": "code",
   "execution_count": 12,
   "id": "eb3519ac",
   "metadata": {},
   "outputs": [
    {
     "data": {
      "text/plain": [
       "25"
      ]
     },
     "execution_count": 12,
     "metadata": {},
     "output_type": "execute_result"
    }
   ],
   "source": [
    "len(stations['구'].unique())"
   ]
  },
  {
   "cell_type": "code",
   "execution_count": 16,
   "id": "f89861e7",
   "metadata": {},
   "outputs": [],
   "source": [
    "# stations[stations['구'] == '서울특별시']"
   ]
  },
  {
   "cell_type": "code",
   "execution_count": 17,
   "id": "17cfad93",
   "metadata": {},
   "outputs": [],
   "source": [
    "# stations.loc[stations['구'] == '서울특별시', '구'] = '성동구'\n",
    "# stations['구'].unique()"
   ]
  },
  {
   "cell_type": "code",
   "execution_count": 18,
   "id": "b5a5c209",
   "metadata": {},
   "outputs": [],
   "source": [
    "# stations[stations['구'] == '특별시']"
   ]
  },
  {
   "cell_type": "code",
   "execution_count": 19,
   "id": "a64fd3db",
   "metadata": {},
   "outputs": [],
   "source": [
    "# stations.loc[stations['구'] == '특별시', '구'] = '도봉구'\n",
    "# stations['구'].unique()"
   ]
  },
  {
   "cell_type": "markdown",
   "id": "c05be408",
   "metadata": {},
   "source": [
    "- 오류를 바로 잡아준다"
   ]
  },
  {
   "cell_type": "code",
   "execution_count": 20,
   "id": "fb4e394b",
   "metadata": {
    "collapsed": true
   },
   "outputs": [
    {
     "ename": "ValueError",
     "evalue": "could not convert string to float: '-'",
     "output_type": "error",
     "traceback": [
      "\u001b[1;31m---------------------------------------------------------------------------\u001b[0m",
      "\u001b[1;31mValueError\u001b[0m                                Traceback (most recent call last)",
      "\u001b[1;32m~\\AppData\\Local\\Temp/ipykernel_216312/786094376.py\u001b[0m in \u001b[0;36m<module>\u001b[1;34m\u001b[0m\n\u001b[1;32m----> 1\u001b[1;33m \u001b[0mstations\u001b[0m\u001b[1;33m[\u001b[0m\u001b[1;34m'가격'\u001b[0m\u001b[1;33m]\u001b[0m \u001b[1;33m=\u001b[0m \u001b[0mstations\u001b[0m\u001b[1;33m[\u001b[0m\u001b[1;34m'가격'\u001b[0m\u001b[1;33m]\u001b[0m\u001b[1;33m.\u001b[0m\u001b[0mastype\u001b[0m\u001b[1;33m(\u001b[0m\u001b[1;34m'float'\u001b[0m\u001b[1;33m)\u001b[0m\u001b[1;33m\u001b[0m\u001b[1;33m\u001b[0m\u001b[0m\n\u001b[0m",
      "\u001b[1;32mC:\\conda\\envs\\ds_study\\lib\\site-packages\\pandas\\core\\generic.py\u001b[0m in \u001b[0;36mastype\u001b[1;34m(self, dtype, copy, errors)\u001b[0m\n\u001b[0;32m   5813\u001b[0m         \u001b[1;32melse\u001b[0m\u001b[1;33m:\u001b[0m\u001b[1;33m\u001b[0m\u001b[1;33m\u001b[0m\u001b[0m\n\u001b[0;32m   5814\u001b[0m             \u001b[1;31m# else, only a single dtype is given\u001b[0m\u001b[1;33m\u001b[0m\u001b[1;33m\u001b[0m\u001b[1;33m\u001b[0m\u001b[0m\n\u001b[1;32m-> 5815\u001b[1;33m             \u001b[0mnew_data\u001b[0m \u001b[1;33m=\u001b[0m \u001b[0mself\u001b[0m\u001b[1;33m.\u001b[0m\u001b[0m_mgr\u001b[0m\u001b[1;33m.\u001b[0m\u001b[0mastype\u001b[0m\u001b[1;33m(\u001b[0m\u001b[0mdtype\u001b[0m\u001b[1;33m=\u001b[0m\u001b[0mdtype\u001b[0m\u001b[1;33m,\u001b[0m \u001b[0mcopy\u001b[0m\u001b[1;33m=\u001b[0m\u001b[0mcopy\u001b[0m\u001b[1;33m,\u001b[0m \u001b[0merrors\u001b[0m\u001b[1;33m=\u001b[0m\u001b[0merrors\u001b[0m\u001b[1;33m)\u001b[0m\u001b[1;33m\u001b[0m\u001b[1;33m\u001b[0m\u001b[0m\n\u001b[0m\u001b[0;32m   5816\u001b[0m             \u001b[1;32mreturn\u001b[0m \u001b[0mself\u001b[0m\u001b[1;33m.\u001b[0m\u001b[0m_constructor\u001b[0m\u001b[1;33m(\u001b[0m\u001b[0mnew_data\u001b[0m\u001b[1;33m)\u001b[0m\u001b[1;33m.\u001b[0m\u001b[0m__finalize__\u001b[0m\u001b[1;33m(\u001b[0m\u001b[0mself\u001b[0m\u001b[1;33m,\u001b[0m \u001b[0mmethod\u001b[0m\u001b[1;33m=\u001b[0m\u001b[1;34m\"astype\"\u001b[0m\u001b[1;33m)\u001b[0m\u001b[1;33m\u001b[0m\u001b[1;33m\u001b[0m\u001b[0m\n\u001b[0;32m   5817\u001b[0m \u001b[1;33m\u001b[0m\u001b[0m\n",
      "\u001b[1;32mC:\\conda\\envs\\ds_study\\lib\\site-packages\\pandas\\core\\internals\\managers.py\u001b[0m in \u001b[0;36mastype\u001b[1;34m(self, dtype, copy, errors)\u001b[0m\n\u001b[0;32m    416\u001b[0m \u001b[1;33m\u001b[0m\u001b[0m\n\u001b[0;32m    417\u001b[0m     \u001b[1;32mdef\u001b[0m \u001b[0mastype\u001b[0m\u001b[1;33m(\u001b[0m\u001b[0mself\u001b[0m\u001b[1;33m:\u001b[0m \u001b[0mT\u001b[0m\u001b[1;33m,\u001b[0m \u001b[0mdtype\u001b[0m\u001b[1;33m,\u001b[0m \u001b[0mcopy\u001b[0m\u001b[1;33m:\u001b[0m \u001b[0mbool\u001b[0m \u001b[1;33m=\u001b[0m \u001b[1;32mFalse\u001b[0m\u001b[1;33m,\u001b[0m \u001b[0merrors\u001b[0m\u001b[1;33m:\u001b[0m \u001b[0mstr\u001b[0m \u001b[1;33m=\u001b[0m \u001b[1;34m\"raise\"\u001b[0m\u001b[1;33m)\u001b[0m \u001b[1;33m->\u001b[0m \u001b[0mT\u001b[0m\u001b[1;33m:\u001b[0m\u001b[1;33m\u001b[0m\u001b[1;33m\u001b[0m\u001b[0m\n\u001b[1;32m--> 418\u001b[1;33m         \u001b[1;32mreturn\u001b[0m \u001b[0mself\u001b[0m\u001b[1;33m.\u001b[0m\u001b[0mapply\u001b[0m\u001b[1;33m(\u001b[0m\u001b[1;34m\"astype\"\u001b[0m\u001b[1;33m,\u001b[0m \u001b[0mdtype\u001b[0m\u001b[1;33m=\u001b[0m\u001b[0mdtype\u001b[0m\u001b[1;33m,\u001b[0m \u001b[0mcopy\u001b[0m\u001b[1;33m=\u001b[0m\u001b[0mcopy\u001b[0m\u001b[1;33m,\u001b[0m \u001b[0merrors\u001b[0m\u001b[1;33m=\u001b[0m\u001b[0merrors\u001b[0m\u001b[1;33m)\u001b[0m\u001b[1;33m\u001b[0m\u001b[1;33m\u001b[0m\u001b[0m\n\u001b[0m\u001b[0;32m    419\u001b[0m \u001b[1;33m\u001b[0m\u001b[0m\n\u001b[0;32m    420\u001b[0m     def convert(\n",
      "\u001b[1;32mC:\\conda\\envs\\ds_study\\lib\\site-packages\\pandas\\core\\internals\\managers.py\u001b[0m in \u001b[0;36mapply\u001b[1;34m(self, f, align_keys, ignore_failures, **kwargs)\u001b[0m\n\u001b[0;32m    325\u001b[0m                     \u001b[0mapplied\u001b[0m \u001b[1;33m=\u001b[0m \u001b[0mb\u001b[0m\u001b[1;33m.\u001b[0m\u001b[0mapply\u001b[0m\u001b[1;33m(\u001b[0m\u001b[0mf\u001b[0m\u001b[1;33m,\u001b[0m \u001b[1;33m**\u001b[0m\u001b[0mkwargs\u001b[0m\u001b[1;33m)\u001b[0m\u001b[1;33m\u001b[0m\u001b[1;33m\u001b[0m\u001b[0m\n\u001b[0;32m    326\u001b[0m                 \u001b[1;32melse\u001b[0m\u001b[1;33m:\u001b[0m\u001b[1;33m\u001b[0m\u001b[1;33m\u001b[0m\u001b[0m\n\u001b[1;32m--> 327\u001b[1;33m                     \u001b[0mapplied\u001b[0m \u001b[1;33m=\u001b[0m \u001b[0mgetattr\u001b[0m\u001b[1;33m(\u001b[0m\u001b[0mb\u001b[0m\u001b[1;33m,\u001b[0m \u001b[0mf\u001b[0m\u001b[1;33m)\u001b[0m\u001b[1;33m(\u001b[0m\u001b[1;33m**\u001b[0m\u001b[0mkwargs\u001b[0m\u001b[1;33m)\u001b[0m\u001b[1;33m\u001b[0m\u001b[1;33m\u001b[0m\u001b[0m\n\u001b[0m\u001b[0;32m    328\u001b[0m             \u001b[1;32mexcept\u001b[0m \u001b[1;33m(\u001b[0m\u001b[0mTypeError\u001b[0m\u001b[1;33m,\u001b[0m \u001b[0mNotImplementedError\u001b[0m\u001b[1;33m)\u001b[0m\u001b[1;33m:\u001b[0m\u001b[1;33m\u001b[0m\u001b[1;33m\u001b[0m\u001b[0m\n\u001b[0;32m    329\u001b[0m                 \u001b[1;32mif\u001b[0m \u001b[1;32mnot\u001b[0m \u001b[0mignore_failures\u001b[0m\u001b[1;33m:\u001b[0m\u001b[1;33m\u001b[0m\u001b[1;33m\u001b[0m\u001b[0m\n",
      "\u001b[1;32mC:\\conda\\envs\\ds_study\\lib\\site-packages\\pandas\\core\\internals\\blocks.py\u001b[0m in \u001b[0;36mastype\u001b[1;34m(self, dtype, copy, errors)\u001b[0m\n\u001b[0;32m    590\u001b[0m         \u001b[0mvalues\u001b[0m \u001b[1;33m=\u001b[0m \u001b[0mself\u001b[0m\u001b[1;33m.\u001b[0m\u001b[0mvalues\u001b[0m\u001b[1;33m\u001b[0m\u001b[1;33m\u001b[0m\u001b[0m\n\u001b[0;32m    591\u001b[0m \u001b[1;33m\u001b[0m\u001b[0m\n\u001b[1;32m--> 592\u001b[1;33m         \u001b[0mnew_values\u001b[0m \u001b[1;33m=\u001b[0m \u001b[0mastype_array_safe\u001b[0m\u001b[1;33m(\u001b[0m\u001b[0mvalues\u001b[0m\u001b[1;33m,\u001b[0m \u001b[0mdtype\u001b[0m\u001b[1;33m,\u001b[0m \u001b[0mcopy\u001b[0m\u001b[1;33m=\u001b[0m\u001b[0mcopy\u001b[0m\u001b[1;33m,\u001b[0m \u001b[0merrors\u001b[0m\u001b[1;33m=\u001b[0m\u001b[0merrors\u001b[0m\u001b[1;33m)\u001b[0m\u001b[1;33m\u001b[0m\u001b[1;33m\u001b[0m\u001b[0m\n\u001b[0m\u001b[0;32m    593\u001b[0m \u001b[1;33m\u001b[0m\u001b[0m\n\u001b[0;32m    594\u001b[0m         \u001b[0mnew_values\u001b[0m \u001b[1;33m=\u001b[0m \u001b[0mmaybe_coerce_values\u001b[0m\u001b[1;33m(\u001b[0m\u001b[0mnew_values\u001b[0m\u001b[1;33m)\u001b[0m\u001b[1;33m\u001b[0m\u001b[1;33m\u001b[0m\u001b[0m\n",
      "\u001b[1;32mC:\\conda\\envs\\ds_study\\lib\\site-packages\\pandas\\core\\dtypes\\cast.py\u001b[0m in \u001b[0;36mastype_array_safe\u001b[1;34m(values, dtype, copy, errors)\u001b[0m\n\u001b[0;32m   1307\u001b[0m \u001b[1;33m\u001b[0m\u001b[0m\n\u001b[0;32m   1308\u001b[0m     \u001b[1;32mtry\u001b[0m\u001b[1;33m:\u001b[0m\u001b[1;33m\u001b[0m\u001b[1;33m\u001b[0m\u001b[0m\n\u001b[1;32m-> 1309\u001b[1;33m         \u001b[0mnew_values\u001b[0m \u001b[1;33m=\u001b[0m \u001b[0mastype_array\u001b[0m\u001b[1;33m(\u001b[0m\u001b[0mvalues\u001b[0m\u001b[1;33m,\u001b[0m \u001b[0mdtype\u001b[0m\u001b[1;33m,\u001b[0m \u001b[0mcopy\u001b[0m\u001b[1;33m=\u001b[0m\u001b[0mcopy\u001b[0m\u001b[1;33m)\u001b[0m\u001b[1;33m\u001b[0m\u001b[1;33m\u001b[0m\u001b[0m\n\u001b[0m\u001b[0;32m   1310\u001b[0m     \u001b[1;32mexcept\u001b[0m \u001b[1;33m(\u001b[0m\u001b[0mValueError\u001b[0m\u001b[1;33m,\u001b[0m \u001b[0mTypeError\u001b[0m\u001b[1;33m)\u001b[0m\u001b[1;33m:\u001b[0m\u001b[1;33m\u001b[0m\u001b[1;33m\u001b[0m\u001b[0m\n\u001b[0;32m   1311\u001b[0m         \u001b[1;31m# e.g. astype_nansafe can fail on object-dtype of strings\u001b[0m\u001b[1;33m\u001b[0m\u001b[1;33m\u001b[0m\u001b[1;33m\u001b[0m\u001b[0m\n",
      "\u001b[1;32mC:\\conda\\envs\\ds_study\\lib\\site-packages\\pandas\\core\\dtypes\\cast.py\u001b[0m in \u001b[0;36mastype_array\u001b[1;34m(values, dtype, copy)\u001b[0m\n\u001b[0;32m   1255\u001b[0m \u001b[1;33m\u001b[0m\u001b[0m\n\u001b[0;32m   1256\u001b[0m     \u001b[1;32melse\u001b[0m\u001b[1;33m:\u001b[0m\u001b[1;33m\u001b[0m\u001b[1;33m\u001b[0m\u001b[0m\n\u001b[1;32m-> 1257\u001b[1;33m         \u001b[0mvalues\u001b[0m \u001b[1;33m=\u001b[0m \u001b[0mastype_nansafe\u001b[0m\u001b[1;33m(\u001b[0m\u001b[0mvalues\u001b[0m\u001b[1;33m,\u001b[0m \u001b[0mdtype\u001b[0m\u001b[1;33m,\u001b[0m \u001b[0mcopy\u001b[0m\u001b[1;33m=\u001b[0m\u001b[0mcopy\u001b[0m\u001b[1;33m)\u001b[0m\u001b[1;33m\u001b[0m\u001b[1;33m\u001b[0m\u001b[0m\n\u001b[0m\u001b[0;32m   1258\u001b[0m \u001b[1;33m\u001b[0m\u001b[0m\n\u001b[0;32m   1259\u001b[0m     \u001b[1;31m# in pandas we don't store numpy str dtypes, so convert to object\u001b[0m\u001b[1;33m\u001b[0m\u001b[1;33m\u001b[0m\u001b[1;33m\u001b[0m\u001b[0m\n",
      "\u001b[1;32mC:\\conda\\envs\\ds_study\\lib\\site-packages\\pandas\\core\\dtypes\\cast.py\u001b[0m in \u001b[0;36mastype_nansafe\u001b[1;34m(arr, dtype, copy, skipna)\u001b[0m\n\u001b[0;32m   1199\u001b[0m     \u001b[1;32mif\u001b[0m \u001b[0mcopy\u001b[0m \u001b[1;32mor\u001b[0m \u001b[0mis_object_dtype\u001b[0m\u001b[1;33m(\u001b[0m\u001b[0marr\u001b[0m\u001b[1;33m.\u001b[0m\u001b[0mdtype\u001b[0m\u001b[1;33m)\u001b[0m \u001b[1;32mor\u001b[0m \u001b[0mis_object_dtype\u001b[0m\u001b[1;33m(\u001b[0m\u001b[0mdtype\u001b[0m\u001b[1;33m)\u001b[0m\u001b[1;33m:\u001b[0m\u001b[1;33m\u001b[0m\u001b[1;33m\u001b[0m\u001b[0m\n\u001b[0;32m   1200\u001b[0m         \u001b[1;31m# Explicit copy, or required since NumPy can't view from / to object.\u001b[0m\u001b[1;33m\u001b[0m\u001b[1;33m\u001b[0m\u001b[1;33m\u001b[0m\u001b[0m\n\u001b[1;32m-> 1201\u001b[1;33m         \u001b[1;32mreturn\u001b[0m \u001b[0marr\u001b[0m\u001b[1;33m.\u001b[0m\u001b[0mastype\u001b[0m\u001b[1;33m(\u001b[0m\u001b[0mdtype\u001b[0m\u001b[1;33m,\u001b[0m \u001b[0mcopy\u001b[0m\u001b[1;33m=\u001b[0m\u001b[1;32mTrue\u001b[0m\u001b[1;33m)\u001b[0m\u001b[1;33m\u001b[0m\u001b[1;33m\u001b[0m\u001b[0m\n\u001b[0m\u001b[0;32m   1202\u001b[0m \u001b[1;33m\u001b[0m\u001b[0m\n\u001b[0;32m   1203\u001b[0m     \u001b[1;32mreturn\u001b[0m \u001b[0marr\u001b[0m\u001b[1;33m.\u001b[0m\u001b[0mastype\u001b[0m\u001b[1;33m(\u001b[0m\u001b[0mdtype\u001b[0m\u001b[1;33m,\u001b[0m \u001b[0mcopy\u001b[0m\u001b[1;33m=\u001b[0m\u001b[0mcopy\u001b[0m\u001b[1;33m)\u001b[0m\u001b[1;33m\u001b[0m\u001b[1;33m\u001b[0m\u001b[0m\n",
      "\u001b[1;31mValueError\u001b[0m: could not convert string to float: '-'"
     ]
    }
   ],
   "source": [
    "stations['가격'] = stations['가격'].astype('float')"
   ]
  },
  {
   "cell_type": "markdown",
   "id": "573b7679",
   "metadata": {},
   "source": [
    "- 가격에 대해 수치적 연산을 하기 위해 float형으로 변경하려 했지만 에러가 났다"
   ]
  },
  {
   "cell_type": "code",
   "execution_count": 21,
   "id": "799442ca",
   "metadata": {},
   "outputs": [
    {
     "data": {
      "text/html": [
       "<div>\n",
       "<style scoped>\n",
       "    .dataframe tbody tr th:only-of-type {\n",
       "        vertical-align: middle;\n",
       "    }\n",
       "\n",
       "    .dataframe tbody tr th {\n",
       "        vertical-align: top;\n",
       "    }\n",
       "\n",
       "    .dataframe thead th {\n",
       "        text-align: right;\n",
       "    }\n",
       "</style>\n",
       "<table border=\"1\" class=\"dataframe\">\n",
       "  <thead>\n",
       "    <tr style=\"text-align: right;\">\n",
       "      <th></th>\n",
       "      <th>상호</th>\n",
       "      <th>주소</th>\n",
       "      <th>가격</th>\n",
       "      <th>셀프</th>\n",
       "      <th>상표</th>\n",
       "      <th>구</th>\n",
       "    </tr>\n",
       "  </thead>\n",
       "  <tbody>\n",
       "    <tr>\n",
       "      <th>31</th>\n",
       "      <td>현대오일뱅크㈜직영 올림픽셀프주유소</td>\n",
       "      <td>서울 송파구 위례성대로 188 (오금동)</td>\n",
       "      <td>-</td>\n",
       "      <td>Y</td>\n",
       "      <td>현대오일뱅크</td>\n",
       "      <td>송파구</td>\n",
       "    </tr>\n",
       "    <tr>\n",
       "      <th>27</th>\n",
       "      <td>지에스칼텍스㈜ 화일주유소</td>\n",
       "      <td>서울 영등포구 도림로 415</td>\n",
       "      <td>-</td>\n",
       "      <td>Y</td>\n",
       "      <td>GS칼텍스</td>\n",
       "      <td>영등포구</td>\n",
       "    </tr>\n",
       "    <tr>\n",
       "      <th>16</th>\n",
       "      <td>삼융주유소</td>\n",
       "      <td>서울 은평구 수색로 299 (수색동)</td>\n",
       "      <td>-</td>\n",
       "      <td>N</td>\n",
       "      <td>SK에너지</td>\n",
       "      <td>은평구</td>\n",
       "    </tr>\n",
       "    <tr>\n",
       "      <th>10</th>\n",
       "      <td>지에스칼텍스(주)직영 역전점</td>\n",
       "      <td>서울 중구 퇴계로 15</td>\n",
       "      <td>-</td>\n",
       "      <td>N</td>\n",
       "      <td>GS칼텍스</td>\n",
       "      <td>중구</td>\n",
       "    </tr>\n",
       "    <tr>\n",
       "      <th>14</th>\n",
       "      <td>지에스칼텍스㈜ 소망주유소</td>\n",
       "      <td>서울 중랑구 망우로 475</td>\n",
       "      <td>-</td>\n",
       "      <td>Y</td>\n",
       "      <td>GS칼텍스</td>\n",
       "      <td>중랑구</td>\n",
       "    </tr>\n",
       "    <tr>\n",
       "      <th>15</th>\n",
       "      <td>구의스타주유소</td>\n",
       "      <td>서울 광진구 자양로 103</td>\n",
       "      <td>-</td>\n",
       "      <td>N</td>\n",
       "      <td>GS칼텍스</td>\n",
       "      <td>광진구</td>\n",
       "    </tr>\n",
       "    <tr>\n",
       "      <th>14</th>\n",
       "      <td>양지진흥개발(주)상계주유소</td>\n",
       "      <td>서울 노원구 노해로 527 (상계동)</td>\n",
       "      <td>-</td>\n",
       "      <td>N</td>\n",
       "      <td>SK에너지</td>\n",
       "      <td>노원구</td>\n",
       "    </tr>\n",
       "    <tr>\n",
       "      <th>17</th>\n",
       "      <td>(주)자연에너지 햇살주유소</td>\n",
       "      <td>서울 도봉구 방학로 142 (방학동)</td>\n",
       "      <td>-</td>\n",
       "      <td>Y</td>\n",
       "      <td>현대오일뱅크</td>\n",
       "      <td>도봉구</td>\n",
       "    </tr>\n",
       "    <tr>\n",
       "      <th>35</th>\n",
       "      <td>학여울주유소</td>\n",
       "      <td>서울 강남구 남부순환로 3170 (일원2동)</td>\n",
       "      <td>-</td>\n",
       "      <td>N</td>\n",
       "      <td>GS칼텍스</td>\n",
       "      <td>강남구</td>\n",
       "    </tr>\n",
       "    <tr>\n",
       "      <th>36</th>\n",
       "      <td>삼성주유소</td>\n",
       "      <td>서울 강남구 삼성로 521 (삼성동)</td>\n",
       "      <td>-</td>\n",
       "      <td>N</td>\n",
       "      <td>SK에너지</td>\n",
       "      <td>강남구</td>\n",
       "    </tr>\n",
       "    <tr>\n",
       "      <th>37</th>\n",
       "      <td>동우주유소</td>\n",
       "      <td>서울특별시 강남구  봉은사로 311 (논현동)</td>\n",
       "      <td>-</td>\n",
       "      <td>N</td>\n",
       "      <td>SK에너지</td>\n",
       "      <td>강남구</td>\n",
       "    </tr>\n",
       "  </tbody>\n",
       "</table>\n",
       "</div>"
      ],
      "text/plain": [
       "                    상호                         주소 가격 셀프      상표     구\n",
       "31  현대오일뱅크㈜직영 올림픽셀프주유소     서울 송파구 위례성대로 188 (오금동)  -  Y  현대오일뱅크   송파구\n",
       "27       지에스칼텍스㈜ 화일주유소            서울 영등포구 도림로 415  -  Y   GS칼텍스  영등포구\n",
       "16               삼융주유소       서울 은평구 수색로 299 (수색동)  -  N   SK에너지   은평구\n",
       "10     지에스칼텍스(주)직영 역전점               서울 중구 퇴계로 15  -  N   GS칼텍스    중구\n",
       "14       지에스칼텍스㈜ 소망주유소             서울 중랑구 망우로 475  -  Y   GS칼텍스   중랑구\n",
       "15             구의스타주유소             서울 광진구 자양로 103  -  N   GS칼텍스   광진구\n",
       "14      양지진흥개발(주)상계주유소       서울 노원구 노해로 527 (상계동)  -  N   SK에너지   노원구\n",
       "17      (주)자연에너지 햇살주유소       서울 도봉구 방학로 142 (방학동)  -  Y  현대오일뱅크   도봉구\n",
       "35              학여울주유소   서울 강남구 남부순환로 3170 (일원2동)  -  N   GS칼텍스   강남구\n",
       "36               삼성주유소       서울 강남구 삼성로 521 (삼성동)  -  N   SK에너지   강남구\n",
       "37               동우주유소  서울특별시 강남구  봉은사로 311 (논현동)  -  N   SK에너지   강남구"
      ]
     },
     "execution_count": 21,
     "metadata": {},
     "output_type": "execute_result"
    }
   ],
   "source": [
    "stations[stations['가격'] == '-']"
   ]
  },
  {
   "cell_type": "markdown",
   "id": "0566e49b",
   "metadata": {},
   "source": [
    "- 가격 정보가 없는 주유소가 있다"
   ]
  },
  {
   "cell_type": "code",
   "execution_count": 22,
   "id": "3e7c9883",
   "metadata": {},
   "outputs": [
    {
     "data": {
      "text/html": [
       "<div>\n",
       "<style scoped>\n",
       "    .dataframe tbody tr th:only-of-type {\n",
       "        vertical-align: middle;\n",
       "    }\n",
       "\n",
       "    .dataframe tbody tr th {\n",
       "        vertical-align: top;\n",
       "    }\n",
       "\n",
       "    .dataframe thead th {\n",
       "        text-align: right;\n",
       "    }\n",
       "</style>\n",
       "<table border=\"1\" class=\"dataframe\">\n",
       "  <thead>\n",
       "    <tr style=\"text-align: right;\">\n",
       "      <th></th>\n",
       "      <th>상호</th>\n",
       "      <th>주소</th>\n",
       "      <th>가격</th>\n",
       "      <th>셀프</th>\n",
       "      <th>상표</th>\n",
       "      <th>구</th>\n",
       "    </tr>\n",
       "  </thead>\n",
       "  <tbody>\n",
       "    <tr>\n",
       "      <th>0</th>\n",
       "      <td>재건에너지 재정제2주유소 고속셀프지점</td>\n",
       "      <td>서울특별시 강동구  천호대로 1246 (둔촌제2동)</td>\n",
       "      <td>1648</td>\n",
       "      <td>Y</td>\n",
       "      <td>현대오일뱅크</td>\n",
       "      <td>강동구</td>\n",
       "    </tr>\n",
       "    <tr>\n",
       "      <th>1</th>\n",
       "      <td>구천면주유소</td>\n",
       "      <td>서울 강동구 구천면로 357 (암사동)</td>\n",
       "      <td>1693</td>\n",
       "      <td>N</td>\n",
       "      <td>현대오일뱅크</td>\n",
       "      <td>강동구</td>\n",
       "    </tr>\n",
       "    <tr>\n",
       "      <th>2</th>\n",
       "      <td>지에스칼텍스㈜ 동서울주유소</td>\n",
       "      <td>서울 강동구 천호대로 1456 (상일동)</td>\n",
       "      <td>1712</td>\n",
       "      <td>Y</td>\n",
       "      <td>GS칼텍스</td>\n",
       "      <td>강동구</td>\n",
       "    </tr>\n",
       "    <tr>\n",
       "      <th>3</th>\n",
       "      <td>현대오일뱅크㈜직영 명일셀프주유소</td>\n",
       "      <td>서울 강동구 고덕로 168 (명일동)</td>\n",
       "      <td>1719</td>\n",
       "      <td>Y</td>\n",
       "      <td>현대오일뱅크</td>\n",
       "      <td>강동구</td>\n",
       "    </tr>\n",
       "    <tr>\n",
       "      <th>4</th>\n",
       "      <td>방아다리주유소</td>\n",
       "      <td>서울 강동구 동남로 811 (명일동)</td>\n",
       "      <td>1720</td>\n",
       "      <td>Y</td>\n",
       "      <td>SK에너지</td>\n",
       "      <td>강동구</td>\n",
       "    </tr>\n",
       "  </tbody>\n",
       "</table>\n",
       "</div>"
      ],
      "text/plain": [
       "                     상호                            주소    가격 셀프      상표    구\n",
       "0  재건에너지 재정제2주유소 고속셀프지점  서울특별시 강동구  천호대로 1246 (둔촌제2동)  1648  Y  현대오일뱅크  강동구\n",
       "1                구천면주유소         서울 강동구 구천면로 357 (암사동)  1693  N  현대오일뱅크  강동구\n",
       "2        지에스칼텍스㈜ 동서울주유소        서울 강동구 천호대로 1456 (상일동)  1712  Y   GS칼텍스  강동구\n",
       "3     현대오일뱅크㈜직영 명일셀프주유소          서울 강동구 고덕로 168 (명일동)  1719  Y  현대오일뱅크  강동구\n",
       "4               방아다리주유소          서울 강동구 동남로 811 (명일동)  1720  Y   SK에너지  강동구"
      ]
     },
     "execution_count": 22,
     "metadata": {},
     "output_type": "execute_result"
    }
   ],
   "source": [
    "stations = stations[stations['가격'] != '-']\n",
    "stations.head()"
   ]
  },
  {
   "cell_type": "markdown",
   "id": "90ed4885",
   "metadata": {},
   "source": [
    "- 가격 정보가 있는 데이터만 일단 수집하자"
   ]
  },
  {
   "cell_type": "code",
   "execution_count": 23,
   "id": "a7471b27",
   "metadata": {},
   "outputs": [
    {
     "name": "stderr",
     "output_type": "stream",
     "text": [
      "C:\\Users\\고선욱\\AppData\\Local\\Temp/ipykernel_216312/786094376.py:1: SettingWithCopyWarning: \n",
      "A value is trying to be set on a copy of a slice from a DataFrame.\n",
      "Try using .loc[row_indexer,col_indexer] = value instead\n",
      "\n",
      "See the caveats in the documentation: https://pandas.pydata.org/pandas-docs/stable/user_guide/indexing.html#returning-a-view-versus-a-copy\n",
      "  stations['가격'] = stations['가격'].astype('float')\n"
     ]
    }
   ],
   "source": [
    "stations['가격'] = stations['가격'].astype('float')"
   ]
  },
  {
   "cell_type": "code",
   "execution_count": 24,
   "id": "2ee93da5",
   "metadata": {},
   "outputs": [
    {
     "name": "stdout",
     "output_type": "stream",
     "text": [
      "<class 'pandas.core.frame.DataFrame'>\n",
      "Int64Index: 467 entries, 0 to 34\n",
      "Data columns (total 6 columns):\n",
      " #   Column  Non-Null Count  Dtype  \n",
      "---  ------  --------------  -----  \n",
      " 0   상호      467 non-null    object \n",
      " 1   주소      467 non-null    object \n",
      " 2   가격      467 non-null    float64\n",
      " 3   셀프      467 non-null    object \n",
      " 4   상표      467 non-null    object \n",
      " 5   구       467 non-null    object \n",
      "dtypes: float64(1), object(5)\n",
      "memory usage: 25.5+ KB\n"
     ]
    }
   ],
   "source": [
    "stations.info()"
   ]
  },
  {
   "cell_type": "code",
   "execution_count": 25,
   "id": "21a906e8",
   "metadata": {},
   "outputs": [
    {
     "data": {
      "text/html": [
       "<div>\n",
       "<style scoped>\n",
       "    .dataframe tbody tr th:only-of-type {\n",
       "        vertical-align: middle;\n",
       "    }\n",
       "\n",
       "    .dataframe tbody tr th {\n",
       "        vertical-align: top;\n",
       "    }\n",
       "\n",
       "    .dataframe thead th {\n",
       "        text-align: right;\n",
       "    }\n",
       "</style>\n",
       "<table border=\"1\" class=\"dataframe\">\n",
       "  <thead>\n",
       "    <tr style=\"text-align: right;\">\n",
       "      <th></th>\n",
       "      <th>상호</th>\n",
       "      <th>주소</th>\n",
       "      <th>가격</th>\n",
       "      <th>셀프</th>\n",
       "      <th>상표</th>\n",
       "      <th>구</th>\n",
       "    </tr>\n",
       "  </thead>\n",
       "  <tbody>\n",
       "    <tr>\n",
       "      <th>0</th>\n",
       "      <td>재건에너지 재정제2주유소 고속셀프지점</td>\n",
       "      <td>서울특별시 강동구  천호대로 1246 (둔촌제2동)</td>\n",
       "      <td>1648.0</td>\n",
       "      <td>Y</td>\n",
       "      <td>현대오일뱅크</td>\n",
       "      <td>강동구</td>\n",
       "    </tr>\n",
       "    <tr>\n",
       "      <th>1</th>\n",
       "      <td>구천면주유소</td>\n",
       "      <td>서울 강동구 구천면로 357 (암사동)</td>\n",
       "      <td>1693.0</td>\n",
       "      <td>N</td>\n",
       "      <td>현대오일뱅크</td>\n",
       "      <td>강동구</td>\n",
       "    </tr>\n",
       "    <tr>\n",
       "      <th>2</th>\n",
       "      <td>지에스칼텍스㈜ 동서울주유소</td>\n",
       "      <td>서울 강동구 천호대로 1456 (상일동)</td>\n",
       "      <td>1712.0</td>\n",
       "      <td>Y</td>\n",
       "      <td>GS칼텍스</td>\n",
       "      <td>강동구</td>\n",
       "    </tr>\n",
       "    <tr>\n",
       "      <th>3</th>\n",
       "      <td>현대오일뱅크㈜직영 명일셀프주유소</td>\n",
       "      <td>서울 강동구 고덕로 168 (명일동)</td>\n",
       "      <td>1719.0</td>\n",
       "      <td>Y</td>\n",
       "      <td>현대오일뱅크</td>\n",
       "      <td>강동구</td>\n",
       "    </tr>\n",
       "    <tr>\n",
       "      <th>4</th>\n",
       "      <td>방아다리주유소</td>\n",
       "      <td>서울 강동구 동남로 811 (명일동)</td>\n",
       "      <td>1720.0</td>\n",
       "      <td>Y</td>\n",
       "      <td>SK에너지</td>\n",
       "      <td>강동구</td>\n",
       "    </tr>\n",
       "    <tr>\n",
       "      <th>...</th>\n",
       "      <td>...</td>\n",
       "      <td>...</td>\n",
       "      <td>...</td>\n",
       "      <td>...</td>\n",
       "      <td>...</td>\n",
       "      <td>...</td>\n",
       "    </tr>\n",
       "    <tr>\n",
       "      <th>30</th>\n",
       "      <td>경원주유소</td>\n",
       "      <td>서울 강남구 도산대로 428 (청담동)</td>\n",
       "      <td>2125.0</td>\n",
       "      <td>N</td>\n",
       "      <td>S-OIL</td>\n",
       "      <td>강남구</td>\n",
       "    </tr>\n",
       "    <tr>\n",
       "      <th>31</th>\n",
       "      <td>SK논현주유소</td>\n",
       "      <td>서울 강남구 논현로 747 (논현동)</td>\n",
       "      <td>2155.0</td>\n",
       "      <td>N</td>\n",
       "      <td>SK에너지</td>\n",
       "      <td>강남구</td>\n",
       "    </tr>\n",
       "    <tr>\n",
       "      <th>32</th>\n",
       "      <td>(주)소모에너지 쎈트럴주유소</td>\n",
       "      <td>서울 강남구 삼성로 335</td>\n",
       "      <td>2158.0</td>\n",
       "      <td>N</td>\n",
       "      <td>GS칼텍스</td>\n",
       "      <td>강남구</td>\n",
       "    </tr>\n",
       "    <tr>\n",
       "      <th>33</th>\n",
       "      <td>(주)만정에너지</td>\n",
       "      <td>서울 강남구 봉은사로 433 (삼성동)</td>\n",
       "      <td>2158.0</td>\n",
       "      <td>N</td>\n",
       "      <td>GS칼텍스</td>\n",
       "      <td>강남구</td>\n",
       "    </tr>\n",
       "    <tr>\n",
       "      <th>34</th>\n",
       "      <td>뉴서울(강남)</td>\n",
       "      <td>서울 강남구 언주로 716</td>\n",
       "      <td>2275.0</td>\n",
       "      <td>N</td>\n",
       "      <td>SK에너지</td>\n",
       "      <td>강남구</td>\n",
       "    </tr>\n",
       "  </tbody>\n",
       "</table>\n",
       "<p>467 rows × 6 columns</p>\n",
       "</div>"
      ],
      "text/plain": [
       "                      상호                            주소      가격 셀프      상표    구\n",
       "0   재건에너지 재정제2주유소 고속셀프지점  서울특별시 강동구  천호대로 1246 (둔촌제2동)  1648.0  Y  현대오일뱅크  강동구\n",
       "1                 구천면주유소         서울 강동구 구천면로 357 (암사동)  1693.0  N  현대오일뱅크  강동구\n",
       "2         지에스칼텍스㈜ 동서울주유소        서울 강동구 천호대로 1456 (상일동)  1712.0  Y   GS칼텍스  강동구\n",
       "3      현대오일뱅크㈜직영 명일셀프주유소          서울 강동구 고덕로 168 (명일동)  1719.0  Y  현대오일뱅크  강동구\n",
       "4                방아다리주유소          서울 강동구 동남로 811 (명일동)  1720.0  Y   SK에너지  강동구\n",
       "..                   ...                           ...     ... ..     ...  ...\n",
       "30                 경원주유소         서울 강남구 도산대로 428 (청담동)  2125.0  N   S-OIL  강남구\n",
       "31               SK논현주유소          서울 강남구 논현로 747 (논현동)  2155.0  N   SK에너지  강남구\n",
       "32       (주)소모에너지 쎈트럴주유소                서울 강남구 삼성로 335  2158.0  N   GS칼텍스  강남구\n",
       "33              (주)만정에너지         서울 강남구 봉은사로 433 (삼성동)  2158.0  N   GS칼텍스  강남구\n",
       "34               뉴서울(강남)                서울 강남구 언주로 716  2275.0  N   SK에너지  강남구\n",
       "\n",
       "[467 rows x 6 columns]"
      ]
     },
     "execution_count": 25,
     "metadata": {},
     "output_type": "execute_result"
    }
   ],
   "source": [
    "stations"
   ]
  },
  {
   "cell_type": "code",
   "execution_count": 26,
   "id": "5d0af9dd",
   "metadata": {},
   "outputs": [
    {
     "data": {
      "text/html": [
       "<div>\n",
       "<style scoped>\n",
       "    .dataframe tbody tr th:only-of-type {\n",
       "        vertical-align: middle;\n",
       "    }\n",
       "\n",
       "    .dataframe tbody tr th {\n",
       "        vertical-align: top;\n",
       "    }\n",
       "\n",
       "    .dataframe thead th {\n",
       "        text-align: right;\n",
       "    }\n",
       "</style>\n",
       "<table border=\"1\" class=\"dataframe\">\n",
       "  <thead>\n",
       "    <tr style=\"text-align: right;\">\n",
       "      <th></th>\n",
       "      <th>index</th>\n",
       "      <th>상호</th>\n",
       "      <th>주소</th>\n",
       "      <th>가격</th>\n",
       "      <th>셀프</th>\n",
       "      <th>상표</th>\n",
       "      <th>구</th>\n",
       "    </tr>\n",
       "  </thead>\n",
       "  <tbody>\n",
       "    <tr>\n",
       "      <th>0</th>\n",
       "      <td>0</td>\n",
       "      <td>재건에너지 재정제2주유소 고속셀프지점</td>\n",
       "      <td>서울특별시 강동구  천호대로 1246 (둔촌제2동)</td>\n",
       "      <td>1648.0</td>\n",
       "      <td>Y</td>\n",
       "      <td>현대오일뱅크</td>\n",
       "      <td>강동구</td>\n",
       "    </tr>\n",
       "    <tr>\n",
       "      <th>1</th>\n",
       "      <td>1</td>\n",
       "      <td>구천면주유소</td>\n",
       "      <td>서울 강동구 구천면로 357 (암사동)</td>\n",
       "      <td>1693.0</td>\n",
       "      <td>N</td>\n",
       "      <td>현대오일뱅크</td>\n",
       "      <td>강동구</td>\n",
       "    </tr>\n",
       "    <tr>\n",
       "      <th>2</th>\n",
       "      <td>2</td>\n",
       "      <td>지에스칼텍스㈜ 동서울주유소</td>\n",
       "      <td>서울 강동구 천호대로 1456 (상일동)</td>\n",
       "      <td>1712.0</td>\n",
       "      <td>Y</td>\n",
       "      <td>GS칼텍스</td>\n",
       "      <td>강동구</td>\n",
       "    </tr>\n",
       "    <tr>\n",
       "      <th>3</th>\n",
       "      <td>3</td>\n",
       "      <td>현대오일뱅크㈜직영 명일셀프주유소</td>\n",
       "      <td>서울 강동구 고덕로 168 (명일동)</td>\n",
       "      <td>1719.0</td>\n",
       "      <td>Y</td>\n",
       "      <td>현대오일뱅크</td>\n",
       "      <td>강동구</td>\n",
       "    </tr>\n",
       "    <tr>\n",
       "      <th>4</th>\n",
       "      <td>4</td>\n",
       "      <td>방아다리주유소</td>\n",
       "      <td>서울 강동구 동남로 811 (명일동)</td>\n",
       "      <td>1720.0</td>\n",
       "      <td>Y</td>\n",
       "      <td>SK에너지</td>\n",
       "      <td>강동구</td>\n",
       "    </tr>\n",
       "  </tbody>\n",
       "</table>\n",
       "</div>"
      ],
      "text/plain": [
       "   index                    상호                            주소      가격 셀프  \\\n",
       "0      0  재건에너지 재정제2주유소 고속셀프지점  서울특별시 강동구  천호대로 1246 (둔촌제2동)  1648.0  Y   \n",
       "1      1                구천면주유소         서울 강동구 구천면로 357 (암사동)  1693.0  N   \n",
       "2      2        지에스칼텍스㈜ 동서울주유소        서울 강동구 천호대로 1456 (상일동)  1712.0  Y   \n",
       "3      3     현대오일뱅크㈜직영 명일셀프주유소          서울 강동구 고덕로 168 (명일동)  1719.0  Y   \n",
       "4      4               방아다리주유소          서울 강동구 동남로 811 (명일동)  1720.0  Y   \n",
       "\n",
       "       상표    구  \n",
       "0  현대오일뱅크  강동구  \n",
       "1  현대오일뱅크  강동구  \n",
       "2   GS칼텍스  강동구  \n",
       "3  현대오일뱅크  강동구  \n",
       "4   SK에너지  강동구  "
      ]
     },
     "execution_count": 26,
     "metadata": {},
     "output_type": "execute_result"
    }
   ],
   "source": [
    "stations.reset_index(inplace=True)\n",
    "stations.head()"
   ]
  },
  {
   "cell_type": "markdown",
   "id": "faa9c3b2",
   "metadata": {},
   "source": [
    "- index 번호를 다시 매겨준다"
   ]
  },
  {
   "cell_type": "code",
   "execution_count": 27,
   "id": "be54538b",
   "metadata": {},
   "outputs": [
    {
     "data": {
      "text/html": [
       "<div>\n",
       "<style scoped>\n",
       "    .dataframe tbody tr th:only-of-type {\n",
       "        vertical-align: middle;\n",
       "    }\n",
       "\n",
       "    .dataframe tbody tr th {\n",
       "        vertical-align: top;\n",
       "    }\n",
       "\n",
       "    .dataframe thead th {\n",
       "        text-align: right;\n",
       "    }\n",
       "</style>\n",
       "<table border=\"1\" class=\"dataframe\">\n",
       "  <thead>\n",
       "    <tr style=\"text-align: right;\">\n",
       "      <th></th>\n",
       "      <th>상호</th>\n",
       "      <th>주소</th>\n",
       "      <th>가격</th>\n",
       "      <th>셀프</th>\n",
       "      <th>상표</th>\n",
       "      <th>구</th>\n",
       "    </tr>\n",
       "  </thead>\n",
       "  <tbody>\n",
       "    <tr>\n",
       "      <th>0</th>\n",
       "      <td>재건에너지 재정제2주유소 고속셀프지점</td>\n",
       "      <td>서울특별시 강동구  천호대로 1246 (둔촌제2동)</td>\n",
       "      <td>1648.0</td>\n",
       "      <td>Y</td>\n",
       "      <td>현대오일뱅크</td>\n",
       "      <td>강동구</td>\n",
       "    </tr>\n",
       "    <tr>\n",
       "      <th>1</th>\n",
       "      <td>구천면주유소</td>\n",
       "      <td>서울 강동구 구천면로 357 (암사동)</td>\n",
       "      <td>1693.0</td>\n",
       "      <td>N</td>\n",
       "      <td>현대오일뱅크</td>\n",
       "      <td>강동구</td>\n",
       "    </tr>\n",
       "    <tr>\n",
       "      <th>2</th>\n",
       "      <td>지에스칼텍스㈜ 동서울주유소</td>\n",
       "      <td>서울 강동구 천호대로 1456 (상일동)</td>\n",
       "      <td>1712.0</td>\n",
       "      <td>Y</td>\n",
       "      <td>GS칼텍스</td>\n",
       "      <td>강동구</td>\n",
       "    </tr>\n",
       "    <tr>\n",
       "      <th>3</th>\n",
       "      <td>현대오일뱅크㈜직영 명일셀프주유소</td>\n",
       "      <td>서울 강동구 고덕로 168 (명일동)</td>\n",
       "      <td>1719.0</td>\n",
       "      <td>Y</td>\n",
       "      <td>현대오일뱅크</td>\n",
       "      <td>강동구</td>\n",
       "    </tr>\n",
       "    <tr>\n",
       "      <th>4</th>\n",
       "      <td>방아다리주유소</td>\n",
       "      <td>서울 강동구 동남로 811 (명일동)</td>\n",
       "      <td>1720.0</td>\n",
       "      <td>Y</td>\n",
       "      <td>SK에너지</td>\n",
       "      <td>강동구</td>\n",
       "    </tr>\n",
       "  </tbody>\n",
       "</table>\n",
       "</div>"
      ],
      "text/plain": [
       "                     상호                            주소      가격 셀프      상표    구\n",
       "0  재건에너지 재정제2주유소 고속셀프지점  서울특별시 강동구  천호대로 1246 (둔촌제2동)  1648.0  Y  현대오일뱅크  강동구\n",
       "1                구천면주유소         서울 강동구 구천면로 357 (암사동)  1693.0  N  현대오일뱅크  강동구\n",
       "2        지에스칼텍스㈜ 동서울주유소        서울 강동구 천호대로 1456 (상일동)  1712.0  Y   GS칼텍스  강동구\n",
       "3     현대오일뱅크㈜직영 명일셀프주유소          서울 강동구 고덕로 168 (명일동)  1719.0  Y  현대오일뱅크  강동구\n",
       "4               방아다리주유소          서울 강동구 동남로 811 (명일동)  1720.0  Y   SK에너지  강동구"
      ]
     },
     "execution_count": 27,
     "metadata": {},
     "output_type": "execute_result"
    }
   ],
   "source": [
    "del stations['index']\n",
    "stations.head()"
   ]
  },
  {
   "cell_type": "code",
   "execution_count": 28,
   "id": "d04e4631",
   "metadata": {},
   "outputs": [
    {
     "name": "stdout",
     "output_type": "stream",
     "text": [
      "<class 'pandas.core.frame.DataFrame'>\n",
      "RangeIndex: 467 entries, 0 to 466\n",
      "Data columns (total 6 columns):\n",
      " #   Column  Non-Null Count  Dtype  \n",
      "---  ------  --------------  -----  \n",
      " 0   상호      467 non-null    object \n",
      " 1   주소      467 non-null    object \n",
      " 2   가격      467 non-null    float64\n",
      " 3   셀프      467 non-null    object \n",
      " 4   상표      467 non-null    object \n",
      " 5   구       467 non-null    object \n",
      "dtypes: float64(1), object(5)\n",
      "memory usage: 22.0+ KB\n"
     ]
    }
   ],
   "source": [
    "stations.info()"
   ]
  },
  {
   "cell_type": "markdown",
   "id": "0ea4e782",
   "metadata": {},
   "source": [
    "## 주유 가격 정보 시각화"
   ]
  },
  {
   "cell_type": "markdown",
   "id": "66f6711e",
   "metadata": {},
   "source": [
    "### 데이터 시각화"
   ]
  },
  {
   "cell_type": "code",
   "execution_count": 31,
   "id": "1083d148",
   "metadata": {},
   "outputs": [],
   "source": [
    "import matplotlib.pyplot as plt\n",
    "import seaborn as sns\n",
    "import platform\n",
    "from matplotlib import font_manager, rc\n",
    "\n",
    "path='C:/Windows/Fonts/malgun.ttf'\n",
    "if platform.system() == 'Darwin':\n",
    "    rc('font', family='Arial Unicode MS')\n",
    "elif platform.system() == 'Windows':\n",
    "    font_name = font_manager.FontProperties(fname=path).get_name()\n",
    "    rc('font', family=font_name)\n",
    "else:\n",
    "    print('Unknown system...')"
   ]
  },
  {
   "cell_type": "markdown",
   "id": "ed4989bd",
   "metadata": {},
   "source": [
    "- matplotlib 한글 설정"
   ]
  },
  {
   "cell_type": "code",
   "execution_count": 32,
   "id": "14a2c7fc",
   "metadata": {},
   "outputs": [
    {
     "data": {
      "image/png": "[encoded data removed]",
      "text/plain": [
       "<Figure size 864x576 with 1 Axes>"
      ]
     },
     "metadata": {
      "needs_background": "light"
     },
     "output_type": "display_data"
    }
   ],
   "source": [
    "stations.boxplot(column='가격', by='셀프', figsize=(12, 8));"
   ]
  },
  {
   "cell_type": "markdown",
   "id": "e1ff5e58",
   "metadata": {},
   "source": [
    "#### Box plot\n",
    "- Median 중심으로 아래 위 상자가 각각 전체 데이터의 25%씩 총 50%를 가진다\n",
    "- 상자 전체 길이를 IQR(Inter Quatile Range)라고 한다\n",
    "- IQR의 1.5배 이상 벗어나면 점으로 별도 표기를 한다"
   ]
  },
  {
   "cell_type": "code",
   "execution_count": 33,
   "id": "38669b4f",
   "metadata": {},
   "outputs": [
    {
     "data": {
      "image/png": "[encoded data removed]",
      "text/plain": [
       "<Figure size 864x576 with 1 Axes>"
      ]
     },
     "metadata": {
      "needs_background": "light"
     },
     "output_type": "display_data"
    }
   ],
   "source": [
    "plt.figure(figsize=(12, 8))\n",
    "sns.boxplot(x='셀프', y='가격', data=stations, palette='Set3')\n",
    "plt.grid()\n",
    "plt.show()"
   ]
  },
  {
   "cell_type": "code",
   "execution_count": 34,
   "id": "b0492bc2",
   "metadata": {},
   "outputs": [
    {
     "data": {
      "image/png": "[encoded data removed]",
      "text/plain": [
       "<Figure size 864x576 with 1 Axes>"
      ]
     },
     "metadata": {
      "needs_background": "light"
     },
     "output_type": "display_data"
    }
   ],
   "source": [
    "plt.figure(figsize=(12, 8))\n",
    "sns.boxplot(x='상표', y='가격', hue='셀프', data=stations, palette='Set2' )\n",
    "plt.grid()\n",
    "plt.show()"
   ]
  },
  {
   "cell_type": "markdown",
   "id": "e7b29b21",
   "metadata": {},
   "source": [
    "- 각 메이커 별 셀프 주유 여부를 포함해서 가격 분포를 보자 "
   ]
  },
  {
   "cell_type": "code",
   "execution_count": 35,
   "id": "2d09467e",
   "metadata": {},
   "outputs": [],
   "source": [
    "import json\n",
    "import folium\n",
    "import warnings\n",
    "\n",
    "warnings.simplefilter(action='ignore', category=FutureWarning)"
   ]
  },
  {
   "cell_type": "code",
   "execution_count": 36,
   "id": "b13be14a",
   "metadata": {
    "scrolled": true
   },
   "outputs": [
    {
     "data": {
      "text/html": [
       "<div>\n",
       "<style scoped>\n",
       "    .dataframe tbody tr th:only-of-type {\n",
       "        vertical-align: middle;\n",
       "    }\n",
       "\n",
       "    .dataframe tbody tr th {\n",
       "        vertical-align: top;\n",
       "    }\n",
       "\n",
       "    .dataframe thead th {\n",
       "        text-align: right;\n",
       "    }\n",
       "</style>\n",
       "<table border=\"1\" class=\"dataframe\">\n",
       "  <thead>\n",
       "    <tr style=\"text-align: right;\">\n",
       "      <th></th>\n",
       "      <th>상호</th>\n",
       "      <th>주소</th>\n",
       "      <th>가격</th>\n",
       "      <th>셀프</th>\n",
       "      <th>상표</th>\n",
       "      <th>구</th>\n",
       "    </tr>\n",
       "  </thead>\n",
       "  <tbody>\n",
       "    <tr>\n",
       "      <th>291</th>\n",
       "      <td>서남주유소</td>\n",
       "      <td>서울 중구 통일로 30</td>\n",
       "      <td>2522.0</td>\n",
       "      <td>N</td>\n",
       "      <td>SK에너지</td>\n",
       "      <td>중구</td>\n",
       "    </tr>\n",
       "    <tr>\n",
       "      <th>256</th>\n",
       "      <td>서계주유소</td>\n",
       "      <td>서울 용산구 청파로 367 (서계동)</td>\n",
       "      <td>2473.0</td>\n",
       "      <td>N</td>\n",
       "      <td>GS칼텍스</td>\n",
       "      <td>용산구</td>\n",
       "    </tr>\n",
       "    <tr>\n",
       "      <th>290</th>\n",
       "      <td>필동주유소</td>\n",
       "      <td>서울 중구  퇴계로 196 (필동2가)</td>\n",
       "      <td>2349.0</td>\n",
       "      <td>N</td>\n",
       "      <td>GS칼텍스</td>\n",
       "      <td>중구</td>\n",
       "    </tr>\n",
       "    <tr>\n",
       "      <th>289</th>\n",
       "      <td>SK에너지(주) 퇴계로주유소</td>\n",
       "      <td>서울 중구 퇴계로 228 (필동2가)</td>\n",
       "      <td>2310.0</td>\n",
       "      <td>N</td>\n",
       "      <td>SK에너지</td>\n",
       "      <td>중구</td>\n",
       "    </tr>\n",
       "    <tr>\n",
       "      <th>255</th>\n",
       "      <td>동자동주유소</td>\n",
       "      <td>서울 용산구 한강대로104길 6 (동자동)</td>\n",
       "      <td>2290.0</td>\n",
       "      <td>N</td>\n",
       "      <td>SK에너지</td>\n",
       "      <td>용산구</td>\n",
       "    </tr>\n",
       "    <tr>\n",
       "      <th>466</th>\n",
       "      <td>뉴서울(강남)</td>\n",
       "      <td>서울 강남구 언주로 716</td>\n",
       "      <td>2275.0</td>\n",
       "      <td>N</td>\n",
       "      <td>SK에너지</td>\n",
       "      <td>강남구</td>\n",
       "    </tr>\n",
       "    <tr>\n",
       "      <th>288</th>\n",
       "      <td>약수주유소</td>\n",
       "      <td>서울 중구 다산로 173</td>\n",
       "      <td>2246.0</td>\n",
       "      <td>N</td>\n",
       "      <td>GS칼텍스</td>\n",
       "      <td>중구</td>\n",
       "    </tr>\n",
       "    <tr>\n",
       "      <th>254</th>\n",
       "      <td>에너비스</td>\n",
       "      <td>서울 용산구 한남대로 82 (한남동)</td>\n",
       "      <td>2198.0</td>\n",
       "      <td>N</td>\n",
       "      <td>SK에너지</td>\n",
       "      <td>용산구</td>\n",
       "    </tr>\n",
       "    <tr>\n",
       "      <th>389</th>\n",
       "      <td>구로주유소</td>\n",
       "      <td>서울 구로구 구로동로 137 (구로동)</td>\n",
       "      <td>2198.0</td>\n",
       "      <td>N</td>\n",
       "      <td>GS칼텍스</td>\n",
       "      <td>구로구</td>\n",
       "    </tr>\n",
       "    <tr>\n",
       "      <th>281</th>\n",
       "      <td>(주)중앙에너비스 혜화주유소</td>\n",
       "      <td>서울 종로구 창경궁로35길 1</td>\n",
       "      <td>2198.0</td>\n",
       "      <td>N</td>\n",
       "      <td>SK에너지</td>\n",
       "      <td>종로구</td>\n",
       "    </tr>\n",
       "  </tbody>\n",
       "</table>\n",
       "</div>"
      ],
      "text/plain": [
       "                  상호                       주소      가격 셀프     상표    구\n",
       "291            서남주유소             서울 중구 통일로 30  2522.0  N  SK에너지   중구\n",
       "256            서계주유소     서울 용산구 청파로 367 (서계동)  2473.0  N  GS칼텍스  용산구\n",
       "290            필동주유소    서울 중구  퇴계로 196 (필동2가)  2349.0  N  GS칼텍스   중구\n",
       "289  SK에너지(주) 퇴계로주유소     서울 중구 퇴계로 228 (필동2가)  2310.0  N  SK에너지   중구\n",
       "255           동자동주유소  서울 용산구 한강대로104길 6 (동자동)  2290.0  N  SK에너지  용산구\n",
       "466          뉴서울(강남)           서울 강남구 언주로 716  2275.0  N  SK에너지  강남구\n",
       "288            약수주유소            서울 중구 다산로 173  2246.0  N  GS칼텍스   중구\n",
       "254             에너비스     서울 용산구 한남대로 82 (한남동)  2198.0  N  SK에너지  용산구\n",
       "389            구로주유소    서울 구로구 구로동로 137 (구로동)  2198.0  N  GS칼텍스  구로구\n",
       "281  (주)중앙에너비스 혜화주유소         서울 종로구 창경궁로35길 1  2198.0  N  SK에너지  종로구"
      ]
     },
     "execution_count": 36,
     "metadata": {},
     "output_type": "execute_result"
    }
   ],
   "source": [
    "stations.sort_values(by='가격', ascending=False).head(10)"
   ]
  },
  {
   "cell_type": "code",
   "execution_count": 37,
   "id": "f2a80f66",
   "metadata": {},
   "outputs": [
    {
     "data": {
      "text/html": [
       "<div>\n",
       "<style scoped>\n",
       "    .dataframe tbody tr th:only-of-type {\n",
       "        vertical-align: middle;\n",
       "    }\n",
       "\n",
       "    .dataframe tbody tr th {\n",
       "        vertical-align: top;\n",
       "    }\n",
       "\n",
       "    .dataframe thead th {\n",
       "        text-align: right;\n",
       "    }\n",
       "</style>\n",
       "<table border=\"1\" class=\"dataframe\">\n",
       "  <thead>\n",
       "    <tr style=\"text-align: right;\">\n",
       "      <th></th>\n",
       "      <th>상호</th>\n",
       "      <th>주소</th>\n",
       "      <th>가격</th>\n",
       "      <th>셀프</th>\n",
       "      <th>상표</th>\n",
       "      <th>구</th>\n",
       "    </tr>\n",
       "  </thead>\n",
       "  <tbody>\n",
       "    <tr>\n",
       "      <th>16</th>\n",
       "      <td>동서울고속주유소</td>\n",
       "      <td>서울 동대문구 한천로 414</td>\n",
       "      <td>1595.0</td>\n",
       "      <td>Y</td>\n",
       "      <td>SK에너지</td>\n",
       "      <td>동대문구</td>\n",
       "    </tr>\n",
       "    <tr>\n",
       "      <th>402</th>\n",
       "      <td>화랑대주유소</td>\n",
       "      <td>서울 노원구 화랑로 483</td>\n",
       "      <td>1595.0</td>\n",
       "      <td>Y</td>\n",
       "      <td>현대오일뱅크</td>\n",
       "      <td>노원구</td>\n",
       "    </tr>\n",
       "    <tr>\n",
       "      <th>401</th>\n",
       "      <td>배꽃나라주유소</td>\n",
       "      <td>서울 노원구 화랑로 466 (공릉동)</td>\n",
       "      <td>1595.0</td>\n",
       "      <td>Y</td>\n",
       "      <td>GS칼텍스</td>\n",
       "      <td>노원구</td>\n",
       "    </tr>\n",
       "    <tr>\n",
       "      <th>205</th>\n",
       "      <td>영등포제일셀프주유소</td>\n",
       "      <td>서울 영등포구 가마산로 379</td>\n",
       "      <td>1598.0</td>\n",
       "      <td>Y</td>\n",
       "      <td>현대오일뱅크</td>\n",
       "      <td>영등포구</td>\n",
       "    </tr>\n",
       "    <tr>\n",
       "      <th>207</th>\n",
       "      <td>성락주유소</td>\n",
       "      <td>서울 영등포구 가마산로 414 (신길동)</td>\n",
       "      <td>1598.0</td>\n",
       "      <td>Y</td>\n",
       "      <td>S-OIL</td>\n",
       "      <td>영등포구</td>\n",
       "    </tr>\n",
       "    <tr>\n",
       "      <th>204</th>\n",
       "      <td>남서울고속주유소</td>\n",
       "      <td>서울 영등포구 가마산로 367 (대림동)</td>\n",
       "      <td>1598.0</td>\n",
       "      <td>Y</td>\n",
       "      <td>SK에너지</td>\n",
       "      <td>영등포구</td>\n",
       "    </tr>\n",
       "    <tr>\n",
       "      <th>206</th>\n",
       "      <td>도림주유소</td>\n",
       "      <td>서울 영등포구 도림로 343 (도림동)</td>\n",
       "      <td>1598.0</td>\n",
       "      <td>Y</td>\n",
       "      <td>알뜰주유소</td>\n",
       "      <td>영등포구</td>\n",
       "    </tr>\n",
       "    <tr>\n",
       "      <th>179</th>\n",
       "      <td>(주)타이거오일 신정주유소</td>\n",
       "      <td>서울 양천구 중앙로 226 (신정동)</td>\n",
       "      <td>1604.0</td>\n",
       "      <td>Y</td>\n",
       "      <td>SK에너지</td>\n",
       "      <td>양천구</td>\n",
       "    </tr>\n",
       "    <tr>\n",
       "      <th>231</th>\n",
       "      <td>수유동주유소</td>\n",
       "      <td>서울 강북구 도봉로 395 (수유동)</td>\n",
       "      <td>1608.0</td>\n",
       "      <td>Y</td>\n",
       "      <td>GS칼텍스</td>\n",
       "      <td>강북구</td>\n",
       "    </tr>\n",
       "    <tr>\n",
       "      <th>415</th>\n",
       "      <td>삼미북부셀프주유소</td>\n",
       "      <td>서울 도봉구 도봉로 437 (쌍문동)</td>\n",
       "      <td>1608.0</td>\n",
       "      <td>Y</td>\n",
       "      <td>SK에너지</td>\n",
       "      <td>도봉구</td>\n",
       "    </tr>\n",
       "  </tbody>\n",
       "</table>\n",
       "</div>"
      ],
      "text/plain": [
       "                 상호                      주소      가격 셀프      상표     구\n",
       "16         동서울고속주유소         서울 동대문구 한천로 414  1595.0  Y   SK에너지  동대문구\n",
       "402          화랑대주유소          서울 노원구 화랑로 483  1595.0  Y  현대오일뱅크   노원구\n",
       "401         배꽃나라주유소    서울 노원구 화랑로 466 (공릉동)  1595.0  Y   GS칼텍스   노원구\n",
       "205      영등포제일셀프주유소        서울 영등포구 가마산로 379  1598.0  Y  현대오일뱅크  영등포구\n",
       "207           성락주유소  서울 영등포구 가마산로 414 (신길동)  1598.0  Y   S-OIL  영등포구\n",
       "204        남서울고속주유소  서울 영등포구 가마산로 367 (대림동)  1598.0  Y   SK에너지  영등포구\n",
       "206           도림주유소   서울 영등포구 도림로 343 (도림동)  1598.0  Y   알뜰주유소  영등포구\n",
       "179  (주)타이거오일 신정주유소    서울 양천구 중앙로 226 (신정동)  1604.0  Y   SK에너지   양천구\n",
       "231          수유동주유소    서울 강북구 도봉로 395 (수유동)  1608.0  Y   GS칼텍스   강북구\n",
       "415       삼미북부셀프주유소    서울 도봉구 도봉로 437 (쌍문동)  1608.0  Y   SK에너지   도봉구"
      ]
     },
     "execution_count": 37,
     "metadata": {},
     "output_type": "execute_result"
    }
   ],
   "source": [
    "stations.sort_values(by='가격', ascending=True).head(10)"
   ]
  },
  {
   "cell_type": "code",
   "execution_count": 38,
   "id": "3427f823",
   "metadata": {},
   "outputs": [
    {
     "data": {
      "text/html": [
       "<div>\n",
       "<style scoped>\n",
       "    .dataframe tbody tr th:only-of-type {\n",
       "        vertical-align: middle;\n",
       "    }\n",
       "\n",
       "    .dataframe tbody tr th {\n",
       "        vertical-align: top;\n",
       "    }\n",
       "\n",
       "    .dataframe thead th {\n",
       "        text-align: right;\n",
       "    }\n",
       "</style>\n",
       "<table border=\"1\" class=\"dataframe\">\n",
       "  <thead>\n",
       "    <tr style=\"text-align: right;\">\n",
       "      <th></th>\n",
       "      <th>가격</th>\n",
       "    </tr>\n",
       "    <tr>\n",
       "      <th>구</th>\n",
       "      <th></th>\n",
       "    </tr>\n",
       "  </thead>\n",
       "  <tbody>\n",
       "    <tr>\n",
       "      <th>강남구</th>\n",
       "      <td>1874.400000</td>\n",
       "    </tr>\n",
       "    <tr>\n",
       "      <th>강동구</th>\n",
       "      <td>1770.625000</td>\n",
       "    </tr>\n",
       "    <tr>\n",
       "      <th>강북구</th>\n",
       "      <td>1636.076923</td>\n",
       "    </tr>\n",
       "    <tr>\n",
       "      <th>강서구</th>\n",
       "      <td>1687.343750</td>\n",
       "    </tr>\n",
       "    <tr>\n",
       "      <th>관악구</th>\n",
       "      <td>1719.866667</td>\n",
       "    </tr>\n",
       "  </tbody>\n",
       "</table>\n",
       "</div>"
      ],
      "text/plain": [
       "              가격\n",
       "구               \n",
       "강남구  1874.400000\n",
       "강동구  1770.625000\n",
       "강북구  1636.076923\n",
       "강서구  1687.343750\n",
       "관악구  1719.866667"
      ]
     },
     "execution_count": 38,
     "metadata": {},
     "output_type": "execute_result"
    }
   ],
   "source": [
    "import numpy as np\n",
    "\n",
    "gu_data = pd.pivot_table(stations, index=['구'], values=['가격'], aggfunc=np.mean)\n",
    "gu_data.head()"
   ]
  },
  {
   "cell_type": "code",
   "execution_count": 41,
   "id": "3066bd33",
   "metadata": {},
   "outputs": [
    {
     "data": {
      "text/html": [
       "<div style=\"width:100%;\"><div style=\"position:relative;width:100%;height:0;padding-bottom:60%;\"><span style=\"color:#565656\">Make this Notebook Trusted to load map: File -> Trust Notebook</span><iframe src=\"about:blank\" style=\"position:absolute;width:100%;height:100%;left:0;top:0;border:none !important;\" data-html=%3C%21DOCTYPE%20html%3E%0A%3Chead%3E%20%20%20%20%0A%20%20%20%20%3Cmeta%20http-equiv%3D%22content-type%22%20content%3D%22text/html%3B%20charset%3DUTF-8%22%20/%3E%0A%20%20%20%20%0A%20%20%20%20%20%20%20%20%3Cscript%3E%0A%20%20%20%20%20%20%20%20%20%20%20%20L_NO_TOUCH%20%3D%20false%3B%0A%20%20%20%20%20%20%20%20%20%20%20%20L_DISABLE_3D%20%3D%20false%3B%0A%20%20%20%20%20%20%20%20%3C/script%3E%0A%20%20%20%20%0A%20%20%20%20%3Cstyle%3Ehtml%2C%20body%20%7Bwidth%3A%20100%25%3Bheight%3A%20100%25%3Bmargin%3A%200%3Bpadding%3A%200%3B%7D%3C/style%3E%0A%20%20%20%20%3Cstyle%3E%23map%20%7Bposition%3Aabsolute%3Btop%3A0%3Bbottom%3A0%3Bright%3A0%3Bleft%3A0%3B%7D%3C/style%3E%0A%20%20%20%20%3Cscript%20src%3D%22https%3A//cdn.jsdelivr.net/npm/leaflet%401.6.0/dist/leaflet.js%22%3E%3C/script%3E%0A%20%20%20%20%3Cscript%20src%3D%22https%3A//code.jquery.com/jquery-1.12.4.min.js%22%3E%3C/script%3E%0A%20%20%20%20%3Cscript%20src%3D%22https%3A//maxcdn.bootstrapcdn.com/bootstrap/3.2.0/js/bootstrap.min.js%22%3E%3C/script%3E%0A%20%20%20%20%3Cscript%20src%3D%22https%3A//cdnjs.cloudflare.com/ajax/libs/Leaflet.awesome-markers/2.0.2/leaflet.awesome-markers.js%22%3E%3C/script%3E%0A%20%20%20%20%3Clink%20rel%3D%22stylesheet%22%20href%3D%22https%3A//cdn.jsdelivr.net/npm/leaflet%401.6.0/dist/leaflet.css%22/%3E%0A%20%20%20%20%3Clink%20rel%3D%22stylesheet%22%20href%3D%22https%3A//maxcdn.bootstrapcdn.com/bootstrap/3.2.0/css/bootstrap.min.css%22/%3E%0A%20%20%20%20%3Clink%20rel%3D%22stylesheet%22%20href%3D%22https%3A//maxcdn.bootstrapcdn.com/bootstrap/3.2.0/css/bootstrap-theme.min.css%22/%3E%0A%20%20%20%20%3Clink%20rel%3D%22stylesheet%22%20href%3D%22https%3A//maxcdn.bootstrapcdn.com/font-awesome/4.6.3/css/font-awesome.min.css%22/%3E%0A%20%20%20%20%3Clink%20rel%3D%22stylesheet%22%20href%3D%22https%3A//cdnjs.cloudflare.com/ajax/libs/Leaflet.awesome-markers/2.0.2/leaflet.awesome-markers.css%22/%3E%0A%20%20%20%20%3Clink%20rel%3D%22stylesheet%22%20href%3D%22https%3A//cdn.jsdelivr.net/gh/python-visualization/folium/folium/templates/leaflet.awesome.rotate.min.css%22/%3E%0A%20%20%20%20%0A%20%20%20%20%20%20%20%20%20%20%20%20%3Cmeta%20name%3D%22viewport%22%20content%3D%22width%3Ddevice-width%2C%0A%20%20%20%20%20%20%20%20%20%20%20%20%20%20%20%20initial-scale%3D1.0%2C%20maximum-scale%3D1.0%2C%20user-scalable%3Dno%22%20/%3E%0A%20%20%20%20%20%20%20%20%20%20%20%20%3Cstyle%3E%0A%20%20%20%20%20%20%20%20%20%20%20%20%20%20%20%20%23map_325c6ed958c248778672dad8dcb65173%20%7B%0A%20%20%20%20%20%20%20%20%20%20%20%20%20%20%20%20%20%20%20%20position%3A%20relative%3B%0A%20%20%20%20%20%20%20%20%20%20%20%20%20%20%20%20%20%20%20%20width%3A%20100.0%25%3B%0A%20%20%20%20%20%20%20%20%20%20%20%20%20%20%20%20%20%20%20%20height%3A%20100.0%25%3B%0A%20%20%20%20%20%20%20%20%20%20%20%20%20%20%20%20%20%20%20%20left%3A%200.0%25%3B%0A%20%20%20%20%20%20%20%20%20%20%20%20%20%20%20%20%20%20%20%20top%3A%200.0%25%3B%0A%20%20%20%20%20%20%20%20%20%20%20%20%20%20%20%20%7D%0A%20%20%20%20%20%20%20%20%20%20%20%20%3C/style%3E%0A%20%20%20%20%20%20%20%20%0A%20%20%20%20%3Cscript%20src%3D%22https%3A//cdnjs.cloudflare.com/ajax/libs/d3/3.5.5/d3.min.js%22%3E%3C/script%3E%0A%3C/head%3E%0A%3Cbody%3E%20%20%20%20%0A%20%20%20%20%0A%20%20%20%20%20%20%20%20%20%20%20%20%3Cdiv%20class%3D%22folium-map%22%20id%3D%22map_325c6ed958c248778672dad8dcb65173%22%20%3E%3C/div%3E%0A%20%20%20%20%20%20%20%20%0A%3C/body%3E%0A%3Cscript%3E%20%20%20%20%0A%20%20%20%20%0A%20%20%20%20%20%20%20%20%20%20%20%20var%20map_325c6ed958c248778672dad8dcb65173%20%3D%20L.map%28%0A%20%20%20%20%20%20%20%20%20%20%20%20%20%20%20%20%22map_325c6ed958c248778672dad8dcb65173%22%2C%0A%20%20%20%20%20%20%20%20%20%20%20%20%20%20%20%20%7B%0A%20%20%20%20%20%20%20%20%20%20%20%20%20%20%20%20%20%20%20%20center%3A%20%5B37.5502%2C%20126.982%5D%2C%0A%20%20%20%20%20%20%20%20%20%20%20%20%20%20%20%20%20%20%20%20crs%3A%20L.CRS.EPSG3857%2C%0A%20%20%20%20%20%20%20%20%20%20%20%20%20%20%20%20%20%20%20%20zoom%3A%2010.5%2C%0A%20%20%20%20%20%20%20%20%20%20%20%20%20%20%20%20%20%20%20%20zoomControl%3A%20true%2C%0A%20%20%20%20%20%20%20%20%20%20%20%20%20%20%20%20%20%20%20%20preferCanvas%3A%20false%2C%0A%20%20%20%20%20%20%20%20%20%20%20%20%20%20%20%20%7D%0A%20%20%20%20%20%20%20%20%20%20%20%20%29%3B%0A%0A%20%20%20%20%20%20%20%20%20%20%20%20%0A%0A%20%20%20%20%20%20%20%20%0A%20%20%20%20%0A%20%20%20%20%20%20%20%20%20%20%20%20var%20tile_layer_429a49819302455bb06ce71a550cdce5%20%3D%20L.tileLayer%28%0A%20%20%20%20%20%20%20%20%20%20%20%20%20%20%20%20%22https%3A//stamen-tiles-%7Bs%7D.a.ssl.fastly.net/toner/%7Bz%7D/%7Bx%7D/%7By%7D.png%22%2C%0A%20%20%20%20%20%20%20%20%20%20%20%20%20%20%20%20%7B%22attribution%22%3A%20%22Map%20tiles%20by%20%5Cu003ca%20href%3D%5C%22http%3A//stamen.com%5C%22%5Cu003eStamen%20Design%5Cu003c/a%5Cu003e%2C%20under%20%5Cu003ca%20href%3D%5C%22http%3A//creativecommons.org/licenses/by/3.0%5C%22%5Cu003eCC%20BY%203.0%5Cu003c/a%5Cu003e.%20Data%20by%20%5Cu0026copy%3B%20%5Cu003ca%20href%3D%5C%22http%3A//openstreetmap.org%5C%22%5Cu003eOpenStreetMap%5Cu003c/a%5Cu003e%2C%20under%20%5Cu003ca%20href%3D%5C%22http%3A//www.openstreetmap.org/copyright%5C%22%5Cu003eODbL%5Cu003c/a%5Cu003e.%22%2C%20%22detectRetina%22%3A%20false%2C%20%22maxNativeZoom%22%3A%2018%2C%20%22maxZoom%22%3A%2018%2C%20%22minZoom%22%3A%200%2C%20%22noWrap%22%3A%20false%2C%20%22opacity%22%3A%201%2C%20%22subdomains%22%3A%20%22abc%22%2C%20%22tms%22%3A%20false%7D%0A%20%20%20%20%20%20%20%20%20%20%20%20%29.addTo%28map_325c6ed958c248778672dad8dcb65173%29%3B%0A%20%20%20%20%20%20%20%20%0A%20%20%20%20%0A%20%20%20%20%20%20%20%20%20%20%20%20var%20choropleth_0eae87a09cd9476d822017f55d026a82%20%3D%20L.featureGroup%28%0A%20%20%20%20%20%20%20%20%20%20%20%20%20%20%20%20%7B%7D%0A%20%20%20%20%20%20%20%20%20%20%20%20%29.addTo%28map_325c6ed958c248778672dad8dcb65173%29%3B%0A%20%20%20%20%20%20%20%20%0A%20%20%20%20%0A%20%20%20%20%20%20%20%20function%20geo_json_b6c865e91cb14e2096d7cac7e6eebe40_styler%28feature%29%20%7B%0A%20%20%20%20%20%20%20%20%20%20%20%20switch%28feature.id%29%20%7B%0A%20%20%20%20%20%20%20%20%20%20%20%20%20%20%20%20case%20%22%5Cuac15%5Cub3d9%5Cuad6c%22%3A%20case%20%22%5Cuc11c%5Cucd08%5Cuad6c%22%3A%20case%20%22%5Cuad00%5Cuc545%5Cuad6c%22%3A%20case%20%22%5Cuc601%5Cub4f1%5Cud3ec%5Cuad6c%22%3A%20case%20%22%5Cub9c8%5Cud3ec%5Cuad6c%22%3A%20case%20%22%5Cuc131%5Cub3d9%5Cuad6c%22%3A%20%0A%20%20%20%20%20%20%20%20%20%20%20%20%20%20%20%20%20%20%20%20return%20%7B%22color%22%3A%20%22black%22%2C%20%22fillColor%22%3A%20%22%23d9f0a3%22%2C%20%22fillOpacity%22%3A%200.6%2C%20%22opacity%22%3A%201%2C%20%22weight%22%3A%201%7D%3B%0A%20%20%20%20%20%20%20%20%20%20%20%20%20%20%20%20case%20%22%5Cuac15%5Cub0a8%5Cuad6c%22%3A%20%0A%20%20%20%20%20%20%20%20%20%20%20%20%20%20%20%20%20%20%20%20return%20%7B%22color%22%3A%20%22black%22%2C%20%22fillColor%22%3A%20%22%23addd8e%22%2C%20%22fillOpacity%22%3A%200.6%2C%20%22opacity%22%3A%201%2C%20%22weight%22%3A%201%7D%3B%0A%20%20%20%20%20%20%20%20%20%20%20%20%20%20%20%20case%20%22%5Cuc6a9%5Cuc0b0%5Cuad6c%22%3A%20%0A%20%20%20%20%20%20%20%20%20%20%20%20%20%20%20%20%20%20%20%20return%20%7B%22color%22%3A%20%22black%22%2C%20%22fillColor%22%3A%20%22%2331a354%22%2C%20%22fillOpacity%22%3A%200.6%2C%20%22opacity%22%3A%201%2C%20%22weight%22%3A%201%7D%3B%0A%20%20%20%20%20%20%20%20%20%20%20%20%20%20%20%20case%20%22%5Cuc911%5Cuad6c%22%3A%20%0A%20%20%20%20%20%20%20%20%20%20%20%20%20%20%20%20%20%20%20%20return%20%7B%22color%22%3A%20%22black%22%2C%20%22fillColor%22%3A%20%22%23006837%22%2C%20%22fillOpacity%22%3A%200.6%2C%20%22opacity%22%3A%201%2C%20%22weight%22%3A%201%7D%3B%0A%20%20%20%20%20%20%20%20%20%20%20%20%20%20%20%20case%20%22%5Cuc885%5Cub85c%5Cuad6c%22%3A%20%0A%20%20%20%20%20%20%20%20%20%20%20%20%20%20%20%20%20%20%20%20return%20%7B%22color%22%3A%20%22black%22%2C%20%22fillColor%22%3A%20%22%2378c679%22%2C%20%22fillOpacity%22%3A%200.6%2C%20%22opacity%22%3A%201%2C%20%22weight%22%3A%201%7D%3B%0A%20%20%20%20%20%20%20%20%20%20%20%20%20%20%20%20default%3A%0A%20%20%20%20%20%20%20%20%20%20%20%20%20%20%20%20%20%20%20%20return%20%7B%22color%22%3A%20%22black%22%2C%20%22fillColor%22%3A%20%22%23ffffcc%22%2C%20%22fillOpacity%22%3A%200.6%2C%20%22opacity%22%3A%201%2C%20%22weight%22%3A%201%7D%3B%0A%20%20%20%20%20%20%20%20%20%20%20%20%7D%0A%20%20%20%20%20%20%20%20%7D%0A%0A%20%20%20%20%20%20%20%20function%20geo_json_b6c865e91cb14e2096d7cac7e6eebe40_onEachFeature%28feature%2C%20layer%29%20%7B%0A%20%20%20%20%20%20%20%20%20%20%20%20layer.on%28%7B%0A%20%20%20%20%20%20%20%20%20%20%20%20%7D%29%3B%0A%20%20%20%20%20%20%20%20%7D%3B%0A%20%20%20%20%20%20%20%20var%20geo_json_b6c865e91cb14e2096d7cac7e6eebe40%20%3D%20L.geoJson%28null%2C%20%7B%0A%20%20%20%20%20%20%20%20%20%20%20%20%20%20%20%20onEachFeature%3A%20geo_json_b6c865e91cb14e2096d7cac7e6eebe40_onEachFeature%2C%0A%20%20%20%20%20%20%20%20%20%20%20%20%0A%20%20%20%20%20%20%20%20%20%20%20%20%20%20%20%20style%3A%20geo_json_b6c865e91cb14e2096d7cac7e6eebe40_styler%2C%0A%20%20%20%20%20%20%20%20%7D%29%3B%0A%0A%20%20%20%20%20%20%20%20function%20geo_json_b6c865e91cb14e2096d7cac7e6eebe40_add%20%28data%29%20%7B%0A%20%20%20%20%20%20%20%20%20%20%20%20geo_json_b6c865e91cb14e2096d7cac7e6eebe40%0A%20%20%20%20%20%20%20%20%20%20%20%20%20%20%20%20.addData%28data%29%0A%20%20%20%20%20%20%20%20%20%20%20%20%20%20%20%20.addTo%28choropleth_0eae87a09cd9476d822017f55d026a82%29%3B%0A%20%20%20%20%20%20%20%20%7D%0A%20%20%20%20%20%20%20%20%20%20%20%20geo_json_b6c865e91cb14e2096d7cac7e6eebe40_add%28%7B%22features%22%3A%20%5B%7B%22geometry%22%3A%20%7B%22coordinates%22%3A%20%5B%5B%5B127.11519584981606%2C%2037.557533180704915%5D%2C%20%5B127.16683184366129%2C%2037.57672487388627%5D%2C%20%5B127.18408792330152%2C%2037.55814280369575%5D%2C%20%5B127.16530984307447%2C%2037.54221851258693%5D%2C%20%5B127.14672806823502%2C%2037.51415680680291%5D%2C%20%5B127.12123165719615%2C%2037.52528270089%5D%2C%20%5B127.1116764203608%2C%2037.540669955324965%5D%2C%20%5B127.11519584981606%2C%2037.557533180704915%5D%5D%5D%2C%20%22type%22%3A%20%22Polygon%22%7D%2C%20%22id%22%3A%20%22%5Cuac15%5Cub3d9%5Cuad6c%22%2C%20%22properties%22%3A%20%7B%22base_year%22%3A%20%222013%22%2C%20%22code%22%3A%20%2211250%22%2C%20%22name%22%3A%20%22%5Cuac15%5Cub3d9%5Cuad6c%22%2C%20%22name_eng%22%3A%20%22Gangdong-gu%22%7D%2C%20%22type%22%3A%20%22Feature%22%7D%2C%20%7B%22geometry%22%3A%20%7B%22coordinates%22%3A%20%5B%5B%5B127.0690698130372%2C%2037.522279423505026%5D%2C%20%5B127.10087519791962%2C%2037.524841220167055%5D%2C%20%5B127.1116764203608%2C%2037.540669955324965%5D%2C%20%5B127.12123165719615%2C%2037.52528270089%5D%2C%20%5B127.14672806823502%2C%2037.51415680680291%5D%2C%20%5B127.1634944215765%2C%2037.497445406097484%5D%2C%20%5B127.14206058413274%2C%2037.47089819098501%5D%2C%20%5B127.12440571080893%2C%2037.46240445587048%5D%2C%20%5B127.11117085201238%2C%2037.485708381512445%5D%2C%20%5B127.0719146000724%2C%2037.50224013587669%5D%2C%20%5B127.0690698130372%2C%2037.522279423505026%5D%5D%5D%2C%20%22type%22%3A%20%22Polygon%22%7D%2C%20%22id%22%3A%20%22%5Cuc1a1%5Cud30c%5Cuad6c%22%2C%20%22properties%22%3A%20%7B%22base_year%22%3A%20%222013%22%2C%20%22code%22%3A%20%2211240%22%2C%20%22name%22%3A%20%22%5Cuc1a1%5Cud30c%5Cuad6c%22%2C%20%22name_eng%22%3A%20%22Songpa-gu%22%7D%2C%20%22type%22%3A%20%22Feature%22%7D%2C%20%7B%22geometry%22%3A%20%7B%22coordinates%22%3A%20%5B%5B%5B127.05867359288398%2C%2037.52629974922568%5D%2C%20%5B127.0690698130372%2C%2037.522279423505026%5D%2C%20%5B127.0719146000724%2C%2037.50224013587669%5D%2C%20%5B127.11117085201238%2C%2037.485708381512445%5D%2C%20%5B127.12440571080893%2C%2037.46240445587048%5D%2C%20%5B127.09842759318751%2C%2037.45862253857461%5D%2C%20%5B127.08640440578156%2C%2037.472697935184655%5D%2C%20%5B127.0559170481904%2C%2037.4659228914077%5D%2C%20%5B127.03621915098798%2C%2037.48175802427603%5D%2C%20%5B127.01397119667513%2C%2037.52503988289669%5D%2C%20%5B127.02302831890559%2C%2037.53231899582663%5D%2C%20%5B127.05867359288398%2C%2037.52629974922568%5D%5D%5D%2C%20%22type%22%3A%20%22Polygon%22%7D%2C%20%22id%22%3A%20%22%5Cuac15%5Cub0a8%5Cuad6c%22%2C%20%22properties%22%3A%20%7B%22base_year%22%3A%20%222013%22%2C%20%22code%22%3A%20%2211230%22%2C%20%22name%22%3A%20%22%5Cuac15%5Cub0a8%5Cuad6c%22%2C%20%22name_eng%22%3A%20%22Gangnam-gu%22%7D%2C%20%22type%22%3A%20%22Feature%22%7D%2C%20%7B%22geometry%22%3A%20%7B%22coordinates%22%3A%20%5B%5B%5B127.01397119667513%2C%2037.52503988289669%5D%2C%20%5B127.03621915098798%2C%2037.48175802427603%5D%2C%20%5B127.0559170481904%2C%2037.4659228914077%5D%2C%20%5B127.08640440578156%2C%2037.472697935184655%5D%2C%20%5B127.09842759318751%2C%2037.45862253857461%5D%2C%20%5B127.09046928565951%2C%2037.44296826114185%5D%2C%20%5B127.06778107605433%2C%2037.426197424057314%5D%2C%20%5B127.04957232987142%2C%2037.42805836845694%5D%2C%20%5B127.03881782597922%2C%2037.45382039851715%5D%2C%20%5B126.99072073195462%2C%2037.455326143310025%5D%2C%20%5B126.98367668291802%2C%2037.473856492692086%5D%2C%20%5B126.98223807916081%2C%2037.509314966770326%5D%2C%20%5B127.01397119667513%2C%2037.52503988289669%5D%5D%5D%2C%20%22type%22%3A%20%22Polygon%22%7D%2C%20%22id%22%3A%20%22%5Cuc11c%5Cucd08%5Cuad6c%22%2C%20%22properties%22%3A%20%7B%22base_year%22%3A%20%222013%22%2C%20%22code%22%3A%20%2211220%22%2C%20%22name%22%3A%20%22%5Cuc11c%5Cucd08%5Cuad6c%22%2C%20%22name_eng%22%3A%20%22Seocho-gu%22%7D%2C%20%22type%22%3A%20%22Feature%22%7D%2C%20%7B%22geometry%22%3A%20%7B%22coordinates%22%3A%20%5B%5B%5B126.98367668291802%2C%2037.473856492692086%5D%2C%20%5B126.99072073195462%2C%2037.455326143310025%5D%2C%20%5B126.96520439085143%2C%2037.438249784006246%5D%2C%20%5B126.95000001010182%2C%2037.43613451165719%5D%2C%20%5B126.93084408056525%2C%2037.447382928333994%5D%2C%20%5B126.9167728146601%2C%2037.45490566423789%5D%2C%20%5B126.90156094129895%2C%2037.47753842789901%5D%2C%20%5B126.90531975801812%2C%2037.48218087575429%5D%2C%20%5B126.94922661389508%2C%2037.49125437495649%5D%2C%20%5B126.9725891850662%2C%2037.472561363278125%5D%2C%20%5B126.98367668291802%2C%2037.473856492692086%5D%5D%5D%2C%20%22type%22%3A%20%22Polygon%22%7D%2C%20%22id%22%3A%20%22%5Cuad00%5Cuc545%5Cuad6c%22%2C%20%22properties%22%3A%20%7B%22base_year%22%3A%20%222013%22%2C%20%22code%22%3A%20%2211210%22%2C%20%22name%22%3A%20%22%5Cuad00%5Cuc545%5Cuad6c%22%2C%20%22name_eng%22%3A%20%22Gwanak-gu%22%7D%2C%20%22type%22%3A%20%22Feature%22%7D%2C%20%7B%22geometry%22%3A%20%7B%22coordinates%22%3A%20%5B%5B%5B126.98223807916081%2C%2037.509314966770326%5D%2C%20%5B126.98367668291802%2C%2037.473856492692086%5D%2C%20%5B126.9725891850662%2C%2037.472561363278125%5D%2C%20%5B126.94922661389508%2C%2037.49125437495649%5D%2C%20%5B126.90531975801812%2C%2037.48218087575429%5D%2C%20%5B126.92177893174825%2C%2037.494889877415176%5D%2C%20%5B126.92810628828279%2C%2037.51329595732015%5D%2C%20%5B126.95249990298159%2C%2037.51722500741813%5D%2C%20%5B126.98223807916081%2C%2037.509314966770326%5D%5D%5D%2C%20%22type%22%3A%20%22Polygon%22%7D%2C%20%22id%22%3A%20%22%5Cub3d9%5Cuc791%5Cuad6c%22%2C%20%22properties%22%3A%20%7B%22base_year%22%3A%20%222013%22%2C%20%22code%22%3A%20%2211200%22%2C%20%22name%22%3A%20%22%5Cub3d9%5Cuc791%5Cuad6c%22%2C%20%22name_eng%22%3A%20%22Dongjak-gu%22%7D%2C%20%22type%22%3A%20%22Feature%22%7D%2C%20%7B%22geometry%22%3A%20%7B%22coordinates%22%3A%20%5B%5B%5B126.89184663862764%2C%2037.547373974997114%5D%2C%20%5B126.94566733083212%2C%2037.526617542453366%5D%2C%20%5B126.95249990298159%2C%2037.51722500741813%5D%2C%20%5B126.92810628828279%2C%2037.51329595732015%5D%2C%20%5B126.92177893174825%2C%2037.494889877415176%5D%2C%20%5B126.90531975801812%2C%2037.48218087575429%5D%2C%20%5B126.89594776782485%2C%2037.504675281309176%5D%2C%20%5B126.88156402353862%2C%2037.513970034765684%5D%2C%20%5B126.88825757860099%2C%2037.54079733630232%5D%2C%20%5B126.89184663862764%2C%2037.547373974997114%5D%5D%5D%2C%20%22type%22%3A%20%22Polygon%22%7D%2C%20%22id%22%3A%20%22%5Cuc601%5Cub4f1%5Cud3ec%5Cuad6c%22%2C%20%22properties%22%3A%20%7B%22base_year%22%3A%20%222013%22%2C%20%22code%22%3A%20%2211190%22%2C%20%22name%22%3A%20%22%5Cuc601%5Cub4f1%5Cud3ec%5Cuad6c%22%2C%20%22name_eng%22%3A%20%22Yeongdeungpo-gu%22%7D%2C%20%22type%22%3A%20%22Feature%22%7D%2C%20%7B%22geometry%22%3A%20%7B%22coordinates%22%3A%20%5B%5B%5B126.90156094129895%2C%2037.47753842789901%5D%2C%20%5B126.9167728146601%2C%2037.45490566423789%5D%2C%20%5B126.93084408056525%2C%2037.447382928333994%5D%2C%20%5B126.9025831711697%2C%2037.434549366349124%5D%2C%20%5B126.87683271502428%2C%2037.482576591607305%5D%2C%20%5B126.90156094129895%2C%2037.47753842789901%5D%5D%5D%2C%20%22type%22%3A%20%22Polygon%22%7D%2C%20%22id%22%3A%20%22%5Cuae08%5Cucc9c%5Cuad6c%22%2C%20%22properties%22%3A%20%7B%22base_year%22%3A%20%222013%22%2C%20%22code%22%3A%20%2211180%22%2C%20%22name%22%3A%20%22%5Cuae08%5Cucc9c%5Cuad6c%22%2C%20%22name_eng%22%3A%20%22Geumcheon-gu%22%7D%2C%20%22type%22%3A%20%22Feature%22%7D%2C%20%7B%22geometry%22%3A%20%7B%22coordinates%22%3A%20%5B%5B%5B126.82688081517314%2C%2037.50548972232896%5D%2C%20%5B126.88156402353862%2C%2037.513970034765684%5D%2C%20%5B126.89594776782485%2C%2037.504675281309176%5D%2C%20%5B126.90531975801812%2C%2037.48218087575429%5D%2C%20%5B126.90156094129895%2C%2037.47753842789901%5D%2C%20%5B126.87683271502428%2C%2037.482576591607305%5D%2C%20%5B126.84762676054953%2C%2037.47146723936323%5D%2C%20%5B126.83549485076196%2C%2037.474098236975095%5D%2C%20%5B126.82264796791348%2C%2037.4878476492147%5D%2C%20%5B126.82504736331406%2C%2037.50302612640443%5D%2C%20%5B126.82688081517314%2C%2037.50548972232896%5D%5D%5D%2C%20%22type%22%3A%20%22Polygon%22%7D%2C%20%22id%22%3A%20%22%5Cuad6c%5Cub85c%5Cuad6c%22%2C%20%22properties%22%3A%20%7B%22base_year%22%3A%20%222013%22%2C%20%22code%22%3A%20%2211170%22%2C%20%22name%22%3A%20%22%5Cuad6c%5Cub85c%5Cuad6c%22%2C%20%22name_eng%22%3A%20%22Guro-gu%22%7D%2C%20%22type%22%3A%20%22Feature%22%7D%2C%20%7B%22geometry%22%3A%20%7B%22coordinates%22%3A%20%5B%5B%5B126.79575768552907%2C%2037.57881087633202%5D%2C%20%5B126.80702115023597%2C%2037.60123001013228%5D%2C%20%5B126.82251438477105%2C%2037.5880430810082%5D%2C%20%5B126.85984199399667%2C%2037.571847855292745%5D%2C%20%5B126.89184663862764%2C%2037.547373974997114%5D%2C%20%5B126.88825757860099%2C%2037.54079733630232%5D%2C%20%5B126.86637464321238%2C%2037.54859191094823%5D%2C%20%5B126.86610073476395%2C%2037.52699964144669%5D%2C%20%5B126.84257291943153%2C%2037.52373707805596%5D%2C%20%5B126.8242331426722%2C%2037.53788078753248%5D%2C%20%5B126.77324417717703%2C%2037.5459123450554%5D%2C%20%5B126.76979180579352%2C%2037.55139183008809%5D%2C%20%5B126.79575768552907%2C%2037.57881087633202%5D%5D%5D%2C%20%22type%22%3A%20%22Polygon%22%7D%2C%20%22id%22%3A%20%22%5Cuac15%5Cuc11c%5Cuad6c%22%2C%20%22properties%22%3A%20%7B%22base_year%22%3A%20%222013%22%2C%20%22code%22%3A%20%2211160%22%2C%20%22name%22%3A%20%22%5Cuac15%5Cuc11c%5Cuad6c%22%2C%20%22name_eng%22%3A%20%22Gangseo-gu%22%7D%2C%20%22type%22%3A%20%22Feature%22%7D%2C%20%7B%22geometry%22%3A%20%7B%22coordinates%22%3A%20%5B%5B%5B126.8242331426722%2C%2037.53788078753248%5D%2C%20%5B126.84257291943153%2C%2037.52373707805596%5D%2C%20%5B126.86610073476395%2C%2037.52699964144669%5D%2C%20%5B126.86637464321238%2C%2037.54859191094823%5D%2C%20%5B126.88825757860099%2C%2037.54079733630232%5D%2C%20%5B126.88156402353862%2C%2037.513970034765684%5D%2C%20%5B126.82688081517314%2C%2037.50548972232896%5D%2C%20%5B126.8242331426722%2C%2037.53788078753248%5D%5D%5D%2C%20%22type%22%3A%20%22Polygon%22%7D%2C%20%22id%22%3A%20%22%5Cuc591%5Cucc9c%5Cuad6c%22%2C%20%22properties%22%3A%20%7B%22base_year%22%3A%20%222013%22%2C%20%22code%22%3A%20%2211150%22%2C%20%22name%22%3A%20%22%5Cuc591%5Cucc9c%5Cuad6c%22%2C%20%22name_eng%22%3A%20%22Yangcheon-gu%22%7D%2C%20%22type%22%3A%20%22Feature%22%7D%2C%20%7B%22geometry%22%3A%20%7B%22coordinates%22%3A%20%5B%5B%5B126.90522065831053%2C%2037.57409700522574%5D%2C%20%5B126.93898161798973%2C%2037.552310003728124%5D%2C%20%5B126.96358226710812%2C%2037.55605635475154%5D%2C%20%5B126.96448570553055%2C%2037.548705692021635%5D%2C%20%5B126.94566733083212%2C%2037.526617542453366%5D%2C%20%5B126.89184663862764%2C%2037.547373974997114%5D%2C%20%5B126.85984199399667%2C%2037.571847855292745%5D%2C%20%5B126.88433284773288%2C%2037.588143322880526%5D%2C%20%5B126.90522065831053%2C%2037.57409700522574%5D%5D%5D%2C%20%22type%22%3A%20%22Polygon%22%7D%2C%20%22id%22%3A%20%22%5Cub9c8%5Cud3ec%5Cuad6c%22%2C%20%22properties%22%3A%20%7B%22base_year%22%3A%20%222013%22%2C%20%22code%22%3A%20%2211140%22%2C%20%22name%22%3A%20%22%5Cub9c8%5Cud3ec%5Cuad6c%22%2C%20%22name_eng%22%3A%20%22Mapo-gu%22%7D%2C%20%22type%22%3A%20%22Feature%22%7D%2C%20%7B%22geometry%22%3A%20%7B%22coordinates%22%3A%20%5B%5B%5B126.9524752030572%2C%2037.60508692737045%5D%2C%20%5B126.95565425846463%2C%2037.576080790881456%5D%2C%20%5B126.96873633279075%2C%2037.56313604690827%5D%2C%20%5B126.96358226710812%2C%2037.55605635475154%5D%2C%20%5B126.93898161798973%2C%2037.552310003728124%5D%2C%20%5B126.90522065831053%2C%2037.57409700522574%5D%2C%20%5B126.9524752030572%2C%2037.60508692737045%5D%5D%5D%2C%20%22type%22%3A%20%22Polygon%22%7D%2C%20%22id%22%3A%20%22%5Cuc11c%5Cub300%5Cubb38%5Cuad6c%22%2C%20%22properties%22%3A%20%7B%22base_year%22%3A%20%222013%22%2C%20%22code%22%3A%20%2211130%22%2C%20%22name%22%3A%20%22%5Cuc11c%5Cub300%5Cubb38%5Cuad6c%22%2C%20%22name_eng%22%3A%20%22Seodaemun-gu%22%7D%2C%20%22type%22%3A%20%22Feature%22%7D%2C%20%7B%22geometry%22%3A%20%7B%22coordinates%22%3A%20%5B%5B%5B126.9738864128702%2C%2037.62949634786888%5D%2C%20%5B126.95427017006129%2C%2037.622033431339425%5D%2C%20%5B126.9524752030572%2C%2037.60508692737045%5D%2C%20%5B126.90522065831053%2C%2037.57409700522574%5D%2C%20%5B126.88433284773288%2C%2037.588143322880526%5D%2C%20%5B126.90396681003595%2C%2037.59227403419942%5D%2C%20%5B126.90303066177668%2C%2037.609977911401344%5D%2C%20%5B126.91455481429648%2C%2037.64150050996935%5D%2C%20%5B126.956473797387%2C%2037.652480737339445%5D%2C%20%5B126.9738864128702%2C%2037.62949634786888%5D%5D%5D%2C%20%22type%22%3A%20%22Polygon%22%7D%2C%20%22id%22%3A%20%22%5Cuc740%5Cud3c9%5Cuad6c%22%2C%20%22properties%22%3A%20%7B%22base_year%22%3A%20%222013%22%2C%20%22code%22%3A%20%2211120%22%2C%20%22name%22%3A%20%22%5Cuc740%5Cud3c9%5Cuad6c%22%2C%20%22name_eng%22%3A%20%22Eunpyeong-gu%22%7D%2C%20%22type%22%3A%20%22Feature%22%7D%2C%20%7B%22geometry%22%3A%20%7B%22coordinates%22%3A%20%5B%5B%5B127.0838752703195%2C%2037.69359534202034%5D%2C%20%5B127.09706391309695%2C%2037.686383719372294%5D%2C%20%5B127.09440766298717%2C%2037.64713490473045%5D%2C%20%5B127.11326795855199%2C%2037.639622905315925%5D%2C%20%5B127.10782277688129%2C%2037.61804244241069%5D%2C%20%5B127.07351243825278%2C%2037.61283660342313%5D%2C%20%5B127.05209373568619%2C%2037.62164065487782%5D%2C%20%5B127.04358800895609%2C%2037.62848931298715%5D%2C%20%5B127.05800075220091%2C%2037.64318263878276%5D%2C%20%5B127.05288479710485%2C%2037.68423857084347%5D%2C%20%5B127.0838752703195%2C%2037.69359534202034%5D%5D%5D%2C%20%22type%22%3A%20%22Polygon%22%7D%2C%20%22id%22%3A%20%22%5Cub178%5Cuc6d0%5Cuad6c%22%2C%20%22properties%22%3A%20%7B%22base_year%22%3A%20%222013%22%2C%20%22code%22%3A%20%2211110%22%2C%20%22name%22%3A%20%22%5Cub178%5Cuc6d0%5Cuad6c%22%2C%20%22name_eng%22%3A%20%22Nowon-gu%22%7D%2C%20%22type%22%3A%20%22Feature%22%7D%2C%20%7B%22geometry%22%3A%20%7B%22coordinates%22%3A%20%5B%5B%5B127.05288479710485%2C%2037.68423857084347%5D%2C%20%5B127.05800075220091%2C%2037.64318263878276%5D%2C%20%5B127.04358800895609%2C%2037.62848931298715%5D%2C%20%5B127.01465935892466%2C%2037.64943687496812%5D%2C%20%5B127.02062116141389%2C%2037.667173575971205%5D%2C%20%5B127.01039666042071%2C%2037.681894589603594%5D%2C%20%5B127.01795099203432%2C%2037.69824412775662%5D%2C%20%5B127.05288479710485%2C%2037.68423857084347%5D%5D%5D%2C%20%22type%22%3A%20%22Polygon%22%7D%2C%20%22id%22%3A%20%22%5Cub3c4%5Cubd09%5Cuad6c%22%2C%20%22properties%22%3A%20%7B%22base_year%22%3A%20%222013%22%2C%20%22code%22%3A%20%2211100%22%2C%20%22name%22%3A%20%22%5Cub3c4%5Cubd09%5Cuad6c%22%2C%20%22name_eng%22%3A%20%22Dobong-gu%22%7D%2C%20%22type%22%3A%20%22Feature%22%7D%2C%20%7B%22geometry%22%3A%20%7B%22coordinates%22%3A%20%5B%5B%5B126.99383903424%2C%2037.676681761199085%5D%2C%20%5B127.01039666042071%2C%2037.681894589603594%5D%2C%20%5B127.02062116141389%2C%2037.667173575971205%5D%2C%20%5B127.01465935892466%2C%2037.64943687496812%5D%2C%20%5B127.04358800895609%2C%2037.62848931298715%5D%2C%20%5B127.05209373568619%2C%2037.62164065487782%5D%2C%20%5B127.03892400992301%2C%2037.609715611023816%5D%2C%20%5B127.0128154749523%2C%2037.613652243470256%5D%2C%20%5B126.98672705513869%2C%2037.63377641288196%5D%2C%20%5B126.9817452676551%2C%2037.65209769387776%5D%2C%20%5B126.99383903424%2C%2037.676681761199085%5D%5D%5D%2C%20%22type%22%3A%20%22Polygon%22%7D%2C%20%22id%22%3A%20%22%5Cuac15%5Cubd81%5Cuad6c%22%2C%20%22properties%22%3A%20%7B%22base_year%22%3A%20%222013%22%2C%20%22code%22%3A%20%2211090%22%2C%20%22name%22%3A%20%22%5Cuac15%5Cubd81%5Cuad6c%22%2C%20%22name_eng%22%3A%20%22Gangbuk-gu%22%7D%2C%20%22type%22%3A%20%22Feature%22%7D%2C%20%7B%22geometry%22%3A%20%7B%22coordinates%22%3A%20%5B%5B%5B126.977175406416%2C%2037.62859715400388%5D%2C%20%5B126.98672705513869%2C%2037.63377641288196%5D%2C%20%5B127.0128154749523%2C%2037.613652243470256%5D%2C%20%5B127.03892400992301%2C%2037.609715611023816%5D%2C%20%5B127.05209373568619%2C%2037.62164065487782%5D%2C%20%5B127.07351243825278%2C%2037.61283660342313%5D%2C%20%5B127.07382707099227%2C%2037.60401928986419%5D%2C%20%5B127.042705222094%2C%2037.59239437593391%5D%2C%20%5B127.02527254528003%2C%2037.57524616245249%5D%2C%20%5B126.99348293358314%2C%2037.588565457216156%5D%2C%20%5B126.98879865992384%2C%2037.6118927319756%5D%2C%20%5B126.977175406416%2C%2037.62859715400388%5D%5D%5D%2C%20%22type%22%3A%20%22Polygon%22%7D%2C%20%22id%22%3A%20%22%5Cuc131%5Cubd81%5Cuad6c%22%2C%20%22properties%22%3A%20%7B%22base_year%22%3A%20%222013%22%2C%20%22code%22%3A%20%2211080%22%2C%20%22name%22%3A%20%22%5Cuc131%5Cubd81%5Cuad6c%22%2C%20%22name_eng%22%3A%20%22Seongbuk-gu%22%7D%2C%20%22type%22%3A%20%22Feature%22%7D%2C%20%7B%22geometry%22%3A%20%7B%22coordinates%22%3A%20%5B%5B%5B127.07351243825278%2C%2037.61283660342313%5D%2C%20%5B127.10782277688129%2C%2037.61804244241069%5D%2C%20%5B127.1201246020114%2C%2037.60178457598188%5D%2C%20%5B127.10304174249214%2C%2037.57076342290955%5D%2C%20%5B127.08068541280403%2C%2037.56906425519017%5D%2C%20%5B127.07382707099227%2C%2037.60401928986419%5D%2C%20%5B127.07351243825278%2C%2037.61283660342313%5D%5D%5D%2C%20%22type%22%3A%20%22Polygon%22%7D%2C%20%22id%22%3A%20%22%5Cuc911%5Cub791%5Cuad6c%22%2C%20%22properties%22%3A%20%7B%22base_year%22%3A%20%222013%22%2C%20%22code%22%3A%20%2211070%22%2C%20%22name%22%3A%20%22%5Cuc911%5Cub791%5Cuad6c%22%2C%20%22name_eng%22%3A%20%22Jungnang-gu%22%7D%2C%20%22type%22%3A%20%22Feature%22%7D%2C%20%7B%22geometry%22%3A%20%7B%22coordinates%22%3A%20%5B%5B%5B127.02527254528003%2C%2037.57524616245249%5D%2C%20%5B127.042705222094%2C%2037.59239437593391%5D%2C%20%5B127.07382707099227%2C%2037.60401928986419%5D%2C%20%5B127.08068541280403%2C%2037.56906425519017%5D%2C%20%5B127.07421053024362%2C%2037.55724769712085%5D%2C%20%5B127.05005601081567%2C%2037.567577612590846%5D%2C%20%5B127.02547266349976%2C%2037.568943552237734%5D%2C%20%5B127.02527254528003%2C%2037.57524616245249%5D%5D%5D%2C%20%22type%22%3A%20%22Polygon%22%7D%2C%20%22id%22%3A%20%22%5Cub3d9%5Cub300%5Cubb38%5Cuad6c%22%2C%20%22properties%22%3A%20%7B%22base_year%22%3A%20%222013%22%2C%20%22code%22%3A%20%2211060%22%2C%20%22name%22%3A%20%22%5Cub3d9%5Cub300%5Cubb38%5Cuad6c%22%2C%20%22name_eng%22%3A%20%22Dongdaemun-gu%22%7D%2C%20%22type%22%3A%20%22Feature%22%7D%2C%20%7B%22geometry%22%3A%20%7B%22coordinates%22%3A%20%5B%5B%5B127.08068541280403%2C%2037.56906425519017%5D%2C%20%5B127.10304174249214%2C%2037.57076342290955%5D%2C%20%5B127.11519584981606%2C%2037.557533180704915%5D%2C%20%5B127.1116764203608%2C%2037.540669955324965%5D%2C%20%5B127.10087519791962%2C%2037.524841220167055%5D%2C%20%5B127.0690698130372%2C%2037.522279423505026%5D%2C%20%5B127.05867359288398%2C%2037.52629974922568%5D%2C%20%5B127.07421053024362%2C%2037.55724769712085%5D%2C%20%5B127.08068541280403%2C%2037.56906425519017%5D%5D%5D%2C%20%22type%22%3A%20%22Polygon%22%7D%2C%20%22id%22%3A%20%22%5Cuad11%5Cuc9c4%5Cuad6c%22%2C%20%22properties%22%3A%20%7B%22base_year%22%3A%20%222013%22%2C%20%22code%22%3A%20%2211050%22%2C%20%22name%22%3A%20%22%5Cuad11%5Cuc9c4%5Cuad6c%22%2C%20%22name_eng%22%3A%20%22Gwangjin-gu%22%7D%2C%20%22type%22%3A%20%22Feature%22%7D%2C%20%7B%22geometry%22%3A%20%7B%22coordinates%22%3A%20%5B%5B%5B127.02547266349976%2C%2037.568943552237734%5D%2C%20%5B127.05005601081567%2C%2037.567577612590846%5D%2C%20%5B127.07421053024362%2C%2037.55724769712085%5D%2C%20%5B127.05867359288398%2C%2037.52629974922568%5D%2C%20%5B127.02302831890559%2C%2037.53231899582663%5D%2C%20%5B127.01070894177482%2C%2037.54118048964762%5D%2C%20%5B127.02547266349976%2C%2037.568943552237734%5D%5D%5D%2C%20%22type%22%3A%20%22Polygon%22%7D%2C%20%22id%22%3A%20%22%5Cuc131%5Cub3d9%5Cuad6c%22%2C%20%22properties%22%3A%20%7B%22base_year%22%3A%20%222013%22%2C%20%22code%22%3A%20%2211040%22%2C%20%22name%22%3A%20%22%5Cuc131%5Cub3d9%5Cuad6c%22%2C%20%22name_eng%22%3A%20%22Seongdong-gu%22%7D%2C%20%22type%22%3A%20%22Feature%22%7D%2C%20%7B%22geometry%22%3A%20%7B%22coordinates%22%3A%20%5B%5B%5B127.01070894177482%2C%2037.54118048964762%5D%2C%20%5B127.02302831890559%2C%2037.53231899582663%5D%2C%20%5B127.01397119667513%2C%2037.52503988289669%5D%2C%20%5B126.98223807916081%2C%2037.509314966770326%5D%2C%20%5B126.95249990298159%2C%2037.51722500741813%5D%2C%20%5B126.94566733083212%2C%2037.526617542453366%5D%2C%20%5B126.96448570553055%2C%2037.548705692021635%5D%2C%20%5B126.98752996903328%2C%2037.55094818807139%5D%2C%20%5B127.01070894177482%2C%2037.54118048964762%5D%5D%5D%2C%20%22type%22%3A%20%22Polygon%22%7D%2C%20%22id%22%3A%20%22%5Cuc6a9%5Cuc0b0%5Cuad6c%22%2C%20%22properties%22%3A%20%7B%22base_year%22%3A%20%222013%22%2C%20%22code%22%3A%20%2211030%22%2C%20%22name%22%3A%20%22%5Cuc6a9%5Cuc0b0%5Cuad6c%22%2C%20%22name_eng%22%3A%20%22Yongsan-gu%22%7D%2C%20%22type%22%3A%20%22Feature%22%7D%2C%20%7B%22geometry%22%3A%20%7B%22coordinates%22%3A%20%5B%5B%5B127.02547266349976%2C%2037.568943552237734%5D%2C%20%5B127.01070894177482%2C%2037.54118048964762%5D%2C%20%5B126.98752996903328%2C%2037.55094818807139%5D%2C%20%5B126.96448570553055%2C%2037.548705692021635%5D%2C%20%5B126.96358226710812%2C%2037.55605635475154%5D%2C%20%5B126.96873633279075%2C%2037.56313604690827%5D%2C%20%5B127.02547266349976%2C%2037.568943552237734%5D%5D%5D%2C%20%22type%22%3A%20%22Polygon%22%7D%2C%20%22id%22%3A%20%22%5Cuc911%5Cuad6c%22%2C%20%22properties%22%3A%20%7B%22base_year%22%3A%20%222013%22%2C%20%22code%22%3A%20%2211020%22%2C%20%22name%22%3A%20%22%5Cuc911%5Cuad6c%22%2C%20%22name_eng%22%3A%20%22Jung-gu%22%7D%2C%20%22type%22%3A%20%22Feature%22%7D%2C%20%7B%22geometry%22%3A%20%7B%22coordinates%22%3A%20%5B%5B%5B126.9738864128702%2C%2037.62949634786888%5D%2C%20%5B126.977175406416%2C%2037.62859715400388%5D%2C%20%5B126.98879865992384%2C%2037.6118927319756%5D%2C%20%5B126.99348293358314%2C%2037.588565457216156%5D%2C%20%5B127.02527254528003%2C%2037.57524616245249%5D%2C%20%5B127.02547266349976%2C%2037.568943552237734%5D%2C%20%5B126.96873633279075%2C%2037.56313604690827%5D%2C%20%5B126.95565425846463%2C%2037.576080790881456%5D%2C%20%5B126.9524752030572%2C%2037.60508692737045%5D%2C%20%5B126.95427017006129%2C%2037.622033431339425%5D%2C%20%5B126.9738864128702%2C%2037.62949634786888%5D%5D%5D%2C%20%22type%22%3A%20%22Polygon%22%7D%2C%20%22id%22%3A%20%22%5Cuc885%5Cub85c%5Cuad6c%22%2C%20%22properties%22%3A%20%7B%22base_year%22%3A%20%222013%22%2C%20%22code%22%3A%20%2211010%22%2C%20%22name%22%3A%20%22%5Cuc885%5Cub85c%5Cuad6c%22%2C%20%22name_eng%22%3A%20%22Jongno-gu%22%7D%2C%20%22type%22%3A%20%22Feature%22%7D%5D%2C%20%22type%22%3A%20%22FeatureCollection%22%7D%29%3B%0A%0A%20%20%20%20%20%20%20%20%0A%20%20%20%20%0A%20%20%20%20var%20color_map_3260583e417848b6ba217858b47788ec%20%3D%20%7B%7D%3B%0A%0A%20%20%20%20%0A%20%20%20%20color_map_3260583e417848b6ba217858b47788ec.color%20%3D%20d3.scale.threshold%28%29%0A%20%20%20%20%20%20%20%20%20%20%20%20%20%20.domain%28%5B1636.076923076923%2C%201637.05171882226%2C%201638.0265145675967%2C%201639.0013103129336%2C%201639.9761060582705%2C%201640.9509018036072%2C%201641.925697548944%2C%201642.900493294281%2C%201643.8752890396177%2C%201644.8500847849546%2C%201645.8248805302915%2C%201646.7996762756281%2C%201647.774472020965%2C%201648.749267766302%2C%201649.7240635116386%2C%201650.6988592569755%2C%201651.6736550023124%2C%201652.6484507476491%2C%201653.623246492986%2C%201654.5980422383227%2C%201655.5728379836596%2C%201656.5476337289965%2C%201657.5224294743332%2C%201658.49722521967%2C%201659.472020965007%2C%201660.4468167103437%2C%201661.4216124556806%2C%201662.3964082010175%2C%201663.3712039463542%2C%201664.345999691691%2C%201665.320795437028%2C%201666.2955911823647%2C%201667.2703869277016%2C%201668.2451826730385%2C%201669.2199784183751%2C%201670.194774163712%2C%201671.169569909049%2C%201672.1443656543856%2C%201673.1191613997225%2C%201674.0939571450594%2C%201675.0687528903961%2C%201676.043548635733%2C%201677.01834438107%2C%201677.9931401264066%2C%201678.9679358717435%2C%201679.9427316170804%2C%201680.917527362417%2C%201681.892323107754%2C%201682.867118853091%2C%201683.8419145984276%2C%201684.8167103437645%2C%201685.7915060891014%2C%201686.766301834438%2C%201687.741097579775%2C%201688.7158933251117%2C%201689.6906890704486%2C%201690.6654848157855%2C%201691.6402805611222%2C%201692.615076306459%2C%201693.589872051796%2C%201694.5646677971326%2C%201695.5394635424695%2C%201696.5142592878065%2C%201697.4890550331431%2C%201698.46385077848%2C%201699.438646523817%2C%201700.4134422691536%2C%201701.3882380144905%2C%201702.3630337598274%2C%201703.337829505164%2C%201704.312625250501%2C%201705.287420995838%2C%201706.2622167411746%2C%201707.2370124865115%2C%201708.2118082318484%2C%201709.186603977185%2C%201710.161399722522%2C%201711.136195467859%2C%201712.1109912131956%2C%201713.0857869585325%2C%201714.0605827038694%2C%201715.035378449206%2C%201716.010174194543%2C%201716.9849699398799%2C%201717.9597656852166%2C%201718.9345614305535%2C%201719.9093571758904%2C%201720.884152921227%2C%201721.858948666564%2C%201722.8337444119006%2C%201723.8085401572375%2C%201724.7833359025744%2C%201725.7581316479113%2C%201726.732927393248%2C%201727.707723138585%2C%201728.6825188839216%2C%201729.6573146292585%2C%201730.6321103745954%2C%201731.606906119932%2C%201732.581701865269%2C%201733.556497610606%2C%201734.5312933559426%2C%201735.5060891012795%2C%201736.4808848466164%2C%201737.455680591953%2C%201738.43047633729%2C%201739.4052720826269%2C%201740.3800678279636%2C%201741.3548635733005%2C%201742.3296593186374%2C%201743.304455063974%2C%201744.279250809311%2C%201745.2540465546479%2C%201746.2288422999845%2C%201747.2036380453214%2C%201748.1784337906583%2C%201749.153229535995%2C%201750.128025281332%2C%201751.1028210266688%2C%201752.0776167720055%2C%201753.0524125173424%2C%201754.0272082626793%2C%201755.002004008016%2C%201755.976799753353%2C%201756.9515954986896%2C%201757.9263912440265%2C%201758.9011869893634%2C%201759.8759827347003%2C%201760.850778480037%2C%201761.8255742253739%2C%201762.8003699707106%2C%201763.7751657160475%2C%201764.7499614613844%2C%201765.724757206721%2C%201766.699552952058%2C%201767.6743486973949%2C%201768.6491444427315%2C%201769.6239401880684%2C%201770.5987359334054%2C%201771.573531678742%2C%201772.548327424079%2C%201773.5231231694158%2C%201774.4979189147525%2C%201775.4727146600894%2C%201776.4475104054263%2C%201777.422306150763%2C%201778.3971018961%2C%201779.3718976414368%2C%201780.3466933867735%2C%201781.3214891321104%2C%201782.2962848774473%2C%201783.271080622784%2C%201784.245876368121%2C%201785.2206721134578%2C%201786.1954678587945%2C%201787.1702636041314%2C%201788.1450593494683%2C%201789.119855094805%2C%201790.0946508401419%2C%201791.0694465854788%2C%201792.0442423308155%2C%201793.0190380761524%2C%201793.9938338214893%2C%201794.968629566826%2C%201795.9434253121628%2C%201796.9182210574995%2C%201797.8930168028364%2C%201798.8678125481733%2C%201799.8426082935102%2C%201800.817404038847%2C%201801.7921997841838%2C%201802.7669955295205%2C%201803.7417912748574%2C%201804.7165870201943%2C%201805.691382765531%2C%201806.666178510868%2C%201807.6409742562048%2C%201808.6157700015415%2C%201809.5905657468784%2C%201810.5653614922153%2C%201811.540157237552%2C%201812.5149529828889%2C%201813.4897487282258%2C%201814.4645444735625%2C%201815.4393402188994%2C%201816.4141359642363%2C%201817.388931709573%2C%201818.3637274549098%2C%201819.3385232002465%2C%201820.3133189455834%2C%201821.2881146909203%2C%201822.2629104362572%2C%201823.237706181594%2C%201824.2125019269308%2C%201825.1872976722675%2C%201826.1620934176044%2C%201827.1368891629413%2C%201828.1116849082782%2C%201829.086480653615%2C%201830.0612763989518%2C%201831.0360721442885%2C%201832.0108678896254%2C%201832.9856636349623%2C%201833.960459380299%2C%201834.9352551256359%2C%201835.9100508709728%2C%201836.8848466163095%2C%201837.8596423616464%2C%201838.8344381069833%2C%201839.80923385232%2C%201840.7840295976569%2C%201841.7588253429938%2C%201842.7336210883304%2C%201843.7084168336673%2C%201844.6832125790042%2C%201845.658008324341%2C%201846.6328040696778%2C%201847.6075998150147%2C%201848.5823955603514%2C%201849.5571913056883%2C%201850.5319870510252%2C%201851.506782796362%2C%201852.4815785416988%2C%201853.4563742870357%2C%201854.4311700323724%2C%201855.4059657777093%2C%201856.3807615230462%2C%201857.3555572683829%2C%201858.3303530137198%2C%201859.3051487590565%2C%201860.2799445043934%2C%201861.2547402497303%2C%201862.2295359950672%2C%201863.2043317404039%2C%201864.1791274857408%2C%201865.1539232310774%2C%201866.1287189764143%2C%201867.1035147217513%2C%201868.078310467088%2C%201869.0531062124248%2C%201870.0279019577617%2C%201871.0026977030984%2C%201871.9774934484353%2C%201872.9522891937722%2C%201873.927084939109%2C%201874.9018806844458%2C%201875.8766764297827%2C%201876.8514721751194%2C%201877.8262679204563%2C%201878.8010636657932%2C%201879.7758594111299%2C%201880.7506551564668%2C%201881.7254509018037%2C%201882.7002466471404%2C%201883.6750423924773%2C%201884.6498381378142%2C%201885.6246338831509%2C%201886.5994296284878%2C%201887.5742253738247%2C%201888.5490211191614%2C%201889.5238168644983%2C%201890.4986126098352%2C%201891.4734083551718%2C%201892.4482041005087%2C%201893.4229998458454%2C%201894.3977955911823%2C%201895.3725913365192%2C%201896.3473870818561%2C%201897.3221828271928%2C%201898.2969785725297%2C%201899.2717743178664%2C%201900.2465700632033%2C%201901.2213658085402%2C%201902.1961615538771%2C%201903.1709572992138%2C%201904.1457530445507%2C%201905.1205487898874%2C%201906.0953445352243%2C%201907.0701402805612%2C%201908.044936025898%2C%201909.0197317712348%2C%201909.9945275165717%2C%201910.9693232619084%2C%201911.9441190072453%2C%201912.9189147525822%2C%201913.8937104979188%2C%201914.8685062432558%2C%201915.8433019885924%2C%201916.8180977339293%2C%201917.7928934792662%2C%201918.7676892246031%2C%201919.7424849699398%2C%201920.7172807152767%2C%201921.6920764606134%2C%201922.6668722059503%2C%201923.6416679512872%2C%201924.6164636966241%2C%201925.5912594419608%2C%201926.5660551872977%2C%201927.5408509326344%2C%201928.5156466779713%2C%201929.4904424233082%2C%201930.465238168645%2C%201931.4400339139818%2C%201932.4148296593187%2C%201933.3896254046554%2C%201934.3644211499923%2C%201935.3392168953292%2C%201936.314012640666%2C%201937.2888083860028%2C%201938.2636041313397%2C%201939.2383998766763%2C%201940.2131956220132%2C%201941.1879913673502%2C%201942.162787112687%2C%201943.1375828580237%2C%201944.1123786033606%2C%201945.0871743486973%2C%201946.0619700940342%2C%201947.0367658393711%2C%201948.011561584708%2C%201948.9863573300447%2C%201949.9611530753814%2C%201950.9359488207183%2C%201951.9107445660552%2C%201952.885540311392%2C%201953.8603360567288%2C%201954.8351318020657%2C%201955.8099275474024%2C%201956.7847232927393%2C%201957.7595190380762%2C%201958.734314783413%2C%201959.7091105287498%2C%201960.6839062740867%2C%201961.6587020194233%2C%201962.6334977647602%2C%201963.6082935100972%2C%201964.583089255434%2C%201965.5578850007707%2C%201966.5326807461076%2C%201967.5074764914443%2C%201968.4822722367812%2C%201969.4570679821181%2C%201970.431863727455%2C%201971.4066594727917%2C%201972.3814552181286%2C%201973.3562509634653%2C%201974.3310467088022%2C%201975.305842454139%2C%201976.280638199476%2C%201977.2554339448127%2C%201978.2302296901496%2C%201979.2050254354863%2C%201980.1798211808232%2C%201981.15461692616%2C%201982.129412671497%2C%201983.1042084168337%2C%201984.0790041621706%2C%201985.0537999075073%2C%201986.0285956528442%2C%201987.003391398181%2C%201987.9781871435177%2C%201988.9529828888546%2C%201989.9277786341913%2C%201990.9025743795282%2C%201991.8773701248651%2C%201992.852165870202%2C%201993.8269616155387%2C%201994.8017573608756%2C%201995.7765531062123%2C%201996.7513488515492%2C%201997.7261445968861%2C%201998.700940342223%2C%201999.6757360875597%2C%202000.6505318328966%2C%202001.6253275782333%2C%202002.6001233235702%2C%202003.574919068907%2C%202004.549714814244%2C%202005.5245105595807%2C%202006.4993063049176%2C%202007.4741020502543%2C%202008.4488977955912%2C%202009.423693540928%2C%202010.398489286265%2C%202011.3732850316017%2C%202012.3480807769386%2C%202013.3228765222752%2C%202014.2976722676121%2C%202015.272468012949%2C%202016.247263758286%2C%202017.2220595036226%2C%202018.1968552489595%2C%202019.1716509942962%2C%202020.1464467396331%2C%202021.12124248497%2C%202022.096038230307%2C%202023.0708339756436%2C%202024.0456297209803%2C%202025.0204254663172%2C%202025.995221211654%2C%202026.970016956991%2C%202027.9448127023277%2C%202028.9196084476646%2C%202029.8944041930013%2C%202030.8691999383382%2C%202031.843995683675%2C%202032.818791429012%2C%202033.7935871743487%2C%202034.7683829196856%2C%202035.7431786650222%2C%202036.7179744103591%2C%202037.692770155696%2C%202038.667565901033%2C%202039.6423616463696%2C%202040.6171573917065%2C%202041.5919531370432%2C%202042.5667488823801%2C%202043.541544627717%2C%202044.516340373054%2C%202045.4911361183906%2C%202046.4659318637275%2C%202047.4407276090642%2C%202048.415523354401%2C%202049.390319099738%2C%202050.365114845075%2C%202051.339910590412%2C%202052.3147063357483%2C%202053.289502081085%2C%202054.264297826422%2C%202055.239093571759%2C%202056.213889317096%2C%202057.1886850624323%2C%202058.1634808077692%2C%202059.138276553106%2C%202060.113072298443%2C%202061.08786804378%2C%202062.062663789117%2C%202063.037459534454%2C%202064.01225527979%2C%202064.987051025127%2C%202065.961846770464%2C%202066.936642515801%2C%202067.911438261138%2C%202068.8862340064743%2C%202069.861029751811%2C%202070.835825497148%2C%202071.810621242485%2C%202072.785416987822%2C%202073.760212733159%2C%202074.7350084784953%2C%202075.709804223832%2C%202076.684599969169%2C%202077.659395714506%2C%202078.634191459843%2C%202079.60898720518%2C%202080.5837829505163%2C%202081.558578695853%2C%202082.53337444119%2C%202083.508170186527%2C%202084.482965931864%2C%202085.4577616772003%2C%202086.4325574225372%2C%202087.407353167874%2C%202088.382148913211%2C%202089.356944658548%2C%202090.331740403885%2C%202091.3065361492218%2C%202092.281331894558%2C%202093.256127639895%2C%202094.230923385232%2C%202095.205719130569%2C%202096.180514875906%2C%202097.1553106212423%2C%202098.130106366579%2C%202099.104902111916%2C%202100.079697857253%2C%202101.05449360259%2C%202102.0292893479264%2C%202103.0040850932637%2C%202103.9788808386%2C%202104.953676583937%2C%202105.928472329274%2C%202106.903268074611%2C%202107.878063819948%2C%202108.8528595652842%2C%202109.827655310621%2C%202110.802451055958%2C%202111.777246801295%2C%202112.752042546632%2C%202113.7268382919683%2C%202114.701634037305%2C%202115.676429782642%2C%202116.651225527979%2C%202117.626021273316%2C%202118.600817018653%2C%202119.5756127639897%2C%202120.550408509326%2C%202121.525204254663%2C%202122.5%5D%29%0A%20%20%20%20%20%20%20%20%20%20%20%20%20%20.range%28%5B%27%23ffffccff%27%2C%20%27%23ffffccff%27%2C%20%27%23ffffccff%27%2C%20%27%23ffffccff%27%2C%20%27%23ffffccff%27%2C%20%27%23ffffccff%27%2C%20%27%23ffffccff%27%2C%20%27%23ffffccff%27%2C%20%27%23ffffccff%27%2C%20%27%23ffffccff%27%2C%20%27%23ffffccff%27%2C%20%27%23ffffccff%27%2C%20%27%23ffffccff%27%2C%20%27%23ffffccff%27%2C%20%27%23ffffccff%27%2C%20%27%23ffffccff%27%2C%20%27%23ffffccff%27%2C%20%27%23ffffccff%27%2C%20%27%23ffffccff%27%2C%20%27%23ffffccff%27%2C%20%27%23ffffccff%27%2C%20%27%23ffffccff%27%2C%20%27%23ffffccff%27%2C%20%27%23ffffccff%27%2C%20%27%23ffffccff%27%2C%20%27%23ffffccff%27%2C%20%27%23ffffccff%27%2C%20%27%23ffffccff%27%2C%20%27%23ffffccff%27%2C%20%27%23ffffccff%27%2C%20%27%23ffffccff%27%2C%20%27%23ffffccff%27%2C%20%27%23ffffccff%27%2C%20%27%23ffffccff%27%2C%20%27%23ffffccff%27%2C%20%27%23ffffccff%27%2C%20%27%23ffffccff%27%2C%20%27%23ffffccff%27%2C%20%27%23ffffccff%27%2C%20%27%23ffffccff%27%2C%20%27%23ffffccff%27%2C%20%27%23ffffccff%27%2C%20%27%23ffffccff%27%2C%20%27%23ffffccff%27%2C%20%27%23ffffccff%27%2C%20%27%23ffffccff%27%2C%20%27%23ffffccff%27%2C%20%27%23ffffccff%27%2C%20%27%23ffffccff%27%2C%20%27%23ffffccff%27%2C%20%27%23ffffccff%27%2C%20%27%23ffffccff%27%2C%20%27%23ffffccff%27%2C%20%27%23ffffccff%27%2C%20%27%23ffffccff%27%2C%20%27%23ffffccff%27%2C%20%27%23ffffccff%27%2C%20%27%23ffffccff%27%2C%20%27%23ffffccff%27%2C%20%27%23ffffccff%27%2C%20%27%23ffffccff%27%2C%20%27%23ffffccff%27%2C%20%27%23ffffccff%27%2C%20%27%23ffffccff%27%2C%20%27%23ffffccff%27%2C%20%27%23ffffccff%27%2C%20%27%23ffffccff%27%2C%20%27%23ffffccff%27%2C%20%27%23ffffccff%27%2C%20%27%23ffffccff%27%2C%20%27%23ffffccff%27%2C%20%27%23ffffccff%27%2C%20%27%23ffffccff%27%2C%20%27%23ffffccff%27%2C%20%27%23ffffccff%27%2C%20%27%23ffffccff%27%2C%20%27%23ffffccff%27%2C%20%27%23ffffccff%27%2C%20%27%23ffffccff%27%2C%20%27%23ffffccff%27%2C%20%27%23ffffccff%27%2C%20%27%23ffffccff%27%2C%20%27%23ffffccff%27%2C%20%27%23ffffccff%27%2C%20%27%23d9f0a3ff%27%2C%20%27%23d9f0a3ff%27%2C%20%27%23d9f0a3ff%27%2C%20%27%23d9f0a3ff%27%2C%20%27%23d9f0a3ff%27%2C%20%27%23d9f0a3ff%27%2C%20%27%23d9f0a3ff%27%2C%20%27%23d9f0a3ff%27%2C%20%27%23d9f0a3ff%27%2C%20%27%23d9f0a3ff%27%2C%20%27%23d9f0a3ff%27%2C%20%27%23d9f0a3ff%27%2C%20%27%23d9f0a3ff%27%2C%20%27%23d9f0a3ff%27%2C%20%27%23d9f0a3ff%27%2C%20%27%23d9f0a3ff%27%2C%20%27%23d9f0a3ff%27%2C%20%27%23d9f0a3ff%27%2C%20%27%23d9f0a3ff%27%2C%20%27%23d9f0a3ff%27%2C%20%27%23d9f0a3ff%27%2C%20%27%23d9f0a3ff%27%2C%20%27%23d9f0a3ff%27%2C%20%27%23d9f0a3ff%27%2C%20%27%23d9f0a3ff%27%2C%20%27%23d9f0a3ff%27%2C%20%27%23d9f0a3ff%27%2C%20%27%23d9f0a3ff%27%2C%20%27%23d9f0a3ff%27%2C%20%27%23d9f0a3ff%27%2C%20%27%23d9f0a3ff%27%2C%20%27%23d9f0a3ff%27%2C%20%27%23d9f0a3ff%27%2C%20%27%23d9f0a3ff%27%2C%20%27%23d9f0a3ff%27%2C%20%27%23d9f0a3ff%27%2C%20%27%23d9f0a3ff%27%2C%20%27%23d9f0a3ff%27%2C%20%27%23d9f0a3ff%27%2C%20%27%23d9f0a3ff%27%2C%20%27%23d9f0a3ff%27%2C%20%27%23d9f0a3ff%27%2C%20%27%23d9f0a3ff%27%2C%20%27%23d9f0a3ff%27%2C%20%27%23d9f0a3ff%27%2C%20%27%23d9f0a3ff%27%2C%20%27%23d9f0a3ff%27%2C%20%27%23d9f0a3ff%27%2C%20%27%23d9f0a3ff%27%2C%20%27%23d9f0a3ff%27%2C%20%27%23d9f0a3ff%27%2C%20%27%23d9f0a3ff%27%2C%20%27%23d9f0a3ff%27%2C%20%27%23d9f0a3ff%27%2C%20%27%23d9f0a3ff%27%2C%20%27%23d9f0a3ff%27%2C%20%27%23d9f0a3ff%27%2C%20%27%23d9f0a3ff%27%2C%20%27%23d9f0a3ff%27%2C%20%27%23d9f0a3ff%27%2C%20%27%23d9f0a3ff%27%2C%20%27%23d9f0a3ff%27%2C%20%27%23d9f0a3ff%27%2C%20%27%23d9f0a3ff%27%2C%20%27%23d9f0a3ff%27%2C%20%27%23d9f0a3ff%27%2C%20%27%23d9f0a3ff%27%2C%20%27%23d9f0a3ff%27%2C%20%27%23d9f0a3ff%27%2C%20%27%23d9f0a3ff%27%2C%20%27%23d9f0a3ff%27%2C%20%27%23d9f0a3ff%27%2C%20%27%23d9f0a3ff%27%2C%20%27%23d9f0a3ff%27%2C%20%27%23d9f0a3ff%27%2C%20%27%23d9f0a3ff%27%2C%20%27%23d9f0a3ff%27%2C%20%27%23d9f0a3ff%27%2C%20%27%23d9f0a3ff%27%2C%20%27%23d9f0a3ff%27%2C%20%27%23d9f0a3ff%27%2C%20%27%23d9f0a3ff%27%2C%20%27%23d9f0a3ff%27%2C%20%27%23addd8eff%27%2C%20%27%23addd8eff%27%2C%20%27%23addd8eff%27%2C%20%27%23addd8eff%27%2C%20%27%23addd8eff%27%2C%20%27%23addd8eff%27%2C%20%27%23addd8eff%27%2C%20%27%23addd8eff%27%2C%20%27%23addd8eff%27%2C%20%27%23addd8eff%27%2C%20%27%23addd8eff%27%2C%20%27%23addd8eff%27%2C%20%27%23addd8eff%27%2C%20%27%23addd8eff%27%2C%20%27%23addd8eff%27%2C%20%27%23addd8eff%27%2C%20%27%23addd8eff%27%2C%20%27%23addd8eff%27%2C%20%27%23addd8eff%27%2C%20%27%23addd8eff%27%2C%20%27%23addd8eff%27%2C%20%27%23addd8eff%27%2C%20%27%23addd8eff%27%2C%20%27%23addd8eff%27%2C%20%27%23addd8eff%27%2C%20%27%23addd8eff%27%2C%20%27%23addd8eff%27%2C%20%27%23addd8eff%27%2C%20%27%23addd8eff%27%2C%20%27%23addd8eff%27%2C%20%27%23addd8eff%27%2C%20%27%23addd8eff%27%2C%20%27%23addd8eff%27%2C%20%27%23addd8eff%27%2C%20%27%23addd8eff%27%2C%20%27%23addd8eff%27%2C%20%27%23addd8eff%27%2C%20%27%23addd8eff%27%2C%20%27%23addd8eff%27%2C%20%27%23addd8eff%27%2C%20%27%23addd8eff%27%2C%20%27%23addd8eff%27%2C%20%27%23addd8eff%27%2C%20%27%23addd8eff%27%2C%20%27%23addd8eff%27%2C%20%27%23addd8eff%27%2C%20%27%23addd8eff%27%2C%20%27%23addd8eff%27%2C%20%27%23addd8eff%27%2C%20%27%23addd8eff%27%2C%20%27%23addd8eff%27%2C%20%27%23addd8eff%27%2C%20%27%23addd8eff%27%2C%20%27%23addd8eff%27%2C%20%27%23addd8eff%27%2C%20%27%23addd8eff%27%2C%20%27%23addd8eff%27%2C%20%27%23addd8eff%27%2C%20%27%23addd8eff%27%2C%20%27%23addd8eff%27%2C%20%27%23addd8eff%27%2C%20%27%23addd8eff%27%2C%20%27%23addd8eff%27%2C%20%27%23addd8eff%27%2C%20%27%23addd8eff%27%2C%20%27%23addd8eff%27%2C%20%27%23addd8eff%27%2C%20%27%23addd8eff%27%2C%20%27%23addd8eff%27%2C%20%27%23addd8eff%27%2C%20%27%23addd8eff%27%2C%20%27%23addd8eff%27%2C%20%27%23addd8eff%27%2C%20%27%23addd8eff%27%2C%20%27%23addd8eff%27%2C%20%27%23addd8eff%27%2C%20%27%23addd8eff%27%2C%20%27%23addd8eff%27%2C%20%27%23addd8eff%27%2C%20%27%23addd8eff%27%2C%20%27%23addd8eff%27%2C%20%27%23addd8eff%27%2C%20%27%23addd8eff%27%2C%20%27%2378c679ff%27%2C%20%27%2378c679ff%27%2C%20%27%2378c679ff%27%2C%20%27%2378c679ff%27%2C%20%27%2378c679ff%27%2C%20%27%2378c679ff%27%2C%20%27%2378c679ff%27%2C%20%27%2378c679ff%27%2C%20%27%2378c679ff%27%2C%20%27%2378c679ff%27%2C%20%27%2378c679ff%27%2C%20%27%2378c679ff%27%2C%20%27%2378c679ff%27%2C%20%27%2378c679ff%27%2C%20%27%2378c679ff%27%2C%20%27%2378c679ff%27%2C%20%27%2378c679ff%27%2C%20%27%2378c679ff%27%2C%20%27%2378c679ff%27%2C%20%27%2378c679ff%27%2C%20%27%2378c679ff%27%2C%20%27%2378c679ff%27%2C%20%27%2378c679ff%27%2C%20%27%2378c679ff%27%2C%20%27%2378c679ff%27%2C%20%27%2378c679ff%27%2C%20%27%2378c679ff%27%2C%20%27%2378c679ff%27%2C%20%27%2378c679ff%27%2C%20%27%2378c679ff%27%2C%20%27%2378c679ff%27%2C%20%27%2378c679ff%27%2C%20%27%2378c679ff%27%2C%20%27%2378c679ff%27%2C%20%27%2378c679ff%27%2C%20%27%2378c679ff%27%2C%20%27%2378c679ff%27%2C%20%27%2378c679ff%27%2C%20%27%2378c679ff%27%2C%20%27%2378c679ff%27%2C%20%27%2378c679ff%27%2C%20%27%2378c679ff%27%2C%20%27%2378c679ff%27%2C%20%27%2378c679ff%27%2C%20%27%2378c679ff%27%2C%20%27%2378c679ff%27%2C%20%27%2378c679ff%27%2C%20%27%2378c679ff%27%2C%20%27%2378c679ff%27%2C%20%27%2378c679ff%27%2C%20%27%2378c679ff%27%2C%20%27%2378c679ff%27%2C%20%27%2378c679ff%27%2C%20%27%2378c679ff%27%2C%20%27%2378c679ff%27%2C%20%27%2378c679ff%27%2C%20%27%2378c679ff%27%2C%20%27%2378c679ff%27%2C%20%27%2378c679ff%27%2C%20%27%2378c679ff%27%2C%20%27%2378c679ff%27%2C%20%27%2378c679ff%27%2C%20%27%2378c679ff%27%2C%20%27%2378c679ff%27%2C%20%27%2378c679ff%27%2C%20%27%2378c679ff%27%2C%20%27%2378c679ff%27%2C%20%27%2378c679ff%27%2C%20%27%2378c679ff%27%2C%20%27%2378c679ff%27%2C%20%27%2378c679ff%27%2C%20%27%2378c679ff%27%2C%20%27%2378c679ff%27%2C%20%27%2378c679ff%27%2C%20%27%2378c679ff%27%2C%20%27%2378c679ff%27%2C%20%27%2378c679ff%27%2C%20%27%2378c679ff%27%2C%20%27%2378c679ff%27%2C%20%27%2378c679ff%27%2C%20%27%2378c679ff%27%2C%20%27%2378c679ff%27%2C%20%27%2378c679ff%27%2C%20%27%2331a354ff%27%2C%20%27%2331a354ff%27%2C%20%27%2331a354ff%27%2C%20%27%2331a354ff%27%2C%20%27%2331a354ff%27%2C%20%27%2331a354ff%27%2C%20%27%2331a354ff%27%2C%20%27%2331a354ff%27%2C%20%27%2331a354ff%27%2C%20%27%2331a354ff%27%2C%20%27%2331a354ff%27%2C%20%27%2331a354ff%27%2C%20%27%2331a354ff%27%2C%20%27%2331a354ff%27%2C%20%27%2331a354ff%27%2C%20%27%2331a354ff%27%2C%20%27%2331a354ff%27%2C%20%27%2331a354ff%27%2C%20%27%2331a354ff%27%2C%20%27%2331a354ff%27%2C%20%27%2331a354ff%27%2C%20%27%2331a354ff%27%2C%20%27%2331a354ff%27%2C%20%27%2331a354ff%27%2C%20%27%2331a354ff%27%2C%20%27%2331a354ff%27%2C%20%27%2331a354ff%27%2C%20%27%2331a354ff%27%2C%20%27%2331a354ff%27%2C%20%27%2331a354ff%27%2C%20%27%2331a354ff%27%2C%20%27%2331a354ff%27%2C%20%27%2331a354ff%27%2C%20%27%2331a354ff%27%2C%20%27%2331a354ff%27%2C%20%27%2331a354ff%27%2C%20%27%2331a354ff%27%2C%20%27%2331a354ff%27%2C%20%27%2331a354ff%27%2C%20%27%2331a354ff%27%2C%20%27%2331a354ff%27%2C%20%27%2331a354ff%27%2C%20%27%2331a354ff%27%2C%20%27%2331a354ff%27%2C%20%27%2331a354ff%27%2C%20%27%2331a354ff%27%2C%20%27%2331a354ff%27%2C%20%27%2331a354ff%27%2C%20%27%2331a354ff%27%2C%20%27%2331a354ff%27%2C%20%27%2331a354ff%27%2C%20%27%2331a354ff%27%2C%20%27%2331a354ff%27%2C%20%27%2331a354ff%27%2C%20%27%2331a354ff%27%2C%20%27%2331a354ff%27%2C%20%27%2331a354ff%27%2C%20%27%2331a354ff%27%2C%20%27%2331a354ff%27%2C%20%27%2331a354ff%27%2C%20%27%2331a354ff%27%2C%20%27%2331a354ff%27%2C%20%27%2331a354ff%27%2C%20%27%2331a354ff%27%2C%20%27%2331a354ff%27%2C%20%27%2331a354ff%27%2C%20%27%2331a354ff%27%2C%20%27%2331a354ff%27%2C%20%27%2331a354ff%27%2C%20%27%2331a354ff%27%2C%20%27%2331a354ff%27%2C%20%27%2331a354ff%27%2C%20%27%2331a354ff%27%2C%20%27%2331a354ff%27%2C%20%27%2331a354ff%27%2C%20%27%2331a354ff%27%2C%20%27%2331a354ff%27%2C%20%27%2331a354ff%27%2C%20%27%2331a354ff%27%2C%20%27%2331a354ff%27%2C%20%27%2331a354ff%27%2C%20%27%2331a354ff%27%2C%20%27%2331a354ff%27%2C%20%27%23006837ff%27%2C%20%27%23006837ff%27%2C%20%27%23006837ff%27%2C%20%27%23006837ff%27%2C%20%27%23006837ff%27%2C%20%27%23006837ff%27%2C%20%27%23006837ff%27%2C%20%27%23006837ff%27%2C%20%27%23006837ff%27%2C%20%27%23006837ff%27%2C%20%27%23006837ff%27%2C%20%27%23006837ff%27%2C%20%27%23006837ff%27%2C%20%27%23006837ff%27%2C%20%27%23006837ff%27%2C%20%27%23006837ff%27%2C%20%27%23006837ff%27%2C%20%27%23006837ff%27%2C%20%27%23006837ff%27%2C%20%27%23006837ff%27%2C%20%27%23006837ff%27%2C%20%27%23006837ff%27%2C%20%27%23006837ff%27%2C%20%27%23006837ff%27%2C%20%27%23006837ff%27%2C%20%27%23006837ff%27%2C%20%27%23006837ff%27%2C%20%27%23006837ff%27%2C%20%27%23006837ff%27%2C%20%27%23006837ff%27%2C%20%27%23006837ff%27%2C%20%27%23006837ff%27%2C%20%27%23006837ff%27%2C%20%27%23006837ff%27%2C%20%27%23006837ff%27%2C%20%27%23006837ff%27%2C%20%27%23006837ff%27%2C%20%27%23006837ff%27%2C%20%27%23006837ff%27%2C%20%27%23006837ff%27%2C%20%27%23006837ff%27%2C%20%27%23006837ff%27%2C%20%27%23006837ff%27%2C%20%27%23006837ff%27%2C%20%27%23006837ff%27%2C%20%27%23006837ff%27%2C%20%27%23006837ff%27%2C%20%27%23006837ff%27%2C%20%27%23006837ff%27%2C%20%27%23006837ff%27%2C%20%27%23006837ff%27%2C%20%27%23006837ff%27%2C%20%27%23006837ff%27%2C%20%27%23006837ff%27%2C%20%27%23006837ff%27%2C%20%27%23006837ff%27%2C%20%27%23006837ff%27%2C%20%27%23006837ff%27%2C%20%27%23006837ff%27%2C%20%27%23006837ff%27%2C%20%27%23006837ff%27%2C%20%27%23006837ff%27%2C%20%27%23006837ff%27%2C%20%27%23006837ff%27%2C%20%27%23006837ff%27%2C%20%27%23006837ff%27%2C%20%27%23006837ff%27%2C%20%27%23006837ff%27%2C%20%27%23006837ff%27%2C%20%27%23006837ff%27%2C%20%27%23006837ff%27%2C%20%27%23006837ff%27%2C%20%27%23006837ff%27%2C%20%27%23006837ff%27%2C%20%27%23006837ff%27%2C%20%27%23006837ff%27%2C%20%27%23006837ff%27%2C%20%27%23006837ff%27%2C%20%27%23006837ff%27%2C%20%27%23006837ff%27%2C%20%27%23006837ff%27%2C%20%27%23006837ff%27%2C%20%27%23006837ff%27%2C%20%27%23006837ff%27%5D%29%3B%0A%20%20%20%20%0A%0A%20%20%20%20color_map_3260583e417848b6ba217858b47788ec.x%20%3D%20d3.scale.linear%28%29%0A%20%20%20%20%20%20%20%20%20%20%20%20%20%20.domain%28%5B1636.076923076923%2C%202122.5%5D%29%0A%20%20%20%20%20%20%20%20%20%20%20%20%20%20.range%28%5B0%2C%20400%5D%29%3B%0A%0A%20%20%20%20color_map_3260583e417848b6ba217858b47788ec.legend%20%3D%20L.control%28%7Bposition%3A%20%27topright%27%7D%29%3B%0A%20%20%20%20color_map_3260583e417848b6ba217858b47788ec.legend.onAdd%20%3D%20function%20%28map%29%20%7Bvar%20div%20%3D%20L.DomUtil.create%28%27div%27%2C%20%27legend%27%29%3B%20return%20div%7D%3B%0A%20%20%20%20color_map_3260583e417848b6ba217858b47788ec.legend.addTo%28map_325c6ed958c248778672dad8dcb65173%29%3B%0A%0A%20%20%20%20color_map_3260583e417848b6ba217858b47788ec.xAxis%20%3D%20d3.svg.axis%28%29%0A%20%20%20%20%20%20%20%20.scale%28color_map_3260583e417848b6ba217858b47788ec.x%29%0A%20%20%20%20%20%20%20%20.orient%28%22top%22%29%0A%20%20%20%20%20%20%20%20.tickSize%281%29%0A%20%20%20%20%20%20%20%20.tickValues%28%5B1636.076923076923%2C%201717.147435897436%2C%201798.2179487179487%2C%201879.2884615384614%2C%201960.3589743589744%2C%202041.4294871794873%2C%202122.5%5D%29%3B%0A%0A%20%20%20%20color_map_3260583e417848b6ba217858b47788ec.svg%20%3D%20d3.select%28%22.legend.leaflet-control%22%29.append%28%22svg%22%29%0A%20%20%20%20%20%20%20%20.attr%28%22id%22%2C%20%27legend%27%29%0A%20%20%20%20%20%20%20%20.attr%28%22width%22%2C%20450%29%0A%20%20%20%20%20%20%20%20.attr%28%22height%22%2C%2040%29%3B%0A%0A%20%20%20%20color_map_3260583e417848b6ba217858b47788ec.g%20%3D%20color_map_3260583e417848b6ba217858b47788ec.svg.append%28%22g%22%29%0A%20%20%20%20%20%20%20%20.attr%28%22class%22%2C%20%22key%22%29%0A%20%20%20%20%20%20%20%20.attr%28%22transform%22%2C%20%22translate%2825%2C16%29%22%29%3B%0A%0A%20%20%20%20color_map_3260583e417848b6ba217858b47788ec.g.selectAll%28%22rect%22%29%0A%20%20%20%20%20%20%20%20.data%28color_map_3260583e417848b6ba217858b47788ec.color.range%28%29.map%28function%28d%2C%20i%29%20%7B%0A%20%20%20%20%20%20%20%20%20%20return%20%7B%0A%20%20%20%20%20%20%20%20%20%20%20%20x0%3A%20i%20%3F%20color_map_3260583e417848b6ba217858b47788ec.x%28color_map_3260583e417848b6ba217858b47788ec.color.domain%28%29%5Bi%20-%201%5D%29%20%3A%20color_map_3260583e417848b6ba217858b47788ec.x.range%28%29%5B0%5D%2C%0A%20%20%20%20%20%20%20%20%20%20%20%20x1%3A%20i%20%3C%20color_map_3260583e417848b6ba217858b47788ec.color.domain%28%29.length%20%3F%20color_map_3260583e417848b6ba217858b47788ec.x%28color_map_3260583e417848b6ba217858b47788ec.color.domain%28%29%5Bi%5D%29%20%3A%20color_map_3260583e417848b6ba217858b47788ec.x.range%28%29%5B1%5D%2C%0A%20%20%20%20%20%20%20%20%20%20%20%20z%3A%20d%0A%20%20%20%20%20%20%20%20%20%20%7D%3B%0A%20%20%20%20%20%20%20%20%7D%29%29%0A%20%20%20%20%20%20.enter%28%29.append%28%22rect%22%29%0A%20%20%20%20%20%20%20%20.attr%28%22height%22%2C%2010%29%0A%20%20%20%20%20%20%20%20.attr%28%22x%22%2C%20function%28d%29%20%7B%20return%20d.x0%3B%20%7D%29%0A%20%20%20%20%20%20%20%20.attr%28%22width%22%2C%20function%28d%29%20%7B%20return%20d.x1%20-%20d.x0%3B%20%7D%29%0A%20%20%20%20%20%20%20%20.style%28%22fill%22%2C%20function%28d%29%20%7B%20return%20d.z%3B%20%7D%29%3B%0A%0A%20%20%20%20color_map_3260583e417848b6ba217858b47788ec.g.call%28color_map_3260583e417848b6ba217858b47788ec.xAxis%29.append%28%22text%22%29%0A%20%20%20%20%20%20%20%20.attr%28%22class%22%2C%20%22caption%22%29%0A%20%20%20%20%20%20%20%20.attr%28%22y%22%2C%2021%29%0A%20%20%20%20%20%20%20%20.text%28%27%27%29%3B%0A%3C/script%3E onload=\"this.contentDocument.open();this.contentDocument.write(    decodeURIComponent(this.getAttribute('data-html')));this.contentDocument.close();\" allowfullscreen webkitallowfullscreen mozallowfullscreen></iframe></div></div>"
      ],
      "text/plain": [
       "<folium.folium.Map at 0x1cf1c32f190>"
      ]
     },
     "execution_count": 41,
     "metadata": {},
     "output_type": "execute_result"
    }
   ],
   "source": [
    "geo_path = 'C:/Users/고선욱/Documents/ds_study/data/02. skorea_municipalities_geo_simple.json'\n",
    "geo_str = json.load(open(geo_path, encoding='utf-8'))\n",
    "\n",
    "my_map = folium.Map(location=[37.5502, 126.982], zoom_start=10.5, tiles='Stamen Toner')\n",
    "\n",
    "my_map.choropleth(\n",
    "    geo_data=geo_str,\n",
    "    data=gu_data,\n",
    "    columns=[gu_data.index, '가격'],\n",
    "    fill_color='YlGn',\n",
    "    key_on='feature.id',\n",
    ")\n",
    "my_map"
   ]
  },
  {
   "cell_type": "code",
   "execution_count": null,
   "id": "c1238271",
   "metadata": {},
   "outputs": [],
   "source": []
  }
 ],
 "metadata": {
  "kernelspec": {
   "display_name": "Python 3 (ipykernel)",
   "language": "python",
   "name": "python3"
  },
  "language_info": {
   "codemirror_mode": {
    "name": "ipython",
    "version": 3
   },
   "file_extension": ".py",
   "mimetype": "text/x-python",
   "name": "python",
   "nbconvert_exporter": "python",
   "pygments_lexer": "ipython3",
   "version": "3.9.7"
  },
  "toc": {
   "base_numbering": 1,
   "nav_menu": {},
   "number_sections": true,
   "sideBar": true,
   "skip_h1_title": false,
   "title_cell": "Table of Contents",
   "title_sidebar": "Contents",
   "toc_cell": false,
   "toc_position": {},
   "toc_section_display": true,
   "toc_window_display": false
  }
 },
 "nbformat": 4,
 "nbformat_minor": 5
}
