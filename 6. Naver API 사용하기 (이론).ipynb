{
 "cells": [
  {
   "cell_type": "markdown",
   "id": "e407b9f4",
   "metadata": {},
   "source": [
    "# 06. Naver API 사용하기"
   ]
  },
  {
   "cell_type": "markdown",
   "id": "c09b4314",
   "metadata": {},
   "source": [
    "- 네이버, 페이스북, 구글 등 IT의 거대 기업들부터 많은 S/W 관련 회사들이\n",
    "- 자사 제품을 사용하는 것에 대해 API를 제공한다\n",
    "- 특히 요즘처럼 웹크롤링에 대한 방어가 점점 심해지는 이때\n",
    "- 해당 회사의 API를 사용하는 것이 오히려 더 바람직할 수 있다\n",
    "- 점점 API의 사용에 익숙해질 필요 또한 분명하다"
   ]
  },
  {
   "cell_type": "markdown",
   "id": "c225ab2b",
   "metadata": {},
   "source": [
    "- https://developers.naver.com/main/\n",
    "    - 네이버 개발자 센터\n",
    "    - 네이버 로그인\n",
    "    - 서비스 API 선택\n",
    "    - 사용 API: 검색, 데이터랩(검색어트렌드), 데이터랩(쇼핑인사이트), Clova Face Recognition (로그인이 필요하지 않은 것들)\n",
    "    - WEB설정: http://localhost 입력\n",
    "    - Client ID, Client Secret 저장하기\n",
    "    - 일일 사용량이 정해져 있다"
   ]
  },
  {
   "cell_type": "markdown",
   "id": "f6fa731b",
   "metadata": {},
   "source": [
    "#### 개발 가이드 보기\n",
    "- Documents 선택\n",
    "- 서비스 API 선택\n",
    "- 검색 선택\n",
    "- API에 대한 Python 예제"
   ]
  },
  {
   "cell_type": "markdown",
   "id": "4fe4dac5",
   "metadata": {},
   "source": [
    "#### API 기본 정보\n",
    "- 요청 URL 확인\n",
    "- 웹 API는 이 경로를 이용한다"
   ]
  },
  {
   "cell_type": "code",
   "execution_count": 1,
   "id": "0f846121",
   "metadata": {
    "collapsed": true
   },
   "outputs": [
    {
     "name": "stdout",
     "output_type": "stream",
     "text": [
      "{\n",
      "\"lastBuildDate\": \"Tue, 12 Oct 2021 10:26:01 +0900\",\n",
      "\"total\": 856273,\n",
      "\"start\": 1,\n",
      "\"display\": 10,\n",
      "\"items\": [\n",
      "{\n",
      "\"title\": \"반등, <b>코스닥</b> 지수 역시 급등하며 950선 회복. 삼성전자... \",\n",
      "\"link\": \"https:\\/\\/blog.naver.com\\/iti1351?Redirect=Log&logNo=222530346459\",\n",
      "\"description\": \"37%) 국내 코스피, <b>코스닥</b> 지수 동향 ■ 외국인/개인 동반 매도세, 기관 순매수세에 코스피 지수 1.76... ■ <b>코스닥</b> 지수는 외국인/기관 동반 쌍끌이 매수세에 3.37% 큰 폭으로 급등하며 950선까지 반등. ■ 원... \",\n",
      "\"bloggername\": \"SoonTae\",\n",
      "\"bloggerlink\": \"https://blog.naver.com/iti1351\",\n",
      "\"postdate\": \"20211008\"\n",
      "\n",
      "},\n",
      "{\n",
      "\"title\": \"코스피 <b>코스닥</b> 차이 뜻 시총순위 알아보기\",\n",
      "\"link\": \"https:\\/\\/blog.naver.com\\/jessie0208?Redirect=Log&logNo=222489031708\",\n",
      "\"description\": \"하지만 이런 와중에도 정확히 어떤 뜻인지 코스피 <b>코스닥</b> 차이는 무엇인지 아는 사람은 많지 않기도... 본래 코스피 <b>코스닥</b> 뜻은 증권시장의 이름이라고 보시면 되는데요 지금에 와서는 시장에서 다루는... \",\n",
      "\"bloggername\": \"지금이 좋아요, daily project:)\",\n",
      "\"bloggerlink\": \"https://blog.naver.com/jessie0208\",\n",
      "\"postdate\": \"20210830\"\n",
      "\n",
      "},\n",
      "{\n",
      "\"title\": \"오늘의 주가 지수 하락 코스피 <b>코스닥</b> 살펴보기\",\n",
      "\"link\": \"https:\\/\\/blog.naver.com\\/dannycoolman?Redirect=Log&logNo=222473524383\",\n",
      "\"description\": \"현재 코스피와 <b>코스닥</b>이 계속해서 하락세를 보이게 되면서 개별 종목들 또한 만족스럽게 움직이지는... 현재를 기준으로 코스피 <b>코스닥</b> 지수 흐름을 읽어보도록 하겠습니다. KOSPI 3151포인트 KOSDAQ 1021포인트를... \",\n",
      "\"bloggername\": \"굼벵이 브라더스 / 양브라더\",\n",
      "\"bloggerlink\": \"https://blog.naver.com/dannycoolman\",\n",
      "\"postdate\": \"20210817\"\n",
      "\n",
      "},\n",
      "{\n",
      "\"title\": \"코스피, <b>코스닥</b> 급락 MDD 체크\",\n",
      "\"link\": \"https:\\/\\/blog.naver.com\\/dicecasts?Redirect=Log&logNo=222529157847\",\n",
      "\"description\": \"<b>코스닥</b> 지수가 급락해서 MDD 체크 해 보았습니다. MDD (Max Draw Down)란? 최고점 대비 하락한 폭 산... (어차피 맞거나 틀릴 건데) <b>코스닥</b> 현재 922 2021년 7월 고점 1059 - 12.9% 8월 중순 급락 후 9월초 고점 1055 12.6... \",\n",
      "\"bloggername\": \"지적호기심.활자중독.새로운 시도\",\n",
      "\"bloggerlink\": \"https://blog.naver.com/dicecasts\",\n",
      "\"postdate\": \"20211007\"\n",
      "\n",
      "},\n",
      "{\n",
      "\"title\": \"[PINE MATE] 알고 투자하고 있나요? #코스피 와 #<b>코스닥</b>\",\n",
      "\"link\": \"https:\\/\\/blog.naver.com\\/hanwhaasset?Redirect=Log&logNo=222524212089\",\n",
      "\"description\": \"코스피와 <b>코스닥</b> &quot;코스피-<b>코스닥</b> 하락 출발&quot; 매일 뉴스에 언급되는 종합주가지수, 복잡해 보이고 어렵다고요? 지금부터 알아볼까요? 코스피(KOSPI)란? 국내 증권 시장의 대표주자 코스피는 'Korea... \",\n",
      "\"bloggername\": \"한화자산운용 공식 블로그 펀드펀드\",\n",
      "\"bloggerlink\": \"https://blog.naver.com/hanwhaasset\",\n",
      "\"postdate\": \"20211002\"\n",
      "\n",
      "},\n",
      "{\n",
      "\"title\": \"코스피 <b>코스닥</b> 오늘 증시 정리 (케이피엠테크 하한가 발생)\",\n",
      "\"link\": \"https:\\/\\/blog.naver.com\\/miku1999?Redirect=Log&logNo=222504011367\",\n",
      "\"description\": \"2021년 9월9일 어김없이 오늘 코스피 <b>코스닥</b> 증시 상황을 정리하려한다. 지난 뉴욕증시는 델타변이... 금일 우리의 코스피 지수는 -1.53% 하락한 3,114.70 <b>코스닥</b> 지수는 -0.25% 떨어진 1,034.62 네마녀의 날, 델타변이... \",\n",
      "\"bloggername\": \"희망이 현실로\",\n",
      "\"bloggerlink\": \"https://blog.naver.com/miku1999\",\n",
      "\"postdate\": \"20210913\"\n",
      "\n",
      "},\n",
      "{\n",
      "\"title\": \"주식관련 용어와 주식시장(코스피, <b>코스닥</b>)\",\n",
      "\"link\": \"https:\\/\\/blog.naver.com\\/youngsseni?Redirect=Log&logNo=222531445263\",\n",
      "\"description\": \"시장 <b>코스닥</b>시장 중견기업과 벤처기업 등의 주식이 상장되어 있는 시장 장외시장 증권거래소 시장... 등) <b>코스닥</b>지수 <b>코스닥</b>시장의 주가지수 기준일: 1996년 7월1일/ 기준지수: 1000 *상장회사들도 실적이... \",\n",
      "\"bloggername\": \"반짝이는 나의 바다⭐\",\n",
      "\"bloggerlink\": \"https://blog.naver.com/youngsseni\",\n",
      "\"postdate\": \"20211009\"\n",
      "\n",
      "},\n",
      "{\n",
      "\"title\": \"공매도 현황 및 코스피200, <b>코스닥</b>150 지수 종목 구성... \",\n",
      "\"link\": \"https:\\/\\/blog.naver.com\\/askanana?Redirect=Log&logNo=222529707438\",\n",
      "\"description\": \"현재는 공매도가 일부 재개되어 국내에서는 코스피200 지수에 해당되는 종목, <b>코스닥</b> 150에 해당되는... 코스피200, <b>코스닥</b>150 지수는 어떻게 구성되어 있는지 모르시는 분들도 많으실 듯 하여 이참에 한번... \",\n",
      "\"bloggername\": \"\\\"투자로 미래를 바꿉니다.\\\" - 제이퓨쳐 인베스트\",\n",
      "\"bloggerlink\": \"https://blog.naver.com/askanana\",\n",
      "\"postdate\": \"20211007\"\n",
      "\n",
      "},\n",
      "{\n",
      "\"title\": \"<b>코스닥</b> 하락 대참사 시즌\",\n",
      "\"link\": \"https:\\/\\/blog.naver.com\\/joodeng1?Redirect=Log&logNo=222479583619\",\n",
      "\"description\": \"금요일에 <b>코스닥</b> 하락 1000포인트가 깨지면서 같이 나락나오면서 전량 매도하고 일하러 갔는데... <b>코스닥</b> 하락 차트 라운드피겨 1000포인트가 깨진게 의미가 있음 작년에도 950포인트를 지지해주면서 반등에... \",\n",
      "\"bloggername\": \"흙수저 재테크\",\n",
      "\"bloggerlink\": \"https://blog.naver.com/joodeng1\",\n",
      "\"postdate\": \"20210821\"\n",
      "\n",
      "},\n",
      "{\n",
      "\"title\": \"코스피 한달만에 3,100선 아래로…<b>코스닥</b>지수 2.16% 급락\",\n",
      "\"link\": \"https:\\/\\/blog.naver.com\\/isop0315?Redirect=Log&logNo=222519684339\",\n",
      "\"description\": \"<b>코스닥</b>지수는 전날보다 22.31포인트(2.16%) 내린 1,012.51에 마감했다. 지수는 전장보다 0.78포인트(0.08%) 내린 1,034.04로 개장해 하락세를 이어갔다. <b>코스닥</b>시장에서 외국인과 기관이 각각 2천76억원... \",\n",
      "\"bloggername\": \"이솝의 신나는하루\",\n",
      "\"bloggerlink\": \"https://blog.naver.com/isop0315\",\n",
      "\"postdate\": \"20210928\"\n",
      "\n",
      "}\n",
      "]\n",
      "}\n",
      "\n"
     ]
    }
   ],
   "source": [
    "# 네이버 검색 API예제는 블로그를 비롯 전문자료까지 호출방법이 동일하므로 blog검색만 대표로 예제를 올렸습니다.\n",
    "# 네이버 검색 Open API 예제 - 블로그 검색\n",
    "import os\n",
    "import sys\n",
    "import urllib.request\n",
    "client_id = \"jOc7UxR_Sp1MMk2mwOq1\"\n",
    "client_secret = \"s9PY8Vl3Wz\"\n",
    "encText = urllib.parse.quote(\"코스닥\")\n",
    "url = \"https://openapi.naver.com/v1/search/blog?query=\" + encText # json 결과\n",
    "# url = \"https://openapi.naver.com/v1/search/blog.xml?query=\" + encText # xml 결과\n",
    "request = urllib.request.Request(url)\n",
    "request.add_header(\"X-Naver-Client-Id\",client_id)\n",
    "request.add_header(\"X-Naver-Client-Secret\",client_secret)\n",
    "response = urllib.request.urlopen(request)\n",
    "rescode = response.getcode()\n",
    "if(rescode==200):\n",
    "    response_body = response.read()\n",
    "    print(response_body.decode('utf-8'))\n",
    "else:\n",
    "    print(\"Error Code:\" + rescode)"
   ]
  },
  {
   "cell_type": "markdown",
   "id": "02a5793d",
   "metadata": {},
   "source": [
    "- 예제 코드를 Jupyter Notebook에 복사\n",
    "- client_id, client_secret 변수에 발급받은 내용을 넣어준다\n",
    "- urllib: http 프로토콜에 따라서 서버의 요청/응답을 처리하기 위한 모듈\n",
    "- urllib.request: 클라이언트의 요청을 처리하는 모듈\n",
    "- urllib.parse: url 주소에 대한 분석\n",
    "- url = \"https://openapi.naver.com/v1/search/blog?query=\" + encText # json 결과 <== 네이버 블로그 검색 결과를 가져오는 주소"
   ]
  },
  {
   "cell_type": "code",
   "execution_count": 2,
   "id": "f4126540",
   "metadata": {},
   "outputs": [
    {
     "data": {
      "text/plain": [
       "<http.client.HTTPResponse at 0x17c6f7bb048>"
      ]
     },
     "execution_count": 2,
     "metadata": {},
     "output_type": "execute_result"
    }
   ],
   "source": [
    "response"
   ]
  },
  {
   "cell_type": "code",
   "execution_count": 3,
   "id": "8d8b1893",
   "metadata": {
    "scrolled": true
   },
   "outputs": [
    {
     "data": {
      "text/plain": [
       "200"
      ]
     },
     "execution_count": 3,
     "metadata": {},
     "output_type": "execute_result"
    }
   ],
   "source": [
    "response.getcode()"
   ]
  },
  {
   "cell_type": "markdown",
   "id": "9534d202",
   "metadata": {},
   "source": [
    "- 응답 결과를 response에 저장\n",
    "- 결과를 보기 위해서는 약간의 작업이 더 필요하다\n",
    "- http.client.HTTPResponse 클래스는 getcode() 함수를 이용해서 응답의 상태를 확인할 수 있다\n",
    "- 200은 정상\n",
    "- 사용하는 서비스마다 에러코드가 조금씩 다르므로 잘 확인하자"
   ]
  },
  {
   "cell_type": "markdown",
   "id": "3cf8cc4d",
   "metadata": {},
   "source": [
    "![error](../data/error.png)"
   ]
  },
  {
   "cell_type": "code",
   "execution_count": 4,
   "id": "4c15fc65",
   "metadata": {},
   "outputs": [
    {
     "name": "stdout",
     "output_type": "stream",
     "text": [
      "\n"
     ]
    }
   ],
   "source": [
    "print(response.read().decode('utf-8'))"
   ]
  },
  {
   "cell_type": "markdown",
   "id": "9be42bde",
   "metadata": {},
   "source": [
    "- 글자로 읽을 때 decode로 utf-8을 설정해줘야 한다"
   ]
  },
  {
   "cell_type": "code",
   "execution_count": 5,
   "id": "b5956ef6",
   "metadata": {
    "collapsed": true
   },
   "outputs": [
    {
     "name": "stdout",
     "output_type": "stream",
     "text": [
      "{\n",
      "\"lastBuildDate\": \"Tue, 12 Oct 2021 10:52:41 +0900\",\n",
      "\"total\": 1379,\n",
      "\"start\": 1,\n",
      "\"display\": 10,\n",
      "\"items\": [\n",
      "{\n",
      "\"title\": \"이것이 취업을 위한 코딩 테스트다 with <b>파이썬</b> (취업과 이직을 결정하는 알고리즘 인터뷰 완벽 가이드, C/C++, 자바 코드 제공)\",\n",
      "\"link\": \"http://book.naver.com/bookdb/book_detail.php?bid=16439154\",\n",
      "\"image\": \"https://bookthumb-phinf.pstatic.net/cover/164/391/16439154.jpg?type=m1&udate=20200928\",\n",
      "\"author\": \"나동빈\",\n",
      "\"price\": \"34000\",\n",
      "\"discount\": \"30600\",\n",
      "\"publisher\": \"한빛미디어\",\n",
      "\"pubdate\": \"20200805\",\n",
      "\"isbn\": \"1162243074 9791162243077\",\n",
      "\"description\": \"8가지 핵심 알고리즘 이론을 쉽게 설명하고, 관련 실전 문제를 풀이했다. 출제 유형 분석, 이론 설명, 기출문제 풀이까지! 어떤 코딩 테스트도 이 책 한 권으로 대비할 수 있을 것이다. 코딩 테스트에서 주로 선택하는 <b>파이썬</b>을 기반으로 설명되어 있으며, <b>파이썬</b> 코드 외에도 C/C++, 자바 코드를 추가로 제공한다.\"\n",
      "\n",
      "},\n",
      "{\n",
      "\"title\": \"Do it! 점프 투 <b>파이썬</b>\",\n",
      "\"link\": \"http://book.naver.com/bookdb/book_detail.php?bid=15052904\",\n",
      "\"image\": \"https://bookthumb-phinf.pstatic.net/cover/150/529/15052904.jpg?type=m1&udate=20200910\",\n",
      "\"author\": \"박응용\",\n",
      "\"price\": \"18800\",\n",
      "\"discount\": \"16900\",\n",
      "\"publisher\": \"이지스퍼블리싱\",\n",
      "\"pubdate\": \"20190620\",\n",
      "\"isbn\": \"1163030910 9791163030911\",\n",
      "\"description\": \"<b>파이썬</b> 4년 연속 베스트셀러 1위!\\n《DO IT! 점프 투 <b>파이썬</b>》 전면 개정판 출시!문과생도 중고등학생도 직장인도 프로그래밍에 눈뜨게 만든 바로 그 책이... 점프 투 <b>파이썬</b>》으로 출간되었던 이 책은 약 4년 동안의 피드백을 반영하여 초보자가 더 빠르게 입문하고, 더 깊이 있게 공부할 수 있도록 개정되었다.... \"\n",
      "\n",
      "},\n",
      "{\n",
      "\"title\": \"혼자 공부하는 <b>파이썬</b> (<b>파이썬</b> 최신 버전 반영)\",\n",
      "\"link\": \"http://book.naver.com/bookdb/book_detail.php?bid=15028688\",\n",
      "\"image\": \"https://bookthumb-phinf.pstatic.net/cover/150/286/15028688.jpg?type=m1&udate=20210809\",\n",
      "\"author\": \"윤인성\",\n",
      "\"price\": \"18000\",\n",
      "\"discount\": \"16200\",\n",
      "\"publisher\": \"한빛미디어\",\n",
      "\"pubdate\": \"20190610\",\n",
      "\"isbn\": \"1162241888 9791162241882\",\n",
      "\"description\": \"1:1 과외하듯 배우는 <b>파이썬</b> 프로그래밍 자습서(<b>파이썬</b> 최신 버전 반영)\\n27명의 베타리더 검증으로, ‘함께 만든’ 입문자 맞춤형 도서\\n이 책은 독학으로 프로그래밍 언어를 처음 배우려는 입문자가, 혹은 <b>파이썬</b>을 배우려는 입문자가 ‘꼭 필요한 내용을 제대로’ 학습할 수 있도록 구성했다. ‘무엇을’... \"\n",
      "\n",
      "},\n",
      "{\n",
      "\"title\": \"<b>파이썬</b> 알고리즘 인터뷰 (95가지 알고리즘 문제 풀이로 완성하는 코딩 테스트)\",\n",
      "\"link\": \"http://book.naver.com/bookdb/book_detail.php?bid=16406247\",\n",
      "\"image\": \"https://bookthumb-phinf.pstatic.net/cover/164/062/16406247.jpg?type=m1&udate=20201028\",\n",
      "\"author\": \"박상길\",\n",
      "\"price\": \"38000\",\n",
      "\"discount\": \"34200\",\n",
      "\"publisher\": \"책만\",\n",
      "\"pubdate\": \"20200715\",\n",
      "\"isbn\": \"1189909170 9791189909178\",\n",
      "\"description\": \"물론, <b>파이썬</b>으로 구현하는 코드 풀이를 통해 성능 최적화 기법, <b>파이썬</b>의 핵심 문법과 다양한 실용 테크닉까지 배울 수 있는, 초보 개발자와 숙련 개발자... 이 책은 현업과 실무에 유용한 주요 알고리즘 이론을 깊숙이 이해하고, <b>파이썬</b>의 핵심 기능과 문법까지 상세하게 이해할 수 있는 취업용 코딩 테스트를... \"\n",
      "\n",
      "},\n",
      "{\n",
      "\"title\": \"한 권으로 끝내는 <b>파이썬</b> 인공지능 입문 + 실전 종합편 (<b>파이썬</b>+넘파이+텐서플로우로 인공지능 딥러닝 직접 구현하기)\",\n",
      "\"link\": \"http://book.naver.com/bookdb/book_detail.php?bid=20937519\",\n",
      "\"image\": \"https://bookthumb-phinf.pstatic.net/cover/209/375/20937519.jpg?type=m1&udate=20210924\",\n",
      "\"author\": \"서민우\",\n",
      "\"price\": \"23000\",\n",
      "\"discount\": \"20700\",\n",
      "\"publisher\": \"앤써북\",\n",
      "\"pubdate\": \"20210925\",\n",
      "\"isbn\": \"118555386X 9791185553863\",\n",
      "\"description\": \"〈한 권으로 끝내는 <b>파이썬</b> 인공지능 입문+실전(종합편)〉 책을 통해 <b>파이썬</b>, 넘파이, 텐서플로우를 이용하여 인공지능 일고리즘을 구현해 보면서... ㆍ 1단계 : 인공지능 딥러닝 이해 ㆍ 2단계 : <b>파이썬</b>으로 딥러닝 알고리즘 구현ㆍ 3단계 : 넘파이로 행렬기반 딥러닝 알고리즘 구현 ㆍ 4단계 : 직접 구현으로... \"\n",
      "\n",
      "},\n",
      "{\n",
      "\"title\": \"<b>파이썬</b> 증권 데이터 분석 (<b>파이썬</b> 입문, 웹 스크레이핑, 트레이딩 전략, 자동 매매)\",\n",
      "\"link\": \"http://book.naver.com/bookdb/book_detail.php?bid=16381920\",\n",
      "\"image\": \"https://bookthumb-phinf.pstatic.net/cover/163/819/16381920.jpg?type=m1&udate=20201117\",\n",
      "\"author\": \"김황후\",\n",
      "\"price\": \"32000\",\n",
      "\"discount\": \"28800\",\n",
      "\"publisher\": \"한빛미디어\",\n",
      "\"pubdate\": \"20200701\",\n",
      "\"isbn\": \"1162243201 9791162243206\",\n",
      "\"description\": \"투자 기법과 프로그래밍 기술로 &#x0D;자신만의 퀀트 투자 시스템을 완성하라&#x0D;&#x0D;『<b>파이썬</b> 증권 데이터 분석』은 웹 스크레이핑으로 증권 데이터를 주기적으로 자동 수집, 분석, 자동 매매, 예측하는 전 과정을 <b>파이썬</b>으로 직접 구현한다. 그 과정에서 금융 데이터 처리 기본 라이브러리(팬더스)부터 주가... \"\n",
      "\n",
      "},\n",
      "{\n",
      "\"title\": \"<b>파이썬</b> 머신러닝 완벽 가이드 (다양한 캐글 예제와 함께 기초 알고리즘부터 최신 기법까지 배우는)\",\n",
      "\"link\": \"http://book.naver.com/bookdb/book_detail.php?bid=16238302\",\n",
      "\"image\": \"https://bookthumb-phinf.pstatic.net/cover/162/383/16238302.jpg?type=m1&udate=20200423\",\n",
      "\"author\": \"권철민\",\n",
      "\"price\": \"38000\",\n",
      "\"discount\": \"34200\",\n",
      "\"publisher\": \"위키북스\",\n",
      "\"pubdate\": \"20200207\",\n",
      "\"isbn\": \"1158391927 9791158391928\",\n",
      "\"description\": \"자세한 이론 설명과 <b>파이썬</b> 실습을 통해 머신러닝을 완벽하게 배울 수 있습니다!《<b>파이썬</b> 머신러닝 완벽 가이드》는 이론 위주의 머신러닝 책에서 탈피해 다양한 실전 예제를 직접 구현해 보면서 머신러닝을 체득할 수 있도록 만들었습니다.  캐글과 UCI 머신러닝 리포지토리에서 난이도가 있는 실습... \"\n",
      "\n",
      "},\n",
      "{\n",
      "\"title\": \"<b>파이썬</b> for Beginner (쉽고 빠르게 익히는 프로그래밍의 기본 원리)\",\n",
      "\"link\": \"http://book.naver.com/bookdb/book_detail.php?bid=15871779\",\n",
      "\"image\": \"https://bookthumb-phinf.pstatic.net/cover/158/717/15871779.jpg?type=m1&udate=20210902\",\n",
      "\"author\": \"우재남\",\n",
      "\"price\": \"23000\",\n",
      "\"discount\": \"22540\",\n",
      "\"publisher\": \"한빛아카데미\",\n",
      "\"pubdate\": \"20200106\",\n",
      "\"isbn\": \"1156644666 9791156644668\",\n",
      "\"description\": \"다양한 예제와 프로젝트를 활용해 초보자도 쉽게 프로그래밍의 기본을 익힐 수 있는 <b>파이썬</b> 입문서. 문법을 사전식으로 나열하지 않고 작지만 기능적인 프로그램을 하나씩 완성하면서 익힐 수 있게 구성했다. 단계별로 완성하는 프로젝트를 바탕으로 자신만의 그럴듯한 프로그램도 완성할 수 있다.\\n\\nIT... \"\n",
      "\n",
      "},\n",
      "{\n",
      "\"title\": \"Do it! 첫 <b>파이썬</b> (게임하듯 배우는 나의 첫 프로그래밍 책)\",\n",
      "\"link\": \"http://book.naver.com/bookdb/book_detail.php?bid=16324192\",\n",
      "\"image\": \"https://bookthumb-phinf.pstatic.net/cover/163/241/16324192.jpg?type=m1&udate=20210106\",\n",
      "\"author\": \"엘리스 코딩\",\n",
      "\"price\": \"14000\",\n",
      "\"discount\": \"12600\",\n",
      "\"publisher\": \"이지스퍼블리싱\",\n",
      "\"pubdate\": \"20200410\",\n",
      "\"isbn\": \"1163031569 9791163031567\",\n",
      "\"description\": \"왕초보 맞춤 <b>파이썬</b> 입문서초등 고학년부터 필수인 코딩, 주인공 ‘엘리스 토끼’와 함께 게임하듯 배우세요. 176가지 그림과 45가지 코딩 문제를 풀다... 마지막 과제인 ‘점심 메뉴 추첨기’ 프로그램까지 만들면 ‘<b>파이썬</b> 이수증’도 드립니다. 제대로 설계된 코딩 교육 콘텐츠를 찾는 학생·학부모·선생님은... \"\n",
      "\n",
      "},\n",
      "{\n",
      "\"title\": \"머신 러닝 교과서 with <b>파이썬</b>, 사이킷런, 텐서플로 (최신 넘파이, 사이킷런, 텐서플로 2로 배우는 머신 러닝, 딥러닝 핵심 알고)\",\n",
      "\"link\": \"http://book.naver.com/bookdb/book_detail.php?bid=18829375\",\n",
      "\"image\": \"https://bookthumb-phinf.pstatic.net/cover/188/293/18829375.jpg?type=m1&udate=20210429\",\n",
      "\"author\": \"세바스찬 라시카|바히드 미자리리\",\n",
      "\"price\": \"44000\",\n",
      "\"discount\": \"39600\",\n",
      "\"publisher\": \"길벗\",\n",
      "\"pubdate\": \"20210331\",\n",
      "\"isbn\": \"1165215187 9791165215187\",\n",
      "\"description\": \"<b>파이썬</b> 언어와 <b>파이썬</b> 기반의 머신 러닝 핵심 라이브러리(SciPy, NumPy, scikit-learn, Matplotlib, Pandas)를 사용해 머신 러닝을, 텐서플로(TensorFlow 2)를 사용해 딥러닝을 실습해본다. 특히 딥러닝은 최신 텐서플로 2에 맞춰 대폭 수정 및 보강되었다. 그러고 나서 GAN과 강화 학습도 자세하게 다룬다. 머신 러닝과... \"\n",
      "\n",
      "}\n",
      "]\n",
      "}\n",
      "\n"
     ]
    }
   ],
   "source": [
    "# 네이버 검색 API예제는 블로그를 비롯 전문자료까지 호출방법이 동일하므로 blog검색만 대표로 예제를 올렸습니다.\n",
    "# 네이버 검색 Open API 예제 - 블로그 검색\n",
    "import os\n",
    "import sys\n",
    "import urllib.request\n",
    "client_id = \"jOc7UxR_Sp1MMk2mwOq1\"\n",
    "client_secret = \"s9PY8Vl3Wz\"\n",
    "encText = urllib.parse.quote(\"파이썬\")\n",
    "url = \"https://openapi.naver.com/v1/search/book?query=\" + encText # json 결과\n",
    "# url = \"https://openapi.naver.com/v1/search/blog.xml?query=\" + encText # xml 결과\n",
    "request = urllib.request.Request(url)\n",
    "request.add_header(\"X-Naver-Client-Id\",client_id)\n",
    "request.add_header(\"X-Naver-Client-Secret\",client_secret)\n",
    "response = urllib.request.urlopen(request)\n",
    "rescode = response.getcode()\n",
    "if(rescode==200):\n",
    "    response_body = response.read()\n",
    "    print(response_body.decode('utf-8'))\n",
    "else:\n",
    "    print(\"Error Code:\" + rescode)"
   ]
  },
  {
   "cell_type": "markdown",
   "id": "40ee0586",
   "metadata": {},
   "source": [
    "- 이 주소는 네이버 책 검색 결과를 가져오는 주소이다"
   ]
  },
  {
   "cell_type": "code",
   "execution_count": 6,
   "id": "52510e86",
   "metadata": {},
   "outputs": [
    {
     "name": "stdout",
     "output_type": "stream",
     "text": [
      "{\n",
      "\"lastBuildDate\": \"Tue, 12 Oct 2021 10:53:25 +0900\",\n",
      "\"total\": 1,\n",
      "\"start\": 1,\n",
      "\"display\": 1,\n",
      "\"items\": [\n",
      "{\n",
      "\"title\": \"<b>파이썬</b> 앤 가드\",\n",
      "\"link\": \"https://movie.naver.com/movie/bi/mi/basic.nhn?code=152070\",\n",
      "\"image\": \"https://ssl.pstatic.net/imgmovie/mdi/mit110/1520/152070_P01_145336.jpg\",\n",
      "\"subtitle\": \"PYTHON AND GUARD\",\n",
      "\"pubDate\": \"2015\",\n",
      "\"director\": \"안톤 디아코프|\",\n",
      "\"actor\": \"\",\n",
      "\"userRating\": \"0.00\"\n",
      "\n",
      "}\n",
      "]\n",
      "}\n",
      "\n"
     ]
    }
   ],
   "source": [
    "# 네이버 검색 API예제는 블로그를 비롯 전문자료까지 호출방법이 동일하므로 blog검색만 대표로 예제를 올렸습니다.\n",
    "# 네이버 검색 Open API 예제 - 블로그 검색\n",
    "import os\n",
    "import sys\n",
    "import urllib.request\n",
    "client_id = \"jOc7UxR_Sp1MMk2mwOq1\"\n",
    "client_secret = \"s9PY8Vl3Wz\"\n",
    "encText = urllib.parse.quote(\"파이썬\")\n",
    "url = \"https://openapi.naver.com/v1/search/movie?query=\" + encText # json 결과\n",
    "# url = \"https://openapi.naver.com/v1/search/blog.xml?query=\" + encText # xml 결과\n",
    "request = urllib.request.Request(url)\n",
    "request.add_header(\"X-Naver-Client-Id\",client_id)\n",
    "request.add_header(\"X-Naver-Client-Secret\",client_secret)\n",
    "response = urllib.request.urlopen(request)\n",
    "rescode = response.getcode()\n",
    "if(rescode==200):\n",
    "    response_body = response.read()\n",
    "    print(response_body.decode('utf-8'))\n",
    "else:\n",
    "    print(\"Error Code:\" + rescode)"
   ]
  },
  {
   "cell_type": "markdown",
   "id": "c20c954a",
   "metadata": {},
   "source": [
    "- 파이썬이라는 단어가 들어가있는 제목의 영화가 있다"
   ]
  },
  {
   "cell_type": "code",
   "execution_count": 7,
   "id": "0a5d6621",
   "metadata": {
    "collapsed": true
   },
   "outputs": [
    {
     "name": "stdout",
     "output_type": "stream",
     "text": [
      "{\n",
      "\"lastBuildDate\": \"Tue, 12 Oct 2021 10:54:08 +0900\",\n",
      "\"total\": 121780,\n",
      "\"start\": 1,\n",
      "\"display\": 10,\n",
      "\"items\": [\n",
      "{\n",
      "\"title\": \"<b>파이썬</b> 강의 프로그래밍 수업 무료로 듣자!\",\n",
      "\"link\": \"http://cafe.naver.com/anjun/885594\",\n",
      "\"description\": \"※이 글은 산준모카페 관리자 승인 하에 작성된 글입니다 <b>파이썬</b> 강의 프로그래밍 수업 무료로 듣자! <b>파이썬</b> 강의 프로그래밍 수업 무료로 듣자! 안녕하세요 IT전문 학습멘토 동자쌤입니다 프로그래밍을 배우기로... \",\n",
      "\"cafename\": \"산준모★산업안전기사｜위험물산업기사...\",\n",
      "\"cafeurl\": \"https://cafe.naver.com/anjun\"\n",
      "\n",
      "},\n",
      "{\n",
      "\"title\": \"<b>파이썬</b> 교재 추천해주세요\",\n",
      "\"link\": \"http://cafe.naver.com/forasteacher/158057\",\n",
      "\"description\": \"초6아이에요 다른 코딩 자격증 준비중이고 곧 마무리될 단계라서 다음 과정으로 <b>파이썬</b>해주고 싶은데 초등 애들이 사용할 만한 교재 추천 부탁드려요 그리고 혹시 아이들 중에 diat <b>파이썬</b> 자격증 시험 진행해보신분들... \",\n",
      "\"cafename\": \"방세아.방과후.돌봄.공부방.유치원\",\n",
      "\"cafeurl\": \"https://cafe.naver.com/forasteacher\"\n",
      "\n",
      "},\n",
      "{\n",
      "\"title\": \"<b>파이썬</b>기초학원 쉽게 교육받는 방법 공유합니다.\",\n",
      "\"link\": \"http://cafe.naver.com/nomacomnovels2/1985\",\n",
      "\"description\": \"오늘은 <b>파이썬</b>기초학원에서 <b>파이썬</b>과 관련된 여러가지 이야기를 나눠보도록 할건데요! 바로 시작해보도록 할게요~ Let's go! <b>파이썬</b>에 대한 간략한 소개! <b>파이썬</b>은 네덜란드 Guido van Rossum이 만든 언어로 알려져... \",\n",
      "\"cafename\": \"IT로 성공하는 사람들 - 아성사 ( IT공...\",\n",
      "\"cafeurl\": \"https://cafe.naver.com/nomacomnovels2\"\n",
      "\n",
      "},\n",
      "{\n",
      "\"title\": \"<b>파이썬</b> 도서\",\n",
      "\"link\": \"http://cafe.naver.com/mathall/2268240\",\n",
      "\"description\": \"안녕하세요~ 아이가 <b>파이썬</b>책을 사달라네요 혼자라도 해보고 싶다는데 어떤책을 사줘야할지를 모르겠네요 <b>파이썬</b> 책 활용하기 좋은것으로 아시는분 계시면 도움부탁드립니다~~♡♡\",\n",
      "\"cafename\": \"[상위1%카페] 대한민국 상위1% 교육정...\",\n",
      "\"cafeurl\": \"https://cafe.naver.com/mathall\"\n",
      "\n",
      "},\n",
      "{\n",
      "\"title\": \"<b>파이썬</b> 배우는 법\",\n",
      "\"link\": \"http://cafe.naver.com/inmacbook/2470930\",\n",
      "\"description\": \"맥북으로 <b>파이썬</b>을 배우려고 합니다. 혹시 유튜브에 맥기반으로 파이선 강의하는 사이트가 있을가요? 맥기반이 아니더라도 <b>파이썬</b> 초보가 쉽게 배울수 있는 유투버 추천 부탁드립니다.\",\n",
      "\"cafename\": \"맥 쓰는 사람들 [구 맥북을 쓰는 사람...\",\n",
      "\"cafeurl\": \"https://cafe.naver.com/inmacbook\"\n",
      "\n",
      "},\n",
      "{\n",
      "\"title\": \"반도체쪽 <b>파이썬</b> 자격증\",\n",
      "\"link\": \"http://cafe.naver.com/dokchi/11273200\",\n",
      "\"description\": \"이쪽에서도 <b>파이썬</b>이 많이 쓰인다고 하여 <b>파이썬</b>관련 자격증을 하나 취득해볼까 하는데 <b>파이썬</b> 마스터, Cos Pro Python 이 둘 중에서 고민중입니다. 혹시 어느쪽이 좀 더 도움이 될까요..? 답변... \",\n",
      "\"cafename\": \"독취사-취업,대학생,대기업,공기업,GS...\",\n",
      "\"cafeurl\": \"https://cafe.naver.com/dokchi\"\n",
      "\n",
      "},\n",
      "{\n",
      "\"title\": \"<b>파이썬</b> 독학사이트(coding-insight.com) 업데이트 소개드려요.\",\n",
      "\"link\": \"http://cafe.naver.com/pangyomommy/519978\",\n",
      "\"description\": \"낙원중학교 1학년 친구들의 '<b>파이썬</b> 팩토리' 동아리가 지난주 한국과학창의재단의 2차 온라인 자문을... 등을 <b>파이썬</b>을 통해 구현해볼 수 있는 동영상을 올리고 각 강좌 소개동영상을 올리기 시작했어요. https://youtu.... \",\n",
      "\"cafename\": \"[판교맘] 판교 엄마들의 모임\",\n",
      "\"cafeurl\": \"https://cafe.naver.com/pangyomommy\"\n",
      "\n",
      "},\n",
      "{\n",
      "\"title\": \"ADP 실기와 빅분기 실기// <b>파이썬</b> or R\",\n",
      "\"link\": \"http://cafe.naver.com/sqlpd/25148\",\n",
      "\"description\": \"예전 학부 때 복수전공하면서 계량경제학 과목을 R로 한 학기동안 만져본적 있는데(교수님이 R로만 하심), ADP나 빅분기 실기는 훨씬 더 어려울거 같아 <b>파이썬</b>으로 준비할지 R로 준비할지 고민됩니다. 사실 한 학기동안... \",\n",
      "\"cafename\": \"데이터 전문가 포럼 (빅데이터분석기사...\",\n",
      "\"cafeurl\": \"https://cafe.naver.com/sqlpd\"\n",
      "\n",
      "},\n",
      "{\n",
      "\"title\": \"<b>파이썬</b> 책을 사야할까요??\",\n",
      "\"link\": \"http://cafe.naver.com/kongdae/140672\",\n",
      "\"description\": \"2학기부터 정보시간에 <b>파이썬</b> 배우기 시작했는데 교과서에는 내용이 충분하지 않은것 같아요ㅠㅠ 컴공과를... 하나 사두고 참고하면서 이것저것 해보고 싶긴 한데 <b>파이썬</b>에 쏟을 수 있는 시간이 많이 나지는 않을것... \",\n",
      "\"cafename\": \"[이공계의 별★서울대,KAIST,POSTECH,...\",\n",
      "\"cafeurl\": \"https://cafe.naver.com/kongdae\"\n",
      "\n",
      "},\n",
      "{\n",
      "\"title\": \"<b>파이썬</b>으로 plc 데이터 받아서 db에 저장하는게 가능한가요?\",\n",
      "\"link\": \"http://cafe.naver.com/cplc/297952\",\n",
      "\"description\": \"일반적으로 c#을 많이쓰는걸로 알고 있는데 <b>파이썬</b>으로 가능한지해서... 잘 안쓰면 왜안쓰는지...질문을 남겨봅니다.!\",\n",
      "\"cafename\": \"컴퓨터일반과PLC\",\n",
      "\"cafeurl\": \"https://cafe.naver.com/cplc\"\n",
      "\n",
      "}\n",
      "]\n",
      "}\n",
      "\n"
     ]
    }
   ],
   "source": [
    "# 네이버 검색 API예제는 블로그를 비롯 전문자료까지 호출방법이 동일하므로 blog검색만 대표로 예제를 올렸습니다.\n",
    "# 네이버 검색 Open API 예제 - 블로그 검색\n",
    "import os\n",
    "import sys\n",
    "import urllib.request\n",
    "client_id = \"jOc7UxR_Sp1MMk2mwOq1\"\n",
    "client_secret = \"s9PY8Vl3Wz\"\n",
    "encText = urllib.parse.quote(\"파이썬\")\n",
    "url = \"https://openapi.naver.com/v1/search/cafearticle?query=\" + encText # json 결과\n",
    "# url = \"https://openapi.naver.com/v1/search/blog.xml?query=\" + encText # xml 결과\n",
    "request = urllib.request.Request(url)\n",
    "request.add_header(\"X-Naver-Client-Id\",client_id)\n",
    "request.add_header(\"X-Naver-Client-Secret\",client_secret)\n",
    "response = urllib.request.urlopen(request)\n",
    "rescode = response.getcode()\n",
    "if(rescode==200):\n",
    "    response_body = response.read()\n",
    "    print(response_body.decode('utf-8'))\n",
    "else:\n",
    "    print(\"Error Code:\" + rescode)"
   ]
  },
  {
   "cell_type": "markdown",
   "id": "2aa7d228",
   "metadata": {},
   "source": [
    "- 공개된 네이버 카페 검색 결과를 가져오는 주소이다"
   ]
  },
  {
   "cell_type": "code",
   "execution_count": 8,
   "id": "4fc3e89e",
   "metadata": {
    "collapsed": true
   },
   "outputs": [
    {
     "name": "stdout",
     "output_type": "stream",
     "text": [
      "{\n",
      "\"lastBuildDate\": \"Tue, 12 Oct 2021 10:55:42 +0900\",\n",
      "\"total\": 344259,\n",
      "\"start\": 1,\n",
      "\"display\": 10,\n",
      "\"items\": [\n",
      "{\n",
      "\"title\": \"골든구스 슈퍼스타 <b>파이톤</b> 여자 스니커즈 GWF00102 F000761 10402\",\n",
      "\"link\": \"https://search.shopping.naver.com/gate.nhn?id=27539981407\",\n",
      "\"image\": \"https://shopping-phinf.pstatic.net/main_2753998/27539981407.20210612003415.jpg\",\n",
      "\"lprice\": \"366840\",\n",
      "\"hprice\": \"\",\n",
      "\"mallName\": \"네이버\",\n",
      "\"productId\": \"27539981407\",\n",
      "\"productType\": \"1\",\n",
      "\"brand\": \"골든구스\",\n",
      "\"maker\": \"골든구스\",\n",
      "\"category1\": \"패션잡화\",\n",
      "\"category2\": \"여성신발\",\n",
      "\"category3\": \"단화\",\n",
      "\"category4\": \"스니커즈\"\n",
      "\n",
      "},\n",
      "{\n",
      "\"title\": \"칼린 모드 H79163010\",\n",
      "\"link\": \"https://search.shopping.naver.com/gate.nhn?id=18402726379\",\n",
      "\"image\": \"https://shopping-phinf.pstatic.net/main_1840272/18402726379.20210604103232.jpg\",\n",
      "\"lprice\": \"68710\",\n",
      "\"hprice\": \"\",\n",
      "\"mallName\": \"네이버\",\n",
      "\"productId\": \"18402726379\",\n",
      "\"productType\": \"1\",\n",
      "\"brand\": \"칼린\",\n",
      "\"maker\": \"\",\n",
      "\"category1\": \"패션잡화\",\n",
      "\"category2\": \"여성가방\",\n",
      "\"category3\": \"크로스백\",\n",
      "\"category4\": \"\"\n",
      "\n",
      "},\n",
      "{\n",
      "\"title\": \"샤를리즈 <b>파이톤</b>백 POWT-1027\",\n",
      "\"link\": \"https://search.shopping.naver.com/gate.nhn?id=23134625806\",\n",
      "\"image\": \"https://shopping-phinf.pstatic.net/main_2313462/23134625806.20200613171707.jpg\",\n",
      "\"lprice\": \"88290\",\n",
      "\"hprice\": \"\",\n",
      "\"mallName\": \"네이버\",\n",
      "\"productId\": \"23134625806\",\n",
      "\"productType\": \"1\",\n",
      "\"brand\": \"\",\n",
      "\"maker\": \"\",\n",
      "\"category1\": \"패션잡화\",\n",
      "\"category2\": \"여성가방\",\n",
      "\"category3\": \"토트백\",\n",
      "\"category4\": \"\"\n",
      "\n",
      "},\n",
      "{\n",
      "\"title\": \"잘모이 셀리나 리얼 <b>파이톤</b> 스마트백 LTZ-5217\",\n",
      "\"link\": \"https://search.shopping.naver.com/gate.nhn?id=29034170281\",\n",
      "\"image\": \"https://shopping-phinf.pstatic.net/main_2903417/29034170281.20210929210506.jpg\",\n",
      "\"lprice\": \"88200\",\n",
      "\"hprice\": \"\",\n",
      "\"mallName\": \"네이버\",\n",
      "\"productId\": \"29034170281\",\n",
      "\"productType\": \"1\",\n",
      "\"brand\": \"잘모이\",\n",
      "\"maker\": \"\",\n",
      "\"category1\": \"패션잡화\",\n",
      "\"category2\": \"여성가방\",\n",
      "\"category3\": \"토트백\",\n",
      "\"category4\": \"\"\n",
      "\n",
      "},\n",
      "{\n",
      "\"title\": \"잘모이 피플오브더월드 또리에 메간 <b>파이톤</b>백 POWT-1028\",\n",
      "\"link\": \"https://search.shopping.naver.com/gate.nhn?id=23134182510\",\n",
      "\"image\": \"https://shopping-phinf.pstatic.net/main_2313418/23134182510.20200613154000.jpg\",\n",
      "\"lprice\": \"85020\",\n",
      "\"hprice\": \"\",\n",
      "\"mallName\": \"네이버\",\n",
      "\"productId\": \"23134182510\",\n",
      "\"productType\": \"1\",\n",
      "\"brand\": \"잘모이\",\n",
      "\"maker\": \"\",\n",
      "\"category1\": \"패션잡화\",\n",
      "\"category2\": \"여성가방\",\n",
      "\"category3\": \"토트백\",\n",
      "\"category4\": \"\"\n",
      "\n",
      "},\n",
      "{\n",
      "\"title\": \"사만사타바사 럭키 Lucky 미니백 15371MI68\",\n",
      "\"link\": \"https://search.shopping.naver.com/gate.nhn?id=24143307710\",\n",
      "\"image\": \"https://shopping-phinf.pstatic.net/main_2414330/24143307710.20211004002608.jpg\",\n",
      "\"lprice\": \"73370\",\n",
      "\"hprice\": \"\",\n",
      "\"mallName\": \"네이버\",\n",
      "\"productId\": \"24143307710\",\n",
      "\"productType\": \"1\",\n",
      "\"brand\": \"사만사타바사\",\n",
      "\"maker\": \"\",\n",
      "\"category1\": \"패션잡화\",\n",
      "\"category2\": \"여성가방\",\n",
      "\"category3\": \"크로스백\",\n",
      "\"category4\": \"\"\n",
      "\n",
      "},\n",
      "{\n",
      "\"title\": \"잘모이 최신상 리얼 <b>파이톤</b> 셀리나 빅 토트\",\n",
      "\"link\": \"https://search.shopping.naver.com/gate.nhn?id=26501844713\",\n",
      "\"image\": \"https://shopping-phinf.pstatic.net/main_2650184/26501844713.20210324211416.jpg\",\n",
      "\"lprice\": \"276200\",\n",
      "\"hprice\": \"\",\n",
      "\"mallName\": \"네이버\",\n",
      "\"productId\": \"26501844713\",\n",
      "\"productType\": \"1\",\n",
      "\"brand\": \"잘모이\",\n",
      "\"maker\": \"\",\n",
      "\"category1\": \"패션잡화\",\n",
      "\"category2\": \"여성가방\",\n",
      "\"category3\": \"토트백\",\n",
      "\"category4\": \"\"\n",
      "\n",
      "},\n",
      "{\n",
      "\"title\": \"르까프 여성 <b>파이썬</b>18 PP 1118ST151\",\n",
      "\"link\": \"https://search.shopping.naver.com/gate.nhn?id=27397012345\",\n",
      "\"image\": \"https://shopping-phinf.pstatic.net/main_2739701/27397012345.20210602025256.jpg\",\n",
      "\"lprice\": \"20230\",\n",
      "\"hprice\": \"\",\n",
      "\"mallName\": \"네이버\",\n",
      "\"productId\": \"27397012345\",\n",
      "\"productType\": \"1\",\n",
      "\"brand\": \"르까프\",\n",
      "\"maker\": \"\",\n",
      "\"category1\": \"패션잡화\",\n",
      "\"category2\": \"여성신발\",\n",
      "\"category3\": \"운동화\",\n",
      "\"category4\": \"러닝화\"\n",
      "\n",
      "},\n",
      "{\n",
      "\"title\": \"샌디 <b>파이톤</b> 핸드백 LTZ-5194\",\n",
      "\"link\": \"https://search.shopping.naver.com/gate.nhn?id=23455192579\",\n",
      "\"image\": \"https://shopping-phinf.pstatic.net/main_2345519/23455192579.20200714190521.jpg\",\n",
      "\"lprice\": \"98280\",\n",
      "\"hprice\": \"\",\n",
      "\"mallName\": \"네이버\",\n",
      "\"productId\": \"23455192579\",\n",
      "\"productType\": \"1\",\n",
      "\"brand\": \"\",\n",
      "\"maker\": \"\",\n",
      "\"category1\": \"패션잡화\",\n",
      "\"category2\": \"여성가방\",\n",
      "\"category3\": \"토트백\",\n",
      "\"category4\": \"\"\n",
      "\n",
      "},\n",
      "{\n",
      "\"title\": \"젬므 <b>파이톤</b>백 스카프 LTZ-5181\",\n",
      "\"link\": \"https://search.shopping.naver.com/gate.nhn?id=22164931999\",\n",
      "\"image\": \"https://shopping-phinf.pstatic.net/main_2216493/22164931999.20200310151009.jpg\",\n",
      "\"lprice\": \"98990\",\n",
      "\"hprice\": \"\",\n",
      "\"mallName\": \"네이버\",\n",
      "\"productId\": \"22164931999\",\n",
      "\"productType\": \"1\",\n",
      "\"brand\": \"\",\n",
      "\"maker\": \"\",\n",
      "\"category1\": \"패션잡화\",\n",
      "\"category2\": \"여성가방\",\n",
      "\"category3\": \"토트백\",\n",
      "\"category4\": \"\"\n",
      "\n",
      "}\n",
      "]\n",
      "}\n",
      "\n"
     ]
    }
   ],
   "source": [
    "# 네이버 검색 API예제는 블로그를 비롯 전문자료까지 호출방법이 동일하므로 blog검색만 대표로 예제를 올렸습니다.\n",
    "# 네이버 검색 Open API 예제 - 블로그 검색\n",
    "import os\n",
    "import sys\n",
    "import urllib.request\n",
    "client_id = \"jOc7UxR_Sp1MMk2mwOq1\"\n",
    "client_secret = \"s9PY8Vl3Wz\"\n",
    "encText = urllib.parse.quote(\"파이썬\")\n",
    "url = \"https://openapi.naver.com/v1/search/shop?query=\" + encText # json 결과\n",
    "# url = \"https://openapi.naver.com/v1/search/blog.xml?query=\" + encText # xml 결과\n",
    "request = urllib.request.Request(url)\n",
    "request.add_header(\"X-Naver-Client-Id\",client_id)\n",
    "request.add_header(\"X-Naver-Client-Secret\",client_secret)\n",
    "response = urllib.request.urlopen(request)\n",
    "rescode = response.getcode()\n",
    "if(rescode==200):\n",
    "    response_body = response.read()\n",
    "    print(response_body.decode('utf-8'))\n",
    "else:\n",
    "    print(\"Error Code:\" + rescode)"
   ]
  },
  {
   "cell_type": "markdown",
   "id": "1656d953",
   "metadata": {},
   "source": [
    "- 네이버 쇼핑에 대한 검색 결과를 가져오는 주소이다\n",
    "- 파이썬(파이톤)이 들어가는 제품이 있는 듯 하다"
   ]
  },
  {
   "cell_type": "code",
   "execution_count": 9,
   "id": "60b390e9",
   "metadata": {
    "collapsed": true
   },
   "outputs": [
    {
     "name": "stdout",
     "output_type": "stream",
     "text": [
      "{\n",
      "\"lastBuildDate\": \"Tue, 12 Oct 2021 10:56:55 +0900\",\n",
      "\"total\": 444,\n",
      "\"start\": 1,\n",
      "\"display\": 10,\n",
      "\"items\": [\n",
      "{\n",
      "\"title\": \"<b>파이썬</b>\",\n",
      "\"link\": \"https://terms.naver.com/entry.naver?docId=3580815&cid=59088&categoryId=59096\",\n",
      "\"description\": \"‘<b>파이썬</b>’이다. 간결한 문법으로 입문자가 이해하기 쉽고, 다양한 분야에 활용할 수 있기 때문이다. 이 외에도 <b>파이썬</b>은 머신러닝, 그래픽, 웹 개발 등 여러 업계에서 선호하는 언어로 꾸준히... \",\n",
      "\"thumbnail\": \"http://openapi-dbscthumb.phinf.naver.net/4749_000_1/20170118193349632_0CHSSS5Y6.png/01_16.png?type=m160_160\"\n",
      "\n",
      "},\n",
      "{\n",
      "\"title\": \"<b>파이썬</b>\",\n",
      "\"link\": \"https://terms.naver.com/entry.naver?docId=3607513&cid=58598&categoryId=59316\",\n",
      "\"description\": \" 컴퓨터 언어의 일종으로 간결하고 생산성 높은 프로그래밍 언어.  <b>파이썬</b>(python)은 프로그램을 설계하는 프로그래밍 언어 중 하나입니다. 컴퓨터는 0과 1을(이진수) 인식하여 작동하기 때문에 과거에는... \",\n",
      "\"thumbnail\": \"http://openapi-dbscthumb.phinf.naver.net/4751_000_3/20170710213206672_OPHLG2VOW.jpg/992_170575_10034.jpg?type=m160_160\"\n",
      "\n",
      "},\n",
      "{\n",
      "\"title\": \"<b>파이썬</b>\",\n",
      "\"link\": \"https://terms.naver.com/entry.naver?docId=3533295&cid=40942&categoryId=32838\",\n",
      "\"description\": \" 오픈소스 고급 프로그래밍 언어 중 하나이다.  C언어를 기반으로 한 오픈소스 고급 프로그래밍 언어로, 1991년 귀도 반 로섬(Guido van Rossum)에 의해 설계 및 개발되었다. <b>파이썬</b>이라는 이름은 <b>파이썬</b>을... \",\n",
      "\"thumbnail\": \"\"\n",
      "\n",
      "},\n",
      "{\n",
      "\"title\": \"<b>파이썬</b>\",\n",
      "\"link\": \"https://ko.wikipedia.org/wiki/%ED%8C%8C%EC%9D%B4%EC%8D%AC\",\n",
      "\"description\": \"<b>파이썬</b> ( 영어: Python )은 1991년 프로그래머인 귀도 반 로섬이 발표한 고급 프로그래밍 언어로, 플랫폼에 독립적이며 인터프리터식, 객체지향적, 동적 타이핑(dynamically typed) 대화형 언어이다.... \",\n",
      "\"thumbnail\": \"\"\n",
      "\n",
      "},\n",
      "{\n",
      "\"title\": \"C<b>파이썬</b>\",\n",
      "\"link\": \"https://ko.wikipedia.org/wiki/C%ED%8C%8C%EC%9D%B4%EC%8D%AC\",\n",
      "\"description\": \"C<b>파이썬</b> (CPython)은 <b>파이썬</b> 프로그래밍 언어의 참조 구현체이다. C와 <b>파이썬</b>으로 작성된 C<b>파이썬</b>은 이 언어에 가장 널리 사용되는 기본 구현체이다. C<b>파이썬</b>은 인터프리트 과정 이전에 <b>파이썬</b> 코드를... \",\n",
      "\"thumbnail\": \"\"\n",
      "\n",
      "},\n",
      "{\n",
      "\"title\": \"바이오<b>파이썬</b>\",\n",
      "\"link\": \"https://ko.wikipedia.org/wiki/%EB%B0%94%EC%9D%B4%EC%98%A4%ED%8C%8C%EC%9D%B4%EC%8D%AC\",\n",
      "\"description\": \"바이오<b>파이썬</b> (Biopython) 프로젝트는 분자생물학 계산에 자유롭게 사용하기 위한 <b>파이썬</b> 라이브러리 구축 프로젝트이다. 같이 보기 바이오자바 바이오펄 외부 링크 biopython.org\",\n",
      "\"thumbnail\": \"\"\n",
      "\n",
      "},\n",
      "{\n",
      "\"title\": \"<b>파이썬</b>의 역사\",\n",
      "\"link\": \"https://ko.wikipedia.org/wiki/%ED%8C%8C%EC%9D%B4%EC%8D%AC%EC%9D%98_%EC%97%AD%EC%82%AC\",\n",
      "\"description\": \"프로그래밍 언어 <b>파이썬</b>은 1980년대 말에 구상되었으며 그 구현체는 1989년 12월 예외 처리가 가능하고 아메바 운영 체제와 통신이 가능한 ABC의 후속 프로그래밍 언어로서 CWI(Centrum Wiskunde... \",\n",
      "\"thumbnail\": \"\"\n",
      "\n",
      "},\n",
      "{\n",
      "\"title\": \"아나콘다 (<b>파이썬</b> 배포판)\",\n",
      "\"link\": \"https://ko.wikipedia.org/wiki/%EC%95%84%EB%82%98%EC%BD%98%EB%8B%A4_(%ED%8C%8C%EC%9D%B4%EC%8D%AC_%EB%B0%B0%ED%8F%AC%ED%8C%90)\",\n",
      "\"description\": \"아나콘다 (Anaconda)는 패키지 관리와 디플로이를 단순케 할 목적으로 과학 계산(데이터 과학, 기계 학습 애플리케이션, 대규모 데이터 처리, 예측 분석 등)을 위해 <b>파이썬</b>과 R 프로그래밍 언어의 자유... \",\n",
      "\"thumbnail\": \"\"\n",
      "\n",
      "},\n",
      "{\n",
      "\"title\": \"<b>파이썬</b> 소프트웨어 재단\",\n",
      "\"link\": \"https://ko.wikipedia.org/wiki/%ED%8C%8C%EC%9D%B4%EC%8D%AC_%EC%86%8C%ED%94%84%ED%8A%B8%EC%9B%A8%EC%96%B4_%EC%9E%AC%EB%8B%A8\",\n",
      "\"description\": \"<b>파이썬</b> 소프트웨어 재단 (Python Software Foundation, PSF)은 <b>파이썬</b> 프로그래밍 언어에 헌신하는 비영리 단체로서, 2001년 3월 6일 런칭했다. 이 단체의 임무는 <b>파이썬</b> 공동체의 개발을 발전시키고... \",\n",
      "\"thumbnail\": \"\"\n",
      "\n",
      "},\n",
      "{\n",
      "\"title\": \"자이썬\",\n",
      "\"link\": \"https://ko.wikipedia.org/wiki/%EC%9E%90%EC%9D%B4%EC%8D%AC\",\n",
      "\"description\": \"자이썬 ( Jython )은 <b>파이썬</b>의 자바 구현으로, Jim Hugunin에 의해 처음으로 만들어졌다. 처음에는 <b>파이썬</b> 표준 구현의 이름(CPython)을 따라 JPython 라는 이름을 썼다. 자이썬은 자바 언어로만 작성되었기... \",\n",
      "\"thumbnail\": \"\"\n",
      "\n",
      "}\n",
      "]\n",
      "}\n",
      "\n"
     ]
    }
   ],
   "source": [
    "# 네이버 검색 API예제는 블로그를 비롯 전문자료까지 호출방법이 동일하므로 blog검색만 대표로 예제를 올렸습니다.\n",
    "# 네이버 검색 Open API 예제 - 블로그 검색\n",
    "import os\n",
    "import sys\n",
    "import urllib.request\n",
    "client_id = \"jOc7UxR_Sp1MMk2mwOq1\"\n",
    "client_secret = \"s9PY8Vl3Wz\"\n",
    "encText = urllib.parse.quote(\"파이썬\")\n",
    "url = \"https://openapi.naver.com/v1/search/encyc?query=\" + encText # json 결과\n",
    "# url = \"https://openapi.naver.com/v1/search/blog.xml?query=\" + encText # xml 결과\n",
    "request = urllib.request.Request(url)\n",
    "request.add_header(\"X-Naver-Client-Id\",client_id)\n",
    "request.add_header(\"X-Naver-Client-Secret\",client_secret)\n",
    "response = urllib.request.urlopen(request)\n",
    "rescode = response.getcode()\n",
    "if(rescode==200):\n",
    "    response_body = response.read()\n",
    "    print(response_body.decode('utf-8'))\n",
    "else:\n",
    "    print(\"Error Code:\" + rescode)"
   ]
  },
  {
   "cell_type": "markdown",
   "id": "5776fad5",
   "metadata": {},
   "source": [
    "- 네이버 백과사전에 대한 검색 결과를 가져오는 주소이다"
   ]
  },
  {
   "cell_type": "markdown",
   "id": "57b8b02c",
   "metadata": {},
   "source": [
    "# 상품 검색(feat. 몰스킨)"
   ]
  },
  {
   "cell_type": "code",
   "execution_count": 3,
   "id": "60bf0388",
   "metadata": {
    "collapsed": true
   },
   "outputs": [
    {
     "name": "stdout",
     "output_type": "stream",
     "text": [
      "{\n",
      "\"lastBuildDate\": \"Tue, 12 Oct 2021 12:59:34 +0900\",\n",
      "\"total\": 28961,\n",
      "\"start\": 1,\n",
      "\"display\": 10,\n",
      "\"items\": [\n",
      "{\n",
      "\"title\": \"한정판 <b>몰스킨</b> 2022 피너츠 위클리 다이어리 포켓\",\n",
      "\"link\": \"https://search.shopping.naver.com/gate.nhn?id=28763297998\",\n",
      "\"image\": \"https://shopping-phinf.pstatic.net/main_2876329/28763297998.20210908210546.jpg\",\n",
      "\"lprice\": \"29810\",\n",
      "\"hprice\": \"\",\n",
      "\"mallName\": \"네이버\",\n",
      "\"productId\": \"28763297998\",\n",
      "\"productType\": \"1\",\n",
      "\"brand\": \"몰스킨\",\n",
      "\"maker\": \"몰스킨\",\n",
      "\"category1\": \"생활/건강\",\n",
      "\"category2\": \"문구/사무용품\",\n",
      "\"category3\": \"다이어리/플래너\",\n",
      "\"category4\": \"다이어리\"\n",
      "\n",
      "},\n",
      "{\n",
      "\"title\": \"<b>몰스킨</b> 2022 해리포터 데일리 다이어리 포캣\",\n",
      "\"link\": \"https://search.shopping.naver.com/gate.nhn?id=28719894754\",\n",
      "\"image\": \"https://shopping-phinf.pstatic.net/main_2871989/28719894754.20210906035419.jpg\",\n",
      "\"lprice\": \"30060\",\n",
      "\"hprice\": \"\",\n",
      "\"mallName\": \"네이버\",\n",
      "\"productId\": \"28719894754\",\n",
      "\"productType\": \"1\",\n",
      "\"brand\": \"몰스킨\",\n",
      "\"maker\": \"몰스킨\",\n",
      "\"category1\": \"생활/건강\",\n",
      "\"category2\": \"문구/사무용품\",\n",
      "\"category3\": \"다이어리/플래너\",\n",
      "\"category4\": \"다이어리\"\n",
      "\n",
      "},\n",
      "{\n",
      "\"title\": \"<b>몰스킨</b> 2022 다이어리 데일리 위클리 포켓 고급 명품 감성 휴대용 여자 각인 해리포터\",\n",
      "\"link\": \"https://search.shopping.naver.com/gate.nhn?id=83374268420\",\n",
      "\"image\": \"https://shopping-phinf.pstatic.net/main_8337426/83374268420.jpg\",\n",
      "\"lprice\": \"26800\",\n",
      "\"hprice\": \"\",\n",
      "\"mallName\": \"에코펜\",\n",
      "\"productId\": \"83374268420\",\n",
      "\"productType\": \"2\",\n",
      "\"brand\": \"몰스킨\",\n",
      "\"maker\": \"몰스킨\",\n",
      "\"category1\": \"생활/건강\",\n",
      "\"category2\": \"문구/사무용품\",\n",
      "\"category3\": \"다이어리/플래너\",\n",
      "\"category4\": \"다이어리\"\n",
      "\n",
      "},\n",
      "{\n",
      "\"title\": \"<b>몰스킨</b> 클래식 노트 소프트커버 도트 포켓 머틀그린\",\n",
      "\"link\": \"https://search.shopping.naver.com/gate.nhn?id=24014924801\",\n",
      "\"image\": \"https://shopping-phinf.pstatic.net/main_2401492/24014924801.20200903021703.jpg\",\n",
      "\"lprice\": \"18810\",\n",
      "\"hprice\": \"\",\n",
      "\"mallName\": \"네이버\",\n",
      "\"productId\": \"24014924801\",\n",
      "\"productType\": \"1\",\n",
      "\"brand\": \"몰스킨\",\n",
      "\"maker\": \"몰스킨\",\n",
      "\"category1\": \"생활/건강\",\n",
      "\"category2\": \"문구/사무용품\",\n",
      "\"category3\": \"노트/수첩\",\n",
      "\"category4\": \"노트\"\n",
      "\n",
      "},\n",
      "{\n",
      "\"title\": \"<b>몰스킨</b> 클래식노트 플레인 하드 L\",\n",
      "\"link\": \"https://search.shopping.naver.com/gate.nhn?id=24031381534\",\n",
      "\"image\": \"https://shopping-phinf.pstatic.net/main_2403138/24031381534.20200904012957.jpg\",\n",
      "\"lprice\": \"19930\",\n",
      "\"hprice\": \"\",\n",
      "\"mallName\": \"네이버\",\n",
      "\"productId\": \"24031381534\",\n",
      "\"productType\": \"1\",\n",
      "\"brand\": \"몰스킨\",\n",
      "\"maker\": \"몰스킨\",\n",
      "\"category1\": \"생활/건강\",\n",
      "\"category2\": \"문구/사무용품\",\n",
      "\"category3\": \"노트/수첩\",\n",
      "\"category4\": \"노트\"\n",
      "\n",
      "},\n",
      "{\n",
      "\"title\": \"<b>몰스킨</b> 2022 데일리 다이어리 하드커버 포켓 4색상\",\n",
      "\"link\": \"https://search.shopping.naver.com/gate.nhn?id=28719036749\",\n",
      "\"image\": \"https://shopping-phinf.pstatic.net/main_2871903/28719036749.20210906011032.jpg\",\n",
      "\"lprice\": \"26500\",\n",
      "\"hprice\": \"\",\n",
      "\"mallName\": \"네이버\",\n",
      "\"productId\": \"28719036749\",\n",
      "\"productType\": \"1\",\n",
      "\"brand\": \"몰스킨\",\n",
      "\"maker\": \"몰스킨\",\n",
      "\"category1\": \"생활/건강\",\n",
      "\"category2\": \"문구/사무용품\",\n",
      "\"category3\": \"다이어리/플래너\",\n",
      "\"category4\": \"다이어리\"\n",
      "\n",
      "},\n",
      "{\n",
      "\"title\": \"<b>몰스킨</b> 클래식노트 SOFT 하이드레인저\",\n",
      "\"link\": \"https://search.shopping.naver.com/gate.nhn?id=27370038858\",\n",
      "\"image\": \"https://shopping-phinf.pstatic.net/main_2737003/27370038858.20210530181457.jpg\",\n",
      "\"lprice\": \"18100\",\n",
      "\"hprice\": \"\",\n",
      "\"mallName\": \"네이버\",\n",
      "\"productId\": \"27370038858\",\n",
      "\"productType\": \"1\",\n",
      "\"brand\": \"몰스킨\",\n",
      "\"maker\": \"몰스킨\",\n",
      "\"category1\": \"생활/건강\",\n",
      "\"category2\": \"문구/사무용품\",\n",
      "\"category3\": \"노트/수첩\",\n",
      "\"category4\": \"노트\"\n",
      "\n",
      "},\n",
      "{\n",
      "\"title\": \"<b>몰스킨</b> 2021 위클리 소프트 P-\",\n",
      "\"link\": \"https://search.shopping.naver.com/gate.nhn?id=25430082807\",\n",
      "\"image\": \"https://shopping-phinf.pstatic.net/main_2543008/25430082807.20201230215155.jpg\",\n",
      "\"lprice\": \"19920\",\n",
      "\"hprice\": \"\",\n",
      "\"mallName\": \"네이버\",\n",
      "\"productId\": \"25430082807\",\n",
      "\"productType\": \"1\",\n",
      "\"brand\": \"몰스킨\",\n",
      "\"maker\": \"몰스킨\",\n",
      "\"category1\": \"생활/건강\",\n",
      "\"category2\": \"문구/사무용품\",\n",
      "\"category3\": \"다이어리/플래너\",\n",
      "\"category4\": \"다이어리\"\n",
      "\n",
      "},\n",
      "{\n",
      "\"title\": \"한정판 <b>몰스킨</b> 2022 어린왕자 데일리 다이어리 포켓\",\n",
      "\"link\": \"https://search.shopping.naver.com/gate.nhn?id=28745540468\",\n",
      "\"image\": \"https://shopping-phinf.pstatic.net/main_2874554/28745540468.20210907204153.jpg\",\n",
      "\"lprice\": \"31960\",\n",
      "\"hprice\": \"\",\n",
      "\"mallName\": \"네이버\",\n",
      "\"productId\": \"28745540468\",\n",
      "\"productType\": \"1\",\n",
      "\"brand\": \"몰스킨\",\n",
      "\"maker\": \"몰스킨\",\n",
      "\"category1\": \"생활/건강\",\n",
      "\"category2\": \"문구/사무용품\",\n",
      "\"category3\": \"다이어리/플래너\",\n",
      "\"category4\": \"다이어리\"\n",
      "\n",
      "},\n",
      "{\n",
      "\"title\": \"<b>몰스킨</b> <b>몰스킨</b> 2022 위클리 18개월 다이어리 소프트커버 라지 색상선택\",\n",
      "\"link\": \"https://search.shopping.naver.com/gate.nhn?id=27137560168\",\n",
      "\"image\": \"https://shopping-phinf.pstatic.net/main_2713756/27137560168.20210513175845.jpg\",\n",
      "\"lprice\": \"34360\",\n",
      "\"hprice\": \"\",\n",
      "\"mallName\": \"네이버\",\n",
      "\"productId\": \"27137560168\",\n",
      "\"productType\": \"1\",\n",
      "\"brand\": \"몰스킨\",\n",
      "\"maker\": \"몰스킨\",\n",
      "\"category1\": \"생활/건강\",\n",
      "\"category2\": \"문구/사무용품\",\n",
      "\"category3\": \"다이어리/플래너\",\n",
      "\"category4\": \"다이어리\"\n",
      "\n",
      "}\n",
      "]\n",
      "}\n",
      "\n"
     ]
    }
   ],
   "source": [
    "# 네이버 검색 API예제는 블로그를 비롯 전문자료까지 호출방법이 동일하므로 blog검색만 대표로 예제를 올렸습니다.\n",
    "# 네이버 검색 Open API 예제 - 블로그 검색\n",
    "import os\n",
    "import sys\n",
    "import urllib.request\n",
    "client_id = \"jOc7UxR_Sp1MMk2mwOq1\"\n",
    "client_secret = \"s9PY8Vl3Wz\"\n",
    "encText = urllib.parse.quote(\"몰스킨\")\n",
    "url = \"https://openapi.naver.com/v1/search/shop?query=\" + encText # json 결과\n",
    "# url = \"https://openapi.naver.com/v1/search/blog.xml?query=\" + encText # xml 결과\n",
    "request = urllib.request.Request(url)\n",
    "request.add_header(\"X-Naver-Client-Id\",client_id)\n",
    "request.add_header(\"X-Naver-Client-Secret\",client_secret)\n",
    "response = urllib.request.urlopen(request)\n",
    "rescode = response.getcode()\n",
    "if(rescode==200):\n",
    "    response_body = response.read()\n",
    "    print(response_body.decode('utf-8'))\n",
    "else:\n",
    "    print(\"Error Code:\" + rescode)"
   ]
  },
  {
   "cell_type": "markdown",
   "id": "fa5d6003",
   "metadata": {},
   "source": [
    "- 몰스킨이라는 이름으로 검색\n",
    "- 몰스킨은 마케팅으로 성공을 이끈 대표적인 아날로그 감성 제품\n",
    "- 창조적인 일을 하는 사람들이, 창조성을 기록하는 책..의 이미지를 가짐\n",
    "- https://brunch.co.kr/@univbrand/7\n",
    "- 블로그 - <우리가 몰랐던 몰스킨의 5가지 비밀>에서 발췌"
   ]
  },
  {
   "cell_type": "markdown",
   "id": "3a97530a",
   "metadata": {},
   "source": [
    "### 작업 순서\n",
    "- 아래에 보이는 순서로 함수를 만들어 간다\n",
    "- 이 순서는 단지 오늘 수업의 순서일 뿐이지만,\n",
    "- 이제 이런 순서도가 없으면 코드의 흐름을 잡기 어렵다\n",
    "- 더 중요한 것은 이건 SW 개발과는 관련이 없이 수업을 위한 것이다\n",
    "- 좋은 SW는 보다 더 체계적으로 개발된다\n",
    "- 우리는 단지 우리 수준에 맞춰서 진행한다"
   ]
  },
  {
   "cell_type": "markdown",
   "id": "d1605dd6",
   "metadata": {},
   "source": [
    "- (1) gen_search_url(generate url)\n",
    "- (2) get_result_onpage(Get data on one page)\n",
    "- (3) get_fields(Convert pandas data frame)\n",
    "- (4) actMain(All Data Gathering)\n",
    "- (5) toExcel(Export to Excel)"
   ]
  },
  {
   "cell_type": "markdown",
   "id": "7ca3f4f9",
   "metadata": {},
   "source": [
    "### (1) gen_search_url(generate url)\n",
    "- 먼저 검색해야할 URL 만들기\n",
    "- 앞선 내용으로 검색할 URL과 그 URL에는 많은 옵션이 있는데,\n",
    "- 해당 옵션을 사용해서 URL을 만들어야 한다"
   ]
  },
  {
   "cell_type": "markdown",
   "id": "89cb69f0",
   "metadata": {},
   "source": [
    "![request](../data/request.png)"
   ]
  },
  {
   "cell_type": "markdown",
   "id": "a8692de2",
   "metadata": {},
   "source": [
    "- 위 요청 변수들을 URL에 포함시켜야 한다"
   ]
  },
  {
   "cell_type": "code",
   "execution_count": 4,
   "id": "96449a59",
   "metadata": {},
   "outputs": [],
   "source": [
    "def gen_search_url(api_node, search_text, start_num, disp_num):\n",
    "    # api_node: blog, book, shop 등, search_text: 어떤 단어를 검색, start_num: 몇번째부터 검색, disp_num: 몇개를 출력할건가\n",
    "    base = 'https://openapi.naver.com/v1/search'\n",
    "    node = '/' + api_node + '.json'\n",
    "    param_query = '?query=' + urllib.parse.quote(search_text)\n",
    "    param_start = '&start=' + str(start_num)\n",
    "    param_disp = '&display=' + str(disp_num)\n",
    "    \n",
    "    return base + node + param_query + param_start + param_disp"
   ]
  },
  {
   "cell_type": "markdown",
   "id": "55dd3b7c",
   "metadata": {},
   "source": [
    "- 일단 URL을 만드는 함수를 만들고 테스트"
   ]
  },
  {
   "cell_type": "code",
   "execution_count": 5,
   "id": "f6a003f2",
   "metadata": {},
   "outputs": [
    {
     "data": {
      "text/plain": [
       "'https://openapi.naver.com/v1/search/shop.json?query=TEST&start=10&display=3'"
      ]
     },
     "execution_count": 5,
     "metadata": {},
     "output_type": "execute_result"
    }
   ],
   "source": [
    "gen_search_url('shop', 'TEST', 10, 3)"
   ]
  },
  {
   "cell_type": "markdown",
   "id": "1b1f2610",
   "metadata": {},
   "source": [
    "- 결과가 잘 나온다"
   ]
  },
  {
   "cell_type": "markdown",
   "id": "880c8822",
   "metadata": {},
   "source": [
    "### (2) get_result_onpage(Get data on one page)"
   ]
  },
  {
   "cell_type": "code",
   "execution_count": 6,
   "id": "a5a0f4a8",
   "metadata": {},
   "outputs": [],
   "source": [
    "import json\n",
    "import datetime\n",
    "\n",
    "def get_result_onpage(url):\n",
    "    request = urllib.request.Request(url)\n",
    "    request.add_header('X-Naver-Client-Id', client_id)\n",
    "    request.add_header('X-Naver-Client-Secret', client_secret)\n",
    "    response = urllib.request.urlopen(request)\n",
    "    print('[%s] Url Request Success' % datetime.datetime.now())\n",
    "    return json.loads(response.read().decode('utf-8'))"
   ]
  },
  {
   "cell_type": "code",
   "execution_count": 7,
   "id": "992b4420",
   "metadata": {},
   "outputs": [
    {
     "name": "stdout",
     "output_type": "stream",
     "text": [
      "[2021-10-12 12:59:48.415080] Url Request Success\n"
     ]
    }
   ],
   "source": [
    "client_id = \"jOc7UxR_Sp1MMk2mwOq1\"\n",
    "client_secret = \"s9PY8Vl3Wz\"\n",
    "\n",
    "url = gen_search_url('shop', '몰스킨', 1, 5)\n",
    "one_result = get_result_onpage(url)"
   ]
  },
  {
   "cell_type": "code",
   "execution_count": 10,
   "id": "fff5f80a",
   "metadata": {
    "collapsed": true
   },
   "outputs": [
    {
     "data": {
      "text/plain": [
       "{'lastBuildDate': 'Tue, 12 Oct 2021 12:59:48 +0900',\n",
       " 'total': 28961,\n",
       " 'start': 1,\n",
       " 'display': 5,\n",
       " 'items': [{'title': '한정판 <b>몰스킨</b> 2022 피너츠 위클리 다이어리 포켓',\n",
       "   'link': 'https://search.shopping.naver.com/gate.nhn?id=28763297998',\n",
       "   'image': 'https://shopping-phinf.pstatic.net/main_2876329/28763297998.20210908210546.jpg',\n",
       "   'lprice': '29810',\n",
       "   'hprice': '',\n",
       "   'mallName': '네이버',\n",
       "   'productId': '28763297998',\n",
       "   'productType': '1',\n",
       "   'brand': '몰스킨',\n",
       "   'maker': '몰스킨',\n",
       "   'category1': '생활/건강',\n",
       "   'category2': '문구/사무용품',\n",
       "   'category3': '다이어리/플래너',\n",
       "   'category4': '다이어리'},\n",
       "  {'title': '<b>몰스킨</b> 2022 해리포터 데일리 다이어리 포캣',\n",
       "   'link': 'https://search.shopping.naver.com/gate.nhn?id=28719894754',\n",
       "   'image': 'https://shopping-phinf.pstatic.net/main_2871989/28719894754.20210906035419.jpg',\n",
       "   'lprice': '30060',\n",
       "   'hprice': '',\n",
       "   'mallName': '네이버',\n",
       "   'productId': '28719894754',\n",
       "   'productType': '1',\n",
       "   'brand': '몰스킨',\n",
       "   'maker': '몰스킨',\n",
       "   'category1': '생활/건강',\n",
       "   'category2': '문구/사무용품',\n",
       "   'category3': '다이어리/플래너',\n",
       "   'category4': '다이어리'},\n",
       "  {'title': '<b>몰스킨</b> 2022 다이어리 데일리 위클리 포켓 고급 명품 감성 휴대용 여자 각인 해리포터',\n",
       "   'link': 'https://search.shopping.naver.com/gate.nhn?id=83374268420',\n",
       "   'image': 'https://shopping-phinf.pstatic.net/main_8337426/83374268420.jpg',\n",
       "   'lprice': '26800',\n",
       "   'hprice': '',\n",
       "   'mallName': '에코펜',\n",
       "   'productId': '83374268420',\n",
       "   'productType': '2',\n",
       "   'brand': '몰스킨',\n",
       "   'maker': '몰스킨',\n",
       "   'category1': '생활/건강',\n",
       "   'category2': '문구/사무용품',\n",
       "   'category3': '다이어리/플래너',\n",
       "   'category4': '다이어리'},\n",
       "  {'title': '<b>몰스킨</b> 클래식 노트 소프트커버 도트 포켓 머틀그린',\n",
       "   'link': 'https://search.shopping.naver.com/gate.nhn?id=24014924801',\n",
       "   'image': 'https://shopping-phinf.pstatic.net/main_2401492/24014924801.20200903021703.jpg',\n",
       "   'lprice': '18810',\n",
       "   'hprice': '',\n",
       "   'mallName': '네이버',\n",
       "   'productId': '24014924801',\n",
       "   'productType': '1',\n",
       "   'brand': '몰스킨',\n",
       "   'maker': '몰스킨',\n",
       "   'category1': '생활/건강',\n",
       "   'category2': '문구/사무용품',\n",
       "   'category3': '노트/수첩',\n",
       "   'category4': '노트'},\n",
       "  {'title': '<b>몰스킨</b> 클래식노트 플레인 하드 L',\n",
       "   'link': 'https://search.shopping.naver.com/gate.nhn?id=24031381534',\n",
       "   'image': 'https://shopping-phinf.pstatic.net/main_2403138/24031381534.20200904012957.jpg',\n",
       "   'lprice': '19930',\n",
       "   'hprice': '',\n",
       "   'mallName': '네이버',\n",
       "   'productId': '24031381534',\n",
       "   'productType': '1',\n",
       "   'brand': '몰스킨',\n",
       "   'maker': '몰스킨',\n",
       "   'category1': '생활/건강',\n",
       "   'category2': '문구/사무용품',\n",
       "   'category3': '노트/수첩',\n",
       "   'category4': '노트'}]}"
      ]
     },
     "execution_count": 10,
     "metadata": {},
     "output_type": "execute_result"
    }
   ],
   "source": [
    "one_result"
   ]
  },
  {
   "cell_type": "markdown",
   "id": "ce304d1d",
   "metadata": {},
   "source": [
    "### (3) get_fields(Convert pandas dataframe)"
   ]
  },
  {
   "cell_type": "code",
   "execution_count": 11,
   "id": "9ae2ef7e",
   "metadata": {},
   "outputs": [
    {
     "data": {
      "text/plain": [
       "'한정판 <b>몰스킨</b> 2022 피너츠 위클리 다이어리 포켓'"
      ]
     },
     "execution_count": 11,
     "metadata": {},
     "output_type": "execute_result"
    }
   ],
   "source": [
    "one_result['items'][0]['title']"
   ]
  },
  {
   "cell_type": "code",
   "execution_count": 12,
   "id": "570d2518",
   "metadata": {},
   "outputs": [
    {
     "data": {
      "text/plain": [
       "'29810'"
      ]
     },
     "execution_count": 12,
     "metadata": {},
     "output_type": "execute_result"
    }
   ],
   "source": [
    "one_result['items'][0]['lprice']"
   ]
  },
  {
   "cell_type": "code",
   "execution_count": 13,
   "id": "d37bccdd",
   "metadata": {},
   "outputs": [
    {
     "data": {
      "text/plain": [
       "'네이버'"
      ]
     },
     "execution_count": 13,
     "metadata": {},
     "output_type": "execute_result"
    }
   ],
   "source": [
    "one_result['items'][0]['mallName']"
   ]
  },
  {
   "cell_type": "markdown",
   "id": "3680fc37",
   "metadata": {},
   "source": [
    "- one_result의 'items' 항목 안에서 검색 결과 가져오기"
   ]
  },
  {
   "cell_type": "code",
   "execution_count": 14,
   "id": "55e8945f",
   "metadata": {},
   "outputs": [],
   "source": [
    "import pandas as pd\n",
    "\n",
    "\n",
    "def get_fields(json_data):\n",
    "    title = [each['title'] for each in json_data['items']]\n",
    "    link = [each['link'] for each in json_data['items']]\n",
    "    lprice = [each['lprice'] for each in json_data['items']]\n",
    "    mall_name = [each['mallName'] for each in json_data['items']]\n",
    "    \n",
    "    result_pd = pd.DataFrame({\n",
    "        'title': title,\n",
    "        'lprice': lprice,\n",
    "        'link': link,\n",
    "        'mall': mall_name,\n",
    "    }, columns=['title', 'lprice', 'link', 'mall'])\n",
    "    \n",
    "    return result_pd"
   ]
  },
  {
   "cell_type": "markdown",
   "id": "9e2c0ff8",
   "metadata": {},
   "source": [
    "- 이렇게 해서 간단하게 pandas data frame으로 출력"
   ]
  },
  {
   "cell_type": "code",
   "execution_count": 15,
   "id": "1faedb1f",
   "metadata": {},
   "outputs": [
    {
     "data": {
      "text/html": [
       "<div>\n",
       "<style scoped>\n",
       "    .dataframe tbody tr th:only-of-type {\n",
       "        vertical-align: middle;\n",
       "    }\n",
       "\n",
       "    .dataframe tbody tr th {\n",
       "        vertical-align: top;\n",
       "    }\n",
       "\n",
       "    .dataframe thead th {\n",
       "        text-align: right;\n",
       "    }\n",
       "</style>\n",
       "<table border=\"1\" class=\"dataframe\">\n",
       "  <thead>\n",
       "    <tr style=\"text-align: right;\">\n",
       "      <th></th>\n",
       "      <th>title</th>\n",
       "      <th>lprice</th>\n",
       "      <th>link</th>\n",
       "      <th>mall</th>\n",
       "    </tr>\n",
       "  </thead>\n",
       "  <tbody>\n",
       "    <tr>\n",
       "      <th>0</th>\n",
       "      <td>한정판 &lt;b&gt;몰스킨&lt;/b&gt; 2022 피너츠 위클리 다이어리 포켓</td>\n",
       "      <td>29810</td>\n",
       "      <td>https://search.shopping.naver.com/gate.nhn?id=...</td>\n",
       "      <td>네이버</td>\n",
       "    </tr>\n",
       "    <tr>\n",
       "      <th>1</th>\n",
       "      <td>&lt;b&gt;몰스킨&lt;/b&gt; 2022 해리포터 데일리 다이어리 포캣</td>\n",
       "      <td>30060</td>\n",
       "      <td>https://search.shopping.naver.com/gate.nhn?id=...</td>\n",
       "      <td>네이버</td>\n",
       "    </tr>\n",
       "    <tr>\n",
       "      <th>2</th>\n",
       "      <td>&lt;b&gt;몰스킨&lt;/b&gt; 2022 다이어리 데일리 위클리 포켓 고급 명품 감성 휴대용 여...</td>\n",
       "      <td>26800</td>\n",
       "      <td>https://search.shopping.naver.com/gate.nhn?id=...</td>\n",
       "      <td>에코펜</td>\n",
       "    </tr>\n",
       "    <tr>\n",
       "      <th>3</th>\n",
       "      <td>&lt;b&gt;몰스킨&lt;/b&gt; 클래식 노트 소프트커버 도트 포켓 머틀그린</td>\n",
       "      <td>18810</td>\n",
       "      <td>https://search.shopping.naver.com/gate.nhn?id=...</td>\n",
       "      <td>네이버</td>\n",
       "    </tr>\n",
       "    <tr>\n",
       "      <th>4</th>\n",
       "      <td>&lt;b&gt;몰스킨&lt;/b&gt; 클래식노트 플레인 하드 L</td>\n",
       "      <td>19930</td>\n",
       "      <td>https://search.shopping.naver.com/gate.nhn?id=...</td>\n",
       "      <td>네이버</td>\n",
       "    </tr>\n",
       "  </tbody>\n",
       "</table>\n",
       "</div>"
      ],
      "text/plain": [
       "                                               title lprice  \\\n",
       "0                한정판 <b>몰스킨</b> 2022 피너츠 위클리 다이어리 포켓  29810   \n",
       "1                   <b>몰스킨</b> 2022 해리포터 데일리 다이어리 포캣  30060   \n",
       "2  <b>몰스킨</b> 2022 다이어리 데일리 위클리 포켓 고급 명품 감성 휴대용 여...  26800   \n",
       "3                 <b>몰스킨</b> 클래식 노트 소프트커버 도트 포켓 머틀그린  18810   \n",
       "4                          <b>몰스킨</b> 클래식노트 플레인 하드 L  19930   \n",
       "\n",
       "                                                link mall  \n",
       "0  https://search.shopping.naver.com/gate.nhn?id=...  네이버  \n",
       "1  https://search.shopping.naver.com/gate.nhn?id=...  네이버  \n",
       "2  https://search.shopping.naver.com/gate.nhn?id=...  에코펜  \n",
       "3  https://search.shopping.naver.com/gate.nhn?id=...  네이버  \n",
       "4  https://search.shopping.naver.com/gate.nhn?id=...  네이버  "
      ]
     },
     "execution_count": 15,
     "metadata": {},
     "output_type": "execute_result"
    }
   ],
   "source": [
    "get_fields(one_result)"
   ]
  },
  {
   "cell_type": "markdown",
   "id": "3348a3a6",
   "metadata": {},
   "source": [
    "- 출력 결과에 'b' 라는 태그가 있다"
   ]
  },
  {
   "cell_type": "code",
   "execution_count": 16,
   "id": "834bf723",
   "metadata": {},
   "outputs": [],
   "source": [
    "def delete_tag(input_str):\n",
    "    input_str = input_str.replace('<b>', '')\n",
    "    input_str = input_str.replace('</b>', '')\n",
    "    return input_str"
   ]
  },
  {
   "cell_type": "markdown",
   "id": "164b4333",
   "metadata": {},
   "source": [
    "- 'b'를 없애는 함수 작성"
   ]
  },
  {
   "cell_type": "code",
   "execution_count": 17,
   "id": "45dacb26",
   "metadata": {},
   "outputs": [],
   "source": [
    "import pandas as pd\n",
    "\n",
    "\n",
    "def get_fields(json_data):\n",
    "    title = [delete_tag(each['title']) for each in json_data['items']]\n",
    "    link = [each['link'] for each in json_data['items']]\n",
    "    lprice = [each['lprice'] for each in json_data['items']]\n",
    "    mall_name = [each['mallName'] for each in json_data['items']]\n",
    "    \n",
    "    result_pd = pd.DataFrame({\n",
    "        'title': title,\n",
    "        'lprice': lprice,\n",
    "        'link': link,\n",
    "        'mall': mall_name,\n",
    "    }, columns=['title', 'lprice', 'link', 'mall'])\n",
    "    \n",
    "    return result_pd"
   ]
  },
  {
   "cell_type": "markdown",
   "id": "da1c3098",
   "metadata": {},
   "source": [
    "- 'b'를 없애는 함수를 title에 적용"
   ]
  },
  {
   "cell_type": "code",
   "execution_count": 18,
   "id": "c786e59e",
   "metadata": {},
   "outputs": [
    {
     "name": "stdout",
     "output_type": "stream",
     "text": [
      "[2021-10-12 13:00:19.754963] Url Request Success\n"
     ]
    }
   ],
   "source": [
    "# gen_search_url(generate url)\n",
    "url = gen_search_url('shop', '몰스킨', 1, 5)\n",
    "\n",
    "# get_result_onpage(Get data on one page)\n",
    "json_result = get_result_onpage(url)\n",
    "\n",
    "# get_fields(Convert pandas dataframe)\n",
    "pd_result = get_fields(json_result)"
   ]
  },
  {
   "cell_type": "code",
   "execution_count": 19,
   "id": "8bef78f8",
   "metadata": {},
   "outputs": [
    {
     "data": {
      "text/html": [
       "<div>\n",
       "<style scoped>\n",
       "    .dataframe tbody tr th:only-of-type {\n",
       "        vertical-align: middle;\n",
       "    }\n",
       "\n",
       "    .dataframe tbody tr th {\n",
       "        vertical-align: top;\n",
       "    }\n",
       "\n",
       "    .dataframe thead th {\n",
       "        text-align: right;\n",
       "    }\n",
       "</style>\n",
       "<table border=\"1\" class=\"dataframe\">\n",
       "  <thead>\n",
       "    <tr style=\"text-align: right;\">\n",
       "      <th></th>\n",
       "      <th>title</th>\n",
       "      <th>lprice</th>\n",
       "      <th>link</th>\n",
       "      <th>mall</th>\n",
       "    </tr>\n",
       "  </thead>\n",
       "  <tbody>\n",
       "    <tr>\n",
       "      <th>0</th>\n",
       "      <td>한정판 몰스킨 2022 피너츠 위클리 다이어리 포켓</td>\n",
       "      <td>29810</td>\n",
       "      <td>https://search.shopping.naver.com/gate.nhn?id=...</td>\n",
       "      <td>네이버</td>\n",
       "    </tr>\n",
       "    <tr>\n",
       "      <th>1</th>\n",
       "      <td>몰스킨 2022 해리포터 데일리 다이어리 포캣</td>\n",
       "      <td>30060</td>\n",
       "      <td>https://search.shopping.naver.com/gate.nhn?id=...</td>\n",
       "      <td>네이버</td>\n",
       "    </tr>\n",
       "    <tr>\n",
       "      <th>2</th>\n",
       "      <td>몰스킨 2022 다이어리 데일리 위클리 포켓 고급 명품 감성 휴대용 여자 각인 해리포터</td>\n",
       "      <td>26800</td>\n",
       "      <td>https://search.shopping.naver.com/gate.nhn?id=...</td>\n",
       "      <td>에코펜</td>\n",
       "    </tr>\n",
       "    <tr>\n",
       "      <th>3</th>\n",
       "      <td>몰스킨 클래식 노트 소프트커버 도트 포켓 머틀그린</td>\n",
       "      <td>18810</td>\n",
       "      <td>https://search.shopping.naver.com/gate.nhn?id=...</td>\n",
       "      <td>네이버</td>\n",
       "    </tr>\n",
       "    <tr>\n",
       "      <th>4</th>\n",
       "      <td>몰스킨 클래식노트 플레인 하드 L</td>\n",
       "      <td>19930</td>\n",
       "      <td>https://search.shopping.naver.com/gate.nhn?id=...</td>\n",
       "      <td>네이버</td>\n",
       "    </tr>\n",
       "  </tbody>\n",
       "</table>\n",
       "</div>"
      ],
      "text/plain": [
       "                                              title lprice  \\\n",
       "0                      한정판 몰스킨 2022 피너츠 위클리 다이어리 포켓  29810   \n",
       "1                         몰스킨 2022 해리포터 데일리 다이어리 포캣  30060   \n",
       "2  몰스킨 2022 다이어리 데일리 위클리 포켓 고급 명품 감성 휴대용 여자 각인 해리포터  26800   \n",
       "3                       몰스킨 클래식 노트 소프트커버 도트 포켓 머틀그린  18810   \n",
       "4                                몰스킨 클래식노트 플레인 하드 L  19930   \n",
       "\n",
       "                                                link mall  \n",
       "0  https://search.shopping.naver.com/gate.nhn?id=...  네이버  \n",
       "1  https://search.shopping.naver.com/gate.nhn?id=...  네이버  \n",
       "2  https://search.shopping.naver.com/gate.nhn?id=...  에코펜  \n",
       "3  https://search.shopping.naver.com/gate.nhn?id=...  네이버  \n",
       "4  https://search.shopping.naver.com/gate.nhn?id=...  네이버  "
      ]
     },
     "execution_count": 19,
     "metadata": {},
     "output_type": "execute_result"
    }
   ],
   "source": [
    "pd_result"
   ]
  },
  {
   "cell_type": "markdown",
   "id": "385725a5",
   "metadata": {},
   "source": [
    "### (4) actMain(All Data Gathering)"
   ]
  },
  {
   "cell_type": "code",
   "execution_count": 3,
   "id": "73dbfa17",
   "metadata": {},
   "outputs": [
    {
     "name": "stdout",
     "output_type": "stream",
     "text": [
      "1\n",
      "101\n",
      "201\n",
      "301\n",
      "401\n",
      "501\n",
      "601\n",
      "701\n",
      "801\n",
      "901\n"
     ]
    }
   ],
   "source": [
    "for n in range(1, 1000, 100):\n",
    "    print(n)"
   ]
  },
  {
   "cell_type": "markdown",
   "id": "84dfdacd",
   "metadata": {},
   "source": [
    "- 간단한 for문 테스트"
   ]
  },
  {
   "cell_type": "code",
   "execution_count": 21,
   "id": "7ef03000",
   "metadata": {},
   "outputs": [
    {
     "name": "stdout",
     "output_type": "stream",
     "text": [
      "[2021-10-12 13:00:25.082081] Url Request Success\n",
      "[2021-10-12 13:00:25.340517] Url Request Success\n",
      "[2021-10-12 13:00:25.655900] Url Request Success\n",
      "[2021-10-12 13:00:25.917932] Url Request Success\n",
      "[2021-10-12 13:00:26.190660] Url Request Success\n",
      "[2021-10-12 13:00:26.505006] Url Request Success\n",
      "[2021-10-12 13:00:26.781456] Url Request Success\n",
      "[2021-10-12 13:00:27.055581] Url Request Success\n",
      "[2021-10-12 13:00:27.351289] Url Request Success\n",
      "[2021-10-12 13:00:27.643816] Url Request Success\n"
     ]
    }
   ],
   "source": [
    "result_mol = []\n",
    "\n",
    "for n in range(1, 1000, 100):\n",
    "    url = gen_search_url('shop', '몰스킨', n, 100)\n",
    "    json_result = get_result_onpage(url)\n",
    "    pd_result = get_fields(json_result)\n",
    "    \n",
    "    result_mol.append(pd_result)\n",
    "    \n",
    "result_mol = pd.concat(result_mol)"
   ]
  },
  {
   "cell_type": "code",
   "execution_count": 22,
   "id": "02278c0e",
   "metadata": {},
   "outputs": [
    {
     "name": "stdout",
     "output_type": "stream",
     "text": [
      "<class 'pandas.core.frame.DataFrame'>\n",
      "Int64Index: 1000 entries, 0 to 99\n",
      "Data columns (total 4 columns):\n",
      " #   Column  Non-Null Count  Dtype \n",
      "---  ------  --------------  ----- \n",
      " 0   title   1000 non-null   object\n",
      " 1   lprice  1000 non-null   object\n",
      " 2   link    1000 non-null   object\n",
      " 3   mall    1000 non-null   object\n",
      "dtypes: object(4)\n",
      "memory usage: 39.1+ KB\n"
     ]
    }
   ],
   "source": [
    "result_mol.info()"
   ]
  },
  {
   "cell_type": "markdown",
   "id": "affae657",
   "metadata": {},
   "source": [
    "- index가 맞지 않다"
   ]
  },
  {
   "cell_type": "code",
   "execution_count": 23,
   "id": "1ff986e3",
   "metadata": {},
   "outputs": [
    {
     "name": "stdout",
     "output_type": "stream",
     "text": [
      "<class 'pandas.core.frame.DataFrame'>\n",
      "RangeIndex: 1000 entries, 0 to 999\n",
      "Data columns (total 4 columns):\n",
      " #   Column  Non-Null Count  Dtype \n",
      "---  ------  --------------  ----- \n",
      " 0   title   1000 non-null   object\n",
      " 1   lprice  1000 non-null   object\n",
      " 2   link    1000 non-null   object\n",
      " 3   mall    1000 non-null   object\n",
      "dtypes: object(4)\n",
      "memory usage: 31.4+ KB\n"
     ]
    }
   ],
   "source": [
    "result_mol.reset_index(drop=True, inplace=True)\n",
    "result_mol.info()"
   ]
  },
  {
   "cell_type": "markdown",
   "id": "6642a0dc",
   "metadata": {},
   "source": [
    "- index가 제대로 정렬되었다"
   ]
  },
  {
   "cell_type": "code",
   "execution_count": 24,
   "id": "7f99e5c3",
   "metadata": {},
   "outputs": [
    {
     "data": {
      "text/html": [
       "<div>\n",
       "<style scoped>\n",
       "    .dataframe tbody tr th:only-of-type {\n",
       "        vertical-align: middle;\n",
       "    }\n",
       "\n",
       "    .dataframe tbody tr th {\n",
       "        vertical-align: top;\n",
       "    }\n",
       "\n",
       "    .dataframe thead th {\n",
       "        text-align: right;\n",
       "    }\n",
       "</style>\n",
       "<table border=\"1\" class=\"dataframe\">\n",
       "  <thead>\n",
       "    <tr style=\"text-align: right;\">\n",
       "      <th></th>\n",
       "      <th>title</th>\n",
       "      <th>lprice</th>\n",
       "      <th>link</th>\n",
       "      <th>mall</th>\n",
       "    </tr>\n",
       "  </thead>\n",
       "  <tbody>\n",
       "    <tr>\n",
       "      <th>0</th>\n",
       "      <td>한정판 몰스킨 2022 피너츠 위클리 다이어리 포켓</td>\n",
       "      <td>29810</td>\n",
       "      <td>https://search.shopping.naver.com/gate.nhn?id=...</td>\n",
       "      <td>네이버</td>\n",
       "    </tr>\n",
       "    <tr>\n",
       "      <th>1</th>\n",
       "      <td>몰스킨 2022 해리포터 데일리 다이어리 포캣</td>\n",
       "      <td>30060</td>\n",
       "      <td>https://search.shopping.naver.com/gate.nhn?id=...</td>\n",
       "      <td>네이버</td>\n",
       "    </tr>\n",
       "    <tr>\n",
       "      <th>2</th>\n",
       "      <td>몰스킨 2022 다이어리 데일리 위클리 포켓 고급 명품 감성 휴대용 여자 각인 해리포터</td>\n",
       "      <td>26800</td>\n",
       "      <td>https://search.shopping.naver.com/gate.nhn?id=...</td>\n",
       "      <td>에코펜</td>\n",
       "    </tr>\n",
       "    <tr>\n",
       "      <th>3</th>\n",
       "      <td>몰스킨 클래식 노트 소프트커버 도트 포켓 머틀그린</td>\n",
       "      <td>18810</td>\n",
       "      <td>https://search.shopping.naver.com/gate.nhn?id=...</td>\n",
       "      <td>네이버</td>\n",
       "    </tr>\n",
       "    <tr>\n",
       "      <th>4</th>\n",
       "      <td>몰스킨 클래식노트 플레인 하드 L</td>\n",
       "      <td>19930</td>\n",
       "      <td>https://search.shopping.naver.com/gate.nhn?id=...</td>\n",
       "      <td>네이버</td>\n",
       "    </tr>\n",
       "  </tbody>\n",
       "</table>\n",
       "</div>"
      ],
      "text/plain": [
       "                                              title lprice  \\\n",
       "0                      한정판 몰스킨 2022 피너츠 위클리 다이어리 포켓  29810   \n",
       "1                         몰스킨 2022 해리포터 데일리 다이어리 포캣  30060   \n",
       "2  몰스킨 2022 다이어리 데일리 위클리 포켓 고급 명품 감성 휴대용 여자 각인 해리포터  26800   \n",
       "3                       몰스킨 클래식 노트 소프트커버 도트 포켓 머틀그린  18810   \n",
       "4                                몰스킨 클래식노트 플레인 하드 L  19930   \n",
       "\n",
       "                                                link mall  \n",
       "0  https://search.shopping.naver.com/gate.nhn?id=...  네이버  \n",
       "1  https://search.shopping.naver.com/gate.nhn?id=...  네이버  \n",
       "2  https://search.shopping.naver.com/gate.nhn?id=...  에코펜  \n",
       "3  https://search.shopping.naver.com/gate.nhn?id=...  네이버  \n",
       "4  https://search.shopping.naver.com/gate.nhn?id=...  네이버  "
      ]
     },
     "execution_count": 24,
     "metadata": {},
     "output_type": "execute_result"
    }
   ],
   "source": [
    "result_mol.head()"
   ]
  },
  {
   "cell_type": "code",
   "execution_count": 25,
   "id": "19f8eab7",
   "metadata": {},
   "outputs": [
    {
     "data": {
      "text/html": [
       "<div>\n",
       "<style scoped>\n",
       "    .dataframe tbody tr th:only-of-type {\n",
       "        vertical-align: middle;\n",
       "    }\n",
       "\n",
       "    .dataframe tbody tr th {\n",
       "        vertical-align: top;\n",
       "    }\n",
       "\n",
       "    .dataframe thead th {\n",
       "        text-align: right;\n",
       "    }\n",
       "</style>\n",
       "<table border=\"1\" class=\"dataframe\">\n",
       "  <thead>\n",
       "    <tr style=\"text-align: right;\">\n",
       "      <th></th>\n",
       "      <th>title</th>\n",
       "      <th>lprice</th>\n",
       "      <th>link</th>\n",
       "      <th>mall</th>\n",
       "    </tr>\n",
       "  </thead>\n",
       "  <tbody>\n",
       "    <tr>\n",
       "      <th>995</th>\n",
       "      <td>몰스킨 볼란트 플레인 노트북/파우더 블루 P (몰스킨)</td>\n",
       "      <td>16500</td>\n",
       "      <td>https://search.shopping.naver.com/gate.nhn?id=...</td>\n",
       "      <td>교보핫트랙스</td>\n",
       "    </tr>\n",
       "    <tr>\n",
       "      <th>996</th>\n",
       "      <td>몰스킨 [에버노트]스케치북/블랙 하드 L (몰스킨)</td>\n",
       "      <td>46200</td>\n",
       "      <td>https://search.shopping.naver.com/gate.nhn?id=...</td>\n",
       "      <td>교보핫트랙스</td>\n",
       "    </tr>\n",
       "    <tr>\n",
       "      <th>997</th>\n",
       "      <td>몰스킨 T 클래식 프로 디바이스 백(세로)/블랙 15</td>\n",
       "      <td>199000</td>\n",
       "      <td>https://search.shopping.naver.com/gate.nhn?id=...</td>\n",
       "      <td>교보핫트랙스</td>\n",
       "    </tr>\n",
       "    <tr>\n",
       "      <th>998</th>\n",
       "      <td>몰스킨 아트 컬렉션 스케치북 하드커버 미디움 스칼렛레드</td>\n",
       "      <td>27000</td>\n",
       "      <td>https://search.shopping.naver.com/gate.nhn?id=...</td>\n",
       "      <td>펜샵코리아</td>\n",
       "    </tr>\n",
       "    <tr>\n",
       "      <th>999</th>\n",
       "      <td>몰스킨 W 볼펜 리필/블루 1.0mm</td>\n",
       "      <td>5500</td>\n",
       "      <td>https://search.shopping.naver.com/gate.nhn?id=...</td>\n",
       "      <td>교보핫트랙스</td>\n",
       "    </tr>\n",
       "  </tbody>\n",
       "</table>\n",
       "</div>"
      ],
      "text/plain": [
       "                              title  lprice  \\\n",
       "995  몰스킨 볼란트 플레인 노트북/파우더 블루 P (몰스킨)   16500   \n",
       "996    몰스킨 [에버노트]스케치북/블랙 하드 L (몰스킨)   46200   \n",
       "997   몰스킨 T 클래식 프로 디바이스 백(세로)/블랙 15  199000   \n",
       "998  몰스킨 아트 컬렉션 스케치북 하드커버 미디움 스칼렛레드   27000   \n",
       "999            몰스킨 W 볼펜 리필/블루 1.0mm    5500   \n",
       "\n",
       "                                                  link    mall  \n",
       "995  https://search.shopping.naver.com/gate.nhn?id=...  교보핫트랙스  \n",
       "996  https://search.shopping.naver.com/gate.nhn?id=...  교보핫트랙스  \n",
       "997  https://search.shopping.naver.com/gate.nhn?id=...  교보핫트랙스  \n",
       "998  https://search.shopping.naver.com/gate.nhn?id=...   펜샵코리아  \n",
       "999  https://search.shopping.naver.com/gate.nhn?id=...  교보핫트랙스  "
      ]
     },
     "execution_count": 25,
     "metadata": {},
     "output_type": "execute_result"
    }
   ],
   "source": [
    "result_mol.tail()"
   ]
  },
  {
   "cell_type": "code",
   "execution_count": 26,
   "id": "cd567480",
   "metadata": {},
   "outputs": [
    {
     "name": "stdout",
     "output_type": "stream",
     "text": [
      "<class 'pandas.core.frame.DataFrame'>\n",
      "RangeIndex: 1000 entries, 0 to 999\n",
      "Data columns (total 4 columns):\n",
      " #   Column  Non-Null Count  Dtype  \n",
      "---  ------  --------------  -----  \n",
      " 0   title   1000 non-null   object \n",
      " 1   lprice  1000 non-null   float64\n",
      " 2   link    1000 non-null   object \n",
      " 3   mall    1000 non-null   object \n",
      "dtypes: float64(1), object(3)\n",
      "memory usage: 31.4+ KB\n"
     ]
    }
   ],
   "source": [
    "result_mol['lprice'] = result_mol['lprice'].astype('float')\n",
    "result_mol.info()"
   ]
  },
  {
   "cell_type": "markdown",
   "id": "e477b482",
   "metadata": {},
   "source": [
    "- 가격은 숫자형으로 바꾸어준다"
   ]
  },
  {
   "cell_type": "markdown",
   "id": "1db9d352",
   "metadata": {},
   "source": [
    "### (5) toExcel(Export to Excel)"
   ]
  },
  {
   "cell_type": "code",
   "execution_count": 29,
   "id": "36de0ae5",
   "metadata": {},
   "outputs": [],
   "source": [
    "import xlsxwriter\n",
    "\n",
    "writer = pd.ExcelWriter('../data/06_molskin_diary_in_naver_shop.xlsx', engine='xlsxwriter')\n",
    "result_mol.to_excel(writer, sheet_name='Sheet1')\n",
    "\n",
    "workbook = writer.book\n",
    "worksheet = writer.sheets['Sheet1']\n",
    "worksheet.set_column('A:A', 4)\n",
    "worksheet.set_column('B:B', 60)\n",
    "worksheet.set_column('C:C', 10)\n",
    "worksheet.set_column('D:D', 10)\n",
    "worksheet.set_column('E:E', 50)\n",
    "worksheet.set_column('F:F', 10)\n",
    "\n",
    "worksheet.conditional_format('C2:C1001', {'type': '3_color_scale'})\n",
    "writer.save()"
   ]
  },
  {
   "cell_type": "markdown",
   "id": "c89dde84",
   "metadata": {},
   "source": [
    "- pip install xlsxwriter\n",
    "- ds_study/data 폴더에 저장"
   ]
  },
  {
   "cell_type": "markdown",
   "id": "ec9b5c18",
   "metadata": {},
   "source": [
    "### 시각화"
   ]
  },
  {
   "cell_type": "code",
   "execution_count": 33,
   "id": "faa1f08c",
   "metadata": {},
   "outputs": [],
   "source": [
    "import set_matplotlib_hangul"
   ]
  },
  {
   "cell_type": "code",
   "execution_count": 34,
   "id": "ebdb1e02",
   "metadata": {},
   "outputs": [
    {
     "name": "stderr",
     "output_type": "stream",
     "text": [
      "C:\\Users\\seonwook\\miniconda3\\envs\\ds_study\\lib\\site-packages\\seaborn\\_decorators.py:36: FutureWarning: Pass the following variable as a keyword arg: x. From version 0.12, the only valid positional argument will be `data`, and passing other arguments without an explicit keyword will result in an error or misinterpretation.\n",
      "  warnings.warn(\n"
     ]
    },
    {
     "data": {
      "image/png": "[encoded data removed]",
      "text/plain": [
       "<Figure size 1080x432 with 1 Axes>"
      ]
     },
     "metadata": {
      "needs_background": "light"
     },
     "output_type": "display_data"
    }
   ],
   "source": [
    "plt.figure(figsize=(15, 6))\n",
    "sns.countplot(\n",
    "    result_mol['mall'],\n",
    "    data=result_mol,\n",
    "    palette='RdYlGn',\n",
    "    order=result_mol['mall'].value_counts().index\n",
    ")\n",
    "plt.xticks(rotation=90)\n",
    "plt.show()"
   ]
  },
  {
   "cell_type": "markdown",
   "id": "60d70cb7",
   "metadata": {},
   "source": [
    "- 몰스킨 노트 판매자 조회"
   ]
  },
  {
   "cell_type": "code",
   "execution_count": null,
   "id": "f16b4b82",
   "metadata": {},
   "outputs": [],
   "source": []
  }
 ],
 "metadata": {
  "kernelspec": {
   "display_name": "Python 3 (ipykernel)",
   "language": "python",
   "name": "python3"
  },
  "language_info": {
   "codemirror_mode": {
    "name": "ipython",
    "version": 3
   },
   "file_extension": ".py",
   "mimetype": "text/x-python",
   "name": "python",
   "nbconvert_exporter": "python",
   "pygments_lexer": "ipython3",
   "version": "3.7.0"
  }
 },
 "nbformat": 4,
 "nbformat_minor": 5
}
