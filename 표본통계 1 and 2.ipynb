{
 "cells": [
  {
   "cell_type": "code",
   "execution_count": 1,
   "id": "9544a385",
   "metadata": {},
   "outputs": [],
   "source": [
    "import numpy as np\n",
    "import pandas as pd\n",
    "import scipy as sp\n",
    "from scipy import stats\n",
    "\n",
    "from matplotlib import pyplot as plt\n",
    "import seaborn as sns\n",
    "%matplotlib inline"
   ]
  },
  {
   "cell_type": "markdown",
   "id": "f77b1b9e",
   "metadata": {},
   "source": [
    "#### 평균 4, 표준편차 0.8인 정규분포를 따르는 모집자"
   ]
  },
  {
   "cell_type": "code",
   "execution_count": 2,
   "id": "4a34e7d3",
   "metadata": {},
   "outputs": [
    {
     "data": {
      "text/plain": [
       "scipy.stats._distn_infrastructure.rv_frozen"
      ]
     },
     "execution_count": 2,
     "metadata": {},
     "output_type": "execute_result"
    }
   ],
   "source": [
    "population = stats.norm(loc = 4, scale = 0.8)\n",
    "type(population)"
   ]
  },
  {
   "cell_type": "markdown",
   "id": "fcf51b60",
   "metadata": {},
   "source": [
    "#### 표본평균을 10000개 얻는 코드"
   ]
  },
  {
   "cell_type": "code",
   "execution_count": 3,
   "id": "12e463d6",
   "metadata": {},
   "outputs": [],
   "source": [
    "sample_mean_array = np.zeros(10000)\n",
    "np.random.seed(13)\n",
    "for i in range(0, 10000):\n",
    "    sample = population.rvs(size=10)\n",
    "    sample_mean_array[i] = np.mean(sample)"
   ]
  },
  {
   "cell_type": "code",
   "execution_count": 4,
   "id": "3d926167",
   "metadata": {},
   "outputs": [
    {
     "data": {
      "text/plain": [
       "array([4.3976666 , 4.18857764, 3.8425394 , ..., 4.12495865, 4.12127892,\n",
       "       4.05054023])"
      ]
     },
     "execution_count": 4,
     "metadata": {},
     "output_type": "execute_result"
    }
   ],
   "source": [
    "sample_mean_array"
   ]
  },
  {
   "cell_type": "code",
   "execution_count": 5,
   "id": "fc9f70d6",
   "metadata": {},
   "outputs": [
    {
     "data": {
      "text/plain": [
       "array([3.33677644, 4.79394837, 4.36255655, 3.90214059, 3.64102224,\n",
       "       4.75492204, 3.42363925, 3.729252  , 3.56047187, 3.90890456])"
      ]
     },
     "execution_count": 5,
     "metadata": {},
     "output_type": "execute_result"
    }
   ],
   "source": [
    "population.rvs(size=10)"
   ]
  },
  {
   "cell_type": "code",
   "execution_count": 6,
   "id": "ecf7402e",
   "metadata": {},
   "outputs": [
    {
     "data": {
      "text/plain": [
       "array([0., 0., 0., 0., 0., 0., 0., 0., 0., 0.])"
      ]
     },
     "execution_count": 6,
     "metadata": {},
     "output_type": "execute_result"
    }
   ],
   "source": [
    "np.zeros(10)"
   ]
  },
  {
   "cell_type": "markdown",
   "id": "efda85ee",
   "metadata": {},
   "source": [
    "#### 표본평균은 모집단의 평균과 유사하다"
   ]
  },
  {
   "cell_type": "code",
   "execution_count": 7,
   "id": "6b504532",
   "metadata": {},
   "outputs": [
    {
     "data": {
      "text/plain": [
       "4.003651723722899"
      ]
     },
     "execution_count": 7,
     "metadata": {},
     "output_type": "execute_result"
    }
   ],
   "source": [
    "np.mean(sample_mean_array)"
   ]
  },
  {
   "cell_type": "markdown",
   "id": "51779b1d",
   "metadata": {},
   "source": [
    "#### 표본평균의 표준편차는 차이가 많이 난다 "
   ]
  },
  {
   "cell_type": "code",
   "execution_count": 8,
   "id": "f6076a9f",
   "metadata": {},
   "outputs": [
    {
     "data": {
      "text/plain": [
       "0.25328735533634056"
      ]
     },
     "execution_count": 8,
     "metadata": {},
     "output_type": "execute_result"
    }
   ],
   "source": [
    "np.std(sample_mean_array, ddof=0)"
   ]
  },
  {
   "cell_type": "code",
   "execution_count": 9,
   "id": "c92c4bec",
   "metadata": {},
   "outputs": [
    {
     "data": {
      "text/plain": [
       "0.25330002065401414"
      ]
     },
     "execution_count": 9,
     "metadata": {},
     "output_type": "execute_result"
    }
   ],
   "source": [
    "np.std(sample_mean_array, ddof=1)"
   ]
  },
  {
   "cell_type": "markdown",
   "id": "6e9cf72d",
   "metadata": {},
   "source": [
    "#### 표본평균의 히스토그램"
   ]
  },
  {
   "cell_type": "code",
   "execution_count": 10,
   "id": "fc8f4f52",
   "metadata": {},
   "outputs": [
    {
     "data": {
      "text/plain": [
       "<seaborn.axisgrid.FacetGrid at 0x1cfcf457c70>"
      ]
     },
     "execution_count": 10,
     "metadata": {},
     "output_type": "execute_result"
    },
    {
     "data": {
      "image/png": "[encoded data removed]",
      "text/plain": [
       "<Figure size 360x360 with 1 Axes>"
      ]
     },
     "metadata": {
      "needs_background": "light"
     },
     "output_type": "display_data"
    }
   ],
   "source": [
    "sns.displot(sample_mean_array, color = 'black', kde=True)"
   ]
  },
  {
   "cell_type": "markdown",
   "id": "bc2ec656",
   "metadata": {},
   "source": [
    "#### 샘플사이즈를 다양하게 만들고"
   ]
  },
  {
   "cell_type": "code",
   "execution_count": 11,
   "id": "027c17c5",
   "metadata": {},
   "outputs": [],
   "source": [
    "size_array = np.arange(10, 100100, 100)\n",
    "sample_mean_array_size = np.zeros(len(size_array))\n",
    "\n",
    "np.random.seed(13)\n",
    "for i in range(0, len(size_array)):\n",
    "    sample = population.rvs(size=size_array[i])\n",
    "    sample_mean_array_size[i] = np.mean(sample)"
   ]
  },
  {
   "cell_type": "markdown",
   "id": "1646d192",
   "metadata": {},
   "source": [
    "#### 샘플사이즈가 커지면 모집단의 평균인 4에 근접해간다"
   ]
  },
  {
   "cell_type": "code",
   "execution_count": 12,
   "id": "e3cf3fce",
   "metadata": {},
   "outputs": [
    {
     "data": {
      "image/png": "[encoded data removed]",
      "text/plain": [
       "<Figure size 432x288 with 1 Axes>"
      ]
     },
     "metadata": {
      "needs_background": "light"
     },
     "output_type": "display_data"
    }
   ],
   "source": [
    "plt.plot(size_array, sample_mean_array_size, color='black', lw=0.5)\n",
    "plt.xlabel('sample size')\n",
    "plt.ylabel('sample mean')\n",
    "plt.hlines(4, 0, 100000, color='red', lw=5, linestyles='dashed')\n",
    "plt.show()"
   ]
  },
  {
   "cell_type": "markdown",
   "id": "60533e98",
   "metadata": {},
   "source": [
    "#### 평균을 계산하는 함수"
   ]
  },
  {
   "cell_type": "code",
   "execution_count": 13,
   "id": "42783ea7",
   "metadata": {},
   "outputs": [],
   "source": [
    "def calc_sample_mean(size, n_trial):\n",
    "    sample_mean_array = np.zeros(n_trial)\n",
    "    for i in range(0, n_trial):\n",
    "        sample = population.rvs(size=size)\n",
    "        sample_mean_array[i] = np.mean(sample)\n",
    "    return(sample_mean_array)"
   ]
  },
  {
   "cell_type": "code",
   "execution_count": 14,
   "id": "153ac5a7",
   "metadata": {},
   "outputs": [
    {
     "data": {
      "text/plain": [
       "array([  2,   4,   6,   8,  10,  12,  14,  16,  18,  20,  22,  24,  26,\n",
       "        28,  30,  32,  34,  36,  38,  40,  42,  44,  46,  48,  50,  52,\n",
       "        54,  56,  58,  60,  62,  64,  66,  68,  70,  72,  74,  76,  78,\n",
       "        80,  82,  84,  86,  88,  90,  92,  94,  96,  98, 100])"
      ]
     },
     "execution_count": 14,
     "metadata": {},
     "output_type": "execute_result"
    }
   ],
   "source": [
    "size_array = np.arange(2, 102, 2)\n",
    "size_array"
   ]
  },
  {
   "cell_type": "markdown",
   "id": "0ee629ff",
   "metadata": {},
   "source": [
    "#### 샘플 사이즈 별로 표준편차 계산"
   ]
  },
  {
   "cell_type": "code",
   "execution_count": 15,
   "id": "793625ed",
   "metadata": {},
   "outputs": [],
   "source": [
    "sample_mean_std_array = np.zeros(len(size_array))\n",
    "np.random.seed(13)\n",
    "\n",
    "for i in range(0, len(size_array)):\n",
    "    sample_mean = calc_sample_mean(size=size_array[i], n_trial=100)\n",
    "    sample_mean_std_array[i] = np.std(sample_mean, ddof=1)"
   ]
  },
  {
   "cell_type": "markdown",
   "id": "218a299b",
   "metadata": {},
   "source": [
    "#### 샘플이 많아지면 평균의 표준편차가 작아짐"
   ]
  },
  {
   "cell_type": "code",
   "execution_count": 16,
   "id": "b550d569",
   "metadata": {},
   "outputs": [
    {
     "data": {
      "text/plain": [
       "Text(0, 0.5, 'mean_std value')"
      ]
     },
     "execution_count": 16,
     "metadata": {},
     "output_type": "execute_result"
    },
    {
     "data": {
      "image/png": "[encoded data removed]",
      "text/plain": [
       "<Figure size 432x288 with 1 Axes>"
      ]
     },
     "metadata": {
      "needs_background": "light"
     },
     "output_type": "display_data"
    }
   ],
   "source": [
    "plt.plot(size_array, sample_mean_std_array, color='black')\n",
    "plt.xlabel('sample size')\n",
    "plt.ylabel('mean_std value')"
   ]
  },
  {
   "cell_type": "markdown",
   "id": "73dc68a3",
   "metadata": {},
   "source": [
    "---"
   ]
  },
  {
   "cell_type": "markdown",
   "id": "421f8ab1",
   "metadata": {},
   "source": [
    "#### 표준오차 공식을 적용"
   ]
  },
  {
   "cell_type": "code",
   "execution_count": 17,
   "id": "1ca0a345",
   "metadata": {},
   "outputs": [
    {
     "data": {
      "text/plain": [
       "array([0.56568542, 0.4       , 0.32659863, 0.28284271, 0.25298221,\n",
       "       0.23094011, 0.21380899, 0.2       , 0.18856181, 0.17888544,\n",
       "       0.17056057, 0.16329932, 0.15689291, 0.15118579, 0.14605935,\n",
       "       0.14142136, 0.13719887, 0.13333333, 0.12977714, 0.12649111,\n",
       "       0.12344268, 0.12060454, 0.11795356, 0.11547005, 0.11313708,\n",
       "       0.11094004, 0.10886621, 0.1069045 , 0.10504515, 0.10327956,\n",
       "       0.1016001 , 0.1       , 0.09847319, 0.09701425, 0.09561829,\n",
       "       0.0942809 , 0.09299811, 0.09176629, 0.09058216, 0.08944272,\n",
       "       0.08834522, 0.08728716, 0.08626622, 0.08528029, 0.0843274 ,\n",
       "       0.08340577, 0.0825137 , 0.08164966, 0.0808122 , 0.08      ])"
      ]
     },
     "execution_count": 17,
     "metadata": {},
     "output_type": "execute_result"
    }
   ],
   "source": [
    "SE = 0.8/np.sqrt(size_array)\n",
    "SE"
   ]
  },
  {
   "cell_type": "code",
   "execution_count": 18,
   "id": "b7438acf",
   "metadata": {},
   "outputs": [
    {
     "data": {
      "image/png": "[encoded data removed]",
      "text/plain": [
       "<Figure size 432x288 with 1 Axes>"
      ]
     },
     "metadata": {
      "needs_background": "light"
     },
     "output_type": "display_data"
    }
   ],
   "source": [
    "plt.plot(size_array, sample_mean_std_array, color='black')\n",
    "plt.plot(size_array, SE, color='red', ls='dotted')\n",
    "plt.xlabel('sample size')\n",
    "plt.ylabel('mean_std value')\n",
    "plt.show()"
   ]
  },
  {
   "cell_type": "markdown",
   "id": "dc24d03b",
   "metadata": {},
   "source": [
    "#### 표본분산의 평균값은 모분산과 차이가 있다"
   ]
  },
  {
   "cell_type": "code",
   "execution_count": 19,
   "id": "c746ccc9",
   "metadata": {},
   "outputs": [
    {
     "data": {
      "text/plain": [
       "0.5792337629333761"
      ]
     },
     "execution_count": 19,
     "metadata": {},
     "output_type": "execute_result"
    }
   ],
   "source": [
    "sample_var_array = np.zeros(10000)\n",
    "np.random.seed(13)\n",
    "for i in range(0, 10000):\n",
    "    sample = population.rvs(size=10)\n",
    "    sample_var_array[i] = np.var(sample, ddof=0)\n",
    "    \n",
    "np.mean(sample_var_array)"
   ]
  },
  {
   "cell_type": "markdown",
   "id": "7bfad374",
   "metadata": {},
   "source": [
    "#### 불편분산을 사용하면 일부 극복할 수 있다"
   ]
  },
  {
   "cell_type": "code",
   "execution_count": 20,
   "id": "2b58ae51",
   "metadata": {},
   "outputs": [
    {
     "data": {
      "text/plain": [
       "0.6367506890584265"
      ]
     },
     "execution_count": 20,
     "metadata": {},
     "output_type": "execute_result"
    }
   ],
   "source": [
    "unbias_var_array = np.zeros(10000)\n",
    "np.random.seed(12)\n",
    "for i in range(0, 10000):\n",
    "    sample = population.rvs(size=10)\n",
    "    unbias_var_array[i] = np.var(sample, ddof=1)\n",
    "    \n",
    "np.mean(unbias_var_array)"
   ]
  },
  {
   "cell_type": "markdown",
   "id": "537f873c",
   "metadata": {},
   "source": [
    "#### 다양한 크기의 샘플을 준비"
   ]
  },
  {
   "cell_type": "code",
   "execution_count": 21,
   "id": "4b2f09b7",
   "metadata": {},
   "outputs": [
    {
     "data": {
      "text/plain": [
       "array([    10,    110,    210, ...,  99810,  99910, 100010])"
      ]
     },
     "execution_count": 21,
     "metadata": {},
     "output_type": "execute_result"
    }
   ],
   "source": [
    "size_array = np.arange(10, 100100, 100)\n",
    "size_array"
   ]
  },
  {
   "cell_type": "markdown",
   "id": "8eeb4417",
   "metadata": {},
   "source": [
    "#### 불편분산을 샘플 크기마다 구하고"
   ]
  },
  {
   "cell_type": "code",
   "execution_count": 22,
   "id": "11ad2647",
   "metadata": {},
   "outputs": [],
   "source": [
    "unbias_var_array_size = np.zeros(len(size_array))\n",
    "np.random.seed(13)\n",
    "for i in range(0, len(size_array)):\n",
    "    sample = population.rvs(size=size_array[i])\n",
    "    unbias_var_array_size[i] = np.var(sample, ddof=1)"
   ]
  },
  {
   "cell_type": "markdown",
   "id": "038564a5",
   "metadata": {},
   "source": [
    "#### 샘플이 커지면 분산이 모집단에 가까워진다"
   ]
  },
  {
   "cell_type": "code",
   "execution_count": 28,
   "id": "f54f3d56",
   "metadata": {},
   "outputs": [
    {
     "data": {
      "image/png": "[encoded data removed]",
      "text/plain": [
       "<Figure size 432x288 with 1 Axes>"
      ]
     },
     "metadata": {
      "needs_background": "light"
     },
     "output_type": "display_data"
    }
   ],
   "source": [
    "plt.plot(size_array, unbias_var_array_size, color='black', lw=0.5)\n",
    "plt.xlabel('sample size')\n",
    "plt.ylabel('unbias var')\n",
    "plt.hlines(0.64, 0, 100000, color='red', lw=5)\n",
    "plt.show()"
   ]
  }
 ],
 "metadata": {
  "kernelspec": {
   "display_name": "Python 3 (ipykernel)",
   "language": "python",
   "name": "python3"
  },
  "language_info": {
   "codemirror_mode": {
    "name": "ipython",
    "version": 3
   },
   "file_extension": ".py",
   "mimetype": "text/x-python",
   "name": "python",
   "nbconvert_exporter": "python",
   "pygments_lexer": "ipython3",
   "version": "3.9.7"
  }
 },
 "nbformat": 4,
 "nbformat_minor": 5
}
